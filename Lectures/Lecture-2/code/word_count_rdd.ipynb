{
 "cells": [
  {
   "cell_type": "markdown",
   "metadata": {},
   "source": [
    "# Spark - Word Count Example in Jupyter Notebook"
   ]
  },
  {
   "cell_type": "code",
   "execution_count": 10,
   "metadata": {},
   "outputs": [
    {
     "data": {
      "text/html": [
       "\n",
       "        <div>\n",
       "            <p><b>SparkContext</b></p>\n",
       "\n",
       "            <p><a href=\"http://MININT-ML502OK.mshome.net:4040\">Spark UI</a></p>\n",
       "\n",
       "            <dl>\n",
       "              <dt>Version</dt>\n",
       "                <dd><code>v3.5.0</code></dd>\n",
       "              <dt>Master</dt>\n",
       "                <dd><code>local</code></dd>\n",
       "              <dt>AppName</dt>\n",
       "                <dd><code>WordCount</code></dd>\n",
       "            </dl>\n",
       "        </div>\n",
       "        "
      ],
      "text/plain": [
       "<SparkContext master=local appName=WordCount>"
      ]
     },
     "execution_count": 10,
     "metadata": {},
     "output_type": "execute_result"
    }
   ],
   "source": [
    "from pyspark import SparkContext\n",
    "sc = SparkContext(\"local\", \"WordCount\")\n",
    "sc"
   ]
  },
  {
   "cell_type": "code",
   "execution_count": 11,
   "metadata": {},
   "outputs": [
    {
     "data": {
      "text/plain": [
       "'The Project Gutenberg EBook of Alice’s Adventures in Wonderland, by Lewis Carroll'"
      ]
     },
     "execution_count": 11,
     "metadata": {},
     "output_type": "execute_result"
    }
   ],
   "source": [
    "# Read text data and create an RDD\n",
    "lines = sc.textFile(\"..\\data\\Alices-Adventures-in-Wonderland-by-Lewis-Carroll.txt.bz2\")\n",
    "\n",
    "# First line is the header. \n",
    "lines.first()"
   ]
  },
  {
   "cell_type": "code",
   "execution_count": 3,
   "metadata": {},
   "outputs": [
    {
     "data": {
      "text/plain": [
       "['The Project Gutenberg EBook of Alice’s Adventures in Wonderland, by Lewis Carroll',\n",
       " '',\n",
       " 'This eBook is for the use of anyone anywhere in the United States and most',\n",
       " 'other parts of the world at no cost and with almost no restrictions',\n",
       " 'whatsoever.  You may copy it, give it away or re-use it under the terms of']"
      ]
     },
     "execution_count": 3,
     "metadata": {},
     "output_type": "execute_result"
    }
   ],
   "source": [
    "lines.take(5)"
   ]
  },
  {
   "cell_type": "code",
   "execution_count": 4,
   "metadata": {},
   "outputs": [
    {
     "data": {
      "text/plain": [
       "['The',\n",
       " 'Project',\n",
       " 'Gutenberg',\n",
       " 'EBook',\n",
       " 'of',\n",
       " 'Alice’s',\n",
       " 'Adventures',\n",
       " 'in',\n",
       " 'Wonderland,',\n",
       " 'by']"
      ]
     },
     "execution_count": 4,
     "metadata": {},
     "output_type": "execute_result"
    }
   ],
   "source": [
    "# Tokenize into words\n",
    "words = lines.flatMap(lambda line: line.split(\" \"))\n",
    "\n",
    "# Check the results \n",
    "words.take(10)"
   ]
  },
  {
   "cell_type": "code",
   "execution_count": 5,
   "metadata": {},
   "outputs": [
    {
     "data": {
      "text/plain": [
       "[('The', 1),\n",
       " ('Project', 1),\n",
       " ('Gutenberg', 1),\n",
       " ('EBook', 1),\n",
       " ('of', 1),\n",
       " ('Alice’s', 1),\n",
       " ('Adventures', 1),\n",
       " ('in', 1),\n",
       " ('Wonderland,', 1),\n",
       " ('by', 1),\n",
       " ('Lewis', 1),\n",
       " ('Carroll', 1),\n",
       " ('', 1),\n",
       " ('This', 1),\n",
       " ('eBook', 1),\n",
       " ('is', 1),\n",
       " ('for', 1),\n",
       " ('the', 1),\n",
       " ('use', 1),\n",
       " ('of', 1)]"
      ]
     },
     "execution_count": 5,
     "metadata": {},
     "output_type": "execute_result"
    }
   ],
   "source": [
    "# Perform word mapping\n",
    "word_counts = words.map(lambda word: (word, 1))    \n",
    "\n",
    "# Check word mapping results\n",
    "word_counts.take(20)"
   ]
  },
  {
   "cell_type": "code",
   "execution_count": 6,
   "metadata": {},
   "outputs": [
    {
     "data": {
      "text/plain": [
       "[('The', 107),\n",
       " ('Project', 79),\n",
       " ('Gutenberg', 21),\n",
       " ('EBook', 1),\n",
       " ('of', 604),\n",
       " ('Alice’s', 14),\n",
       " ('Adventures', 5),\n",
       " ('in', 408),\n",
       " ('Wonderland,', 3),\n",
       " ('by', 81),\n",
       " ('Lewis', 4),\n",
       " ('Carroll', 4),\n",
       " ('', 1624),\n",
       " ('This', 20),\n",
       " ('eBook', 5),\n",
       " ('is', 86),\n",
       " ('for', 146),\n",
       " ('the', 1682),\n",
       " ('use', 24),\n",
       " ('anyone', 4)]"
      ]
     },
     "execution_count": 6,
     "metadata": {},
     "output_type": "execute_result"
    }
   ],
   "source": [
    "# Perform word reducing\n",
    "word_counts = word_counts.reduceByKey(lambda a, b: a + b)    \n",
    "\n",
    "# Check word reducing results\n",
    "word_counts.take(20)"
   ]
  },
  {
   "cell_type": "markdown",
   "metadata": {},
   "source": [
    "# Get top 20 words "
   ]
  },
  {
   "cell_type": "code",
   "execution_count": 7,
   "metadata": {},
   "outputs": [
    {
     "data": {
      "text/plain": [
       "[('the', 1682),\n",
       " ('', 1624),\n",
       " ('and', 787),\n",
       " ('to', 778),\n",
       " ('a', 667),\n",
       " ('of', 604),\n",
       " ('she', 485),\n",
       " ('said', 416),\n",
       " ('in', 408),\n",
       " ('it', 357),\n",
       " ('was', 329),\n",
       " ('you', 305),\n",
       " ('I', 249),\n",
       " ('as', 246),\n",
       " ('that', 226),\n",
       " ('Alice', 221),\n",
       " ('with', 215),\n",
       " ('at', 209),\n",
       " ('her', 204),\n",
       " ('had', 176)]"
      ]
     },
     "execution_count": 7,
     "metadata": {},
     "output_type": "execute_result"
    }
   ],
   "source": [
    "# Take the top 20 used words\n",
    "top_20_word_counts = word_counts.top(20, lambda word: word[1])\n",
    "\n",
    "top_20_word_counts"
   ]
  },
  {
   "cell_type": "markdown",
   "metadata": {},
   "source": [
    "# Get bottom 20 words "
   ]
  },
  {
   "cell_type": "code",
   "execution_count": 8,
   "metadata": {},
   "outputs": [
    {
     "data": {
      "text/plain": [
       "[('EBook', 1),\n",
       " ('Title:', 1),\n",
       " ('Author:', 1),\n",
       " ('Release', 1),\n",
       " ('Date:', 1),\n",
       " ('June', 1),\n",
       " ('25,', 1),\n",
       " ('2008', 1),\n",
       " ('[EBook', 1),\n",
       " ('#11]', 1),\n",
       " ('[Most', 1),\n",
       " ('recently', 1),\n",
       " ('updated:', 1),\n",
       " ('October', 1),\n",
       " ('12,', 1),\n",
       " ('2020]', 1),\n",
       " ('Language:', 1),\n",
       " ('Character', 1),\n",
       " ('encoding:', 1),\n",
       " ('UTF-8', 1)]"
      ]
     },
     "execution_count": 8,
     "metadata": {},
     "output_type": "execute_result"
    }
   ],
   "source": [
    "# Take the bottom 20 used words\n",
    "bottom_20_word_counts = word_counts.takeOrdered(20, lambda word: word[1])\n",
    "\n",
    "bottom_20_word_counts"
   ]
  },
  {
   "cell_type": "code",
   "execution_count": 9,
   "metadata": {},
   "outputs": [],
   "source": [
    "# Stop Spark context\n",
    "sc.stop()"
   ]
  }
 ],
 "metadata": {
  "kernelspec": {
   "display_name": "Python 3",
   "language": "python",
   "name": "python3"
  },
  "language_info": {
   "codemirror_mode": {
    "name": "ipython",
    "version": 3
   },
   "file_extension": ".py",
   "mimetype": "text/x-python",
   "name": "python",
   "nbconvert_exporter": "python",
   "pygments_lexer": "ipython3",
   "version": "3.8.8"
  }
 },
 "nbformat": 4,
 "nbformat_minor": 2
}
