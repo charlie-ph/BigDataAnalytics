{
 "cells": [
  {
   "cell_type": "markdown",
   "metadata": {},
   "source": [
    "# Number Sequence \n",
    "Consider that we observed the following sequence of integer numbers 18, 22, 45, 49, 86. What is the next number? "
   ]
  },
  {
   "cell_type": "markdown",
   "metadata": {},
   "source": [
    "# Initialization"
   ]
  },
  {
   "cell_type": "code",
   "execution_count": 18,
   "metadata": {},
   "outputs": [],
   "source": [
    "from pyspark.sql import SparkSession\n",
    "import numpy as np\n",
    "import matplotlib.pyplot as plt\n",
    "spark = SparkSession \\\n",
    "    .builder \\\n",
    "    .appName(\"Python Spark Data Partitioning Example\") \\\n",
    "    .getOrCreate()\n",
    "sc = spark.sparkContext"
   ]
  },
  {
   "cell_type": "markdown",
   "metadata": {},
   "source": [
    "# Generate data"
   ]
  },
  {
   "cell_type": "code",
   "execution_count": 19,
   "metadata": {},
   "outputs": [
    {
     "data": {
      "image/png": "[encoded data removed]",
      "text/plain": [
       "<Figure size 640x480 with 1 Axes>"
      ]
     },
     "metadata": {},
     "output_type": "display_data"
    }
   ],
   "source": [
    "# Create number array\n",
    "num_arr = np.array([18, 22, 45, 49, 86])\n",
    "\n",
    "f = num_arr.copy()\n",
    "t = np.arange(1, num_arr.size + 1)\n",
    "plt.plot(t, f, 'o', markersize=2)\n",
    "plt.show()"
   ]
  },
  {
   "cell_type": "markdown",
   "metadata": {},
   "source": [
    "## Calculating the parameter m using sklearn. \n",
    "The fit() method returns an instance of the LinearRegression class, which contains the slope of the line in its coef_ attribute."
   ]
  },
  {
   "cell_type": "code",
   "execution_count": 20,
   "metadata": {},
   "outputs": [
    {
     "name": "stdout",
     "output_type": "stream",
     "text": [
      "[14.96363636]\n"
     ]
    }
   ],
   "source": [
    "from sklearn.linear_model import LinearRegression\n",
    "\n",
    "X = np.stack([t], axis=1)\n",
    "reg = LinearRegression(fit_intercept=False).fit(X, f)\n",
    "print(reg.coef_)"
   ]
  },
  {
   "cell_type": "markdown",
   "metadata": {},
   "source": [
    "## Calculating the parameter using linear algebra\n",
    "Calculate the coefficients of a linear regression model using the normal equation approach\n",
    "\n",
    "$$\n",
    "m = (X^T \\cdot X)^{-1} \\cdot X^T \\cdot f\n",
    "$$\n",
    "\n",
    "Where:\n",
    "- $m$ represents the estimated coefficients of the linear regression model.\n",
    "- $X$ is the matrix of input variables.\n",
    "- $X^T$ denotes the transpose of $X$.\n",
    "- $f$ is the vector of dependent variable values.\n",
    "- $(X^T \\cdot X)^{-1}$ represents the inverse of the matrix product $X^T \\cdot X$."
   ]
  },
  {
   "cell_type": "code",
   "execution_count": 21,
   "metadata": {},
   "outputs": [
    {
     "name": "stdout",
     "output_type": "stream",
     "text": [
      "[14.96363636]\n"
     ]
    }
   ],
   "source": [
    "# Let use solve this also with the exact linear algebra solution. \n",
    "m = np.linalg.inv(X.T.dot(X)).dot(X.T).dot(f)\n",
    "\n",
    "print(m)"
   ]
  },
  {
   "cell_type": "markdown",
   "metadata": {},
   "source": [
    "# Caculating the parameter m using Gradient Descent\n",
    "1. Calculate the prediction with current regression coefficients:\n",
    "   - Prediction: $f_{\\text{prediction}} = m_{\\text{current}} \\cdot t$\n",
    "\n",
    "2. Compute the cost (for monitoring purposes):\n",
    "   - Cost: $cost = \\sum (f - f_{\\text{prediction}})^2$\n",
    "\n",
    "3. Calculation of the gradient:\n",
    "   - Gradient: $m_{\\text{gradient}} = \\frac{-1}{n} \\sum (t \\cdot (f - f_{\\text{prediction}}))$\n",
    "\n",
    "4. Update of the regression coefficient:\n",
    "   - Updated coefficient: $m_{\\text{current}} = m_{\\text{current}} - \\text{learningRate} \\cdot m_{\\text{gradient}}$\n",
    "\n",
    "Here, the variable $n$ represents the number of data points in the dataset, $y$ is the dependent variable, $x_1$ is the independent variable, $m_{\\text{current}}$ is the current value of the coefficient, and $\\text{learningRate}$ is the learning rate (step size) used in the gradient descent algorithm."
   ]
  },
  {
   "cell_type": "code",
   "execution_count": 22,
   "metadata": {},
   "outputs": [
    {
     "name": "stdout",
     "output_type": "stream",
     "text": [
      "0 m =  0  Cost =  12630\n",
      "1 m =  0.0016460000000000003  Cost =  12627.29083301238\n",
      "2 m =  0.0032918189400000008  Cost =  12624.582262008718\n",
      "3 m =  0.004937456839916601  Cost =  12621.8742868579\n",
      "4 m =  0.00658291371966421  Cost =  12619.166907428851\n",
      "5 m =  0.008228189599155047  Cost =  12616.460123590516\n",
      "6 m =  0.009873284498299141  Cost =  12613.753935211871\n",
      "7 m =  0.011518198437004329  Cost =  12611.048342161928\n",
      "8 m =  0.013162931435176259  Cost =  12608.343344309718\n",
      "9 m =  0.01480748351271839  Cost =  12605.638941524305\n",
      "10 m =  0.016451854689531992  Cost =  12602.935133674779\n",
      "11 m =  0.018096044985516143  Cost =  12600.231920630267\n",
      "12 m =  0.019740054420567737  Cost =  12597.529302259916\n",
      "13 m =  0.021383883014581474  Cost =  12594.827278432902\n",
      "14 m =  0.02302753078744987  Cost =  12592.125849018437\n",
      "15 m =  0.02467099775906325  Cost =  12589.425013885757\n",
      "16 m =  0.026314283949309753  Cost =  12586.724772904123\n",
      "17 m =  0.02795738937807533  Cost =  12584.025125942833\n",
      "18 m =  0.029600314065243744  Cost =  12581.326072871212\n",
      "19 m =  0.031243058030696567  Cost =  12578.627613558605\n",
      "20 m =  0.03288562129431319  Cost =  12575.929747874396\n",
      "21 m =  0.03452800387597081  Cost =  12573.232475687993\n",
      "22 m =  0.036170205795544454  Cost =  12570.535796868833\n",
      "23 m =  0.03781222707290694  Cost =  12567.839711286386\n",
      "24 m =  0.03945406772792892  Cost =  12565.144218810145\n",
      "25 m =  0.04109572778047885  Cost =  12562.449319309631\n",
      "26 m =  0.042737207250422994  Cost =  12559.755012654401\n",
      "27 m =  0.044378506157625446  Cost =  12557.061298714032\n",
      "28 m =  0.046019624521948105  Cost =  12554.368177358136\n",
      "29 m =  0.04766056236325069  Cost =  12551.675648456352\n"
     ]
    }
   ],
   "source": [
    "learningRate = 0.00001\n",
    "numIteration = 30 \n",
    "m_current = 0\n",
    "n = float(f.size)\n",
    "\n",
    "# Let's start with main iterative part of gradient descent algorithm \n",
    "for i in range(numIteration):\n",
    "    # Calculate the prediction with current regression coefficients. \n",
    "    f_prediction = m_current * t \n",
    "    # Compute cost for monitoring \n",
    "    cost= sum (( f - f_prediction)**2)\n",
    "    # Calculate gradients. \n",
    "    m_gradient = (-1.0/n) * sum (t * (f - f_prediction) )\n",
    "    print(i,\"m = \", m_current, \" Cost = \", cost)\n",
    "    # Update the weights - Regression Coefficients \n",
    "    m_current = m_current - learningRate * m_gradient "
   ]
  },
  {
   "cell_type": "markdown",
   "metadata": {},
   "source": [
    "## Calculating the parameter m using Gradient Descent in PySpark\n",
    "- `num_rdd` contains tuples with the independent variable $x$ as the first element (`x[0]`) and the dependent variable $f$ as the second element (`x[1]`). \n",
    "- `size` represents the size of the RDD\n",
    "- `learningRate` represents the learning rate (step size) used in the gradient descent algorithm.\n",
    "- `m` represents the current value of the coefficient.\n",
    "- `gradient` represents the gradient of the cost function.\n",
    "- `cost` represents the value of the current cost function."
   ]
  },
  {
   "cell_type": "code",
   "execution_count": 23,
   "metadata": {},
   "outputs": [
    {
     "data": {
      "text/plain": [
       "[(1, 18), (2, 22), (3, 45), (4, 49), (5, 86)]"
      ]
     },
     "execution_count": 23,
     "metadata": {},
     "output_type": "execute_result"
    }
   ],
   "source": [
    "# Create number RDD as tuples of (1, 18),(2, 22),(3, 45),(4, 49),(5, 86) \n",
    "# that can be fitted on a line with the equation:\n",
    "# f(t) = m × t \n",
    "num_rdd = sc.parallelize(zip(t,f))\n",
    "num_rdd.take(5)"
   ]
  },
  {
   "cell_type": "code",
   "execution_count": 24,
   "metadata": {},
   "outputs": [
    {
     "name": "stdout",
     "output_type": "stream",
     "text": [
      "0 m =  0  Cost =  1263.0\n",
      "1 m =  0.0016460000000000003  Cost =  1262.729083301238\n",
      "2 m =  0.0032918189400000008  Cost =  1262.4582262008719\n",
      "3 m =  0.004937456839916601  Cost =  1262.1874286857899\n",
      "4 m =  0.00658291371966421  Cost =  1261.916690742885\n",
      "5 m =  0.008228189599155047  Cost =  1261.6460123590516\n",
      "6 m =  0.009873284498299141  Cost =  1261.375393521187\n",
      "7 m =  0.011518198437004329  Cost =  1261.1048342161928\n",
      "8 m =  0.013162931435176259  Cost =  1260.834334430972\n",
      "9 m =  0.01480748351271839  Cost =  1260.5638941524305\n",
      "10 m =  0.016451854689531992  Cost =  1260.2935133674778\n",
      "11 m =  0.018096044985516143  Cost =  1260.0231920630267\n",
      "12 m =  0.019740054420567737  Cost =  1259.7529302259916\n",
      "13 m =  0.021383883014581474  Cost =  1259.4827278432901\n",
      "14 m =  0.02302753078744987  Cost =  1259.2125849018437\n",
      "15 m =  0.02467099775906325  Cost =  1258.9425013885757\n",
      "16 m =  0.026314283949309753  Cost =  1258.6724772904122\n",
      "17 m =  0.02795738937807533  Cost =  1258.4025125942833\n",
      "18 m =  0.029600314065243744  Cost =  1258.1326072871211\n",
      "19 m =  0.031243058030696567  Cost =  1257.8627613558606\n",
      "20 m =  0.03288562129431319  Cost =  1257.5929747874395\n",
      "21 m =  0.03452800387597081  Cost =  1257.3232475687994\n",
      "22 m =  0.036170205795544454  Cost =  1257.0535796868833\n",
      "23 m =  0.03781222707290694  Cost =  1256.7839711286385\n",
      "24 m =  0.03945406772792892  Cost =  1256.5144218810144\n",
      "25 m =  0.04109572778047885  Cost =  1256.244931930963\n",
      "26 m =  0.042737207250422994  Cost =  1255.97550126544\n",
      "27 m =  0.044378506157625446  Cost =  1255.7061298714032\n",
      "28 m =  0.046019624521948105  Cost =  1255.4368177358135\n",
      "29 m =  0.04766056236325069  Cost =  1255.1675648456353\n"
     ]
    }
   ],
   "source": [
    "# Now we do gradient Decent on our RDD data set. \n",
    "learningRate = 0.00001\n",
    "numIteration = 30 \n",
    "size = f.size\n",
    "m = 0\n",
    "num_rdd.cache()\n",
    "\n",
    "# Gradient Descent algorithm \n",
    "for i in range(numIteration):\n",
    "    gradientCost=num_rdd.map(lambda x: (x[0], (x[1] - x[0] * m))) \\\n",
    "                        .map(lambda x: (x[0] * x[1], x[1] ** 2)) \\\n",
    "                        .reduce(lambda x, y: (x[0] + y[0], x[1] + y[1]))\n",
    "    cost= gradientCost[1]/(2*size)\n",
    "    gradient=(-1.0/float(size))* gradientCost[0]\n",
    "    print(i, \"m = \", m, \" Cost = \", cost)\n",
    "    m = m - learningRate * gradient "
   ]
  },
  {
   "cell_type": "markdown",
   "metadata": {},
   "source": [
    "# Close Spark Session"
   ]
  },
  {
   "cell_type": "code",
   "execution_count": 25,
   "metadata": {},
   "outputs": [],
   "source": [
    "spark.stop()"
   ]
  }
 ],
 "metadata": {
  "kernelspec": {
   "display_name": "Python 3 (ipykernel)",
   "language": "python",
   "name": "python3"
  },
  "language_info": {
   "codemirror_mode": {
    "name": "ipython",
    "version": 3
   },
   "file_extension": ".py",
   "mimetype": "text/x-python",
   "name": "python",
   "nbconvert_exporter": "python",
   "pygments_lexer": "ipython3",
   "version": "3.11.5"
  },
  "vscode": {
   "interpreter": {
    "hash": "9db6cbf0fd79f8e79653fe7b0c50b956ca6e525ee712295da3c66f75e4fe96ce"
   }
  }
 },
 "nbformat": 4,
 "nbformat_minor": 4
}
