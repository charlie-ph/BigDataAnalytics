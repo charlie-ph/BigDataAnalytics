{
 "cells": [
  {
   "cell_type": "markdown",
   "id": "176f58bb",
   "metadata": {},
   "source": [
    "# NumPy & SciPy\n",
    "This is a quick overview of NumPy & SciPy libraries."
   ]
  },
  {
   "cell_type": "markdown",
   "id": "7280b2f7",
   "metadata": {},
   "source": [
    "# NumPy\n",
    "NumPy (Numerical Python) is an open source Python library that’s used in almost every field of science and engineering. It’s the universal standard for working with numerical data in Python, and it’s at the core of the scientific Python and PyData ecosystems. The NumPy API is used extensively in Pandas, SciPy, Matplotlib, scikit-learn, scikit-image and most other data science and scientific Python packages.\n",
    "\n",
    "Reference: https://numpy.org/doc/stable/user/absolute_beginners.html#"
   ]
  },
  {
   "cell_type": "markdown",
   "id": "ddab5555",
   "metadata": {},
   "source": [
    "## Importing NumPy"
   ]
  },
  {
   "cell_type": "code",
   "execution_count": 1,
   "id": "f70e9c04",
   "metadata": {},
   "outputs": [],
   "source": [
    "# numpy is the top package name, and “import numpy” doesn't import submodules like numpy.f2py\n",
    "from numpy import *\n",
    "# or \n",
    "from numpy import array\n",
    "# or \n",
    "import numpy as np"
   ]
  },
  {
   "cell_type": "markdown",
   "id": "b2dd6ba5",
   "metadata": {},
   "source": [
    "## Finding Documentation"
   ]
  },
  {
   "cell_type": "code",
   "execution_count": 2,
   "id": "5cbc0471",
   "metadata": {},
   "outputs": [
    {
     "name": "stdout",
     "output_type": "stream",
     "text": [
      " info(object=None, maxwidth=76, output=None, toplevel='numpy')\n",
      "\n",
      "Get help information for a function, class, or module.\n",
      "\n",
      "Parameters\n",
      "----------\n",
      "object : object or str, optional\n",
      "    Input object or name to get information about. If `object` is a\n",
      "    numpy object, its docstring is given. If it is a string, available\n",
      "    modules are searched for matching objects.  If None, information\n",
      "    about `info` itself is returned.\n",
      "maxwidth : int, optional\n",
      "    Printing width.\n",
      "output : file like object, optional\n",
      "    File like object that the output is written to, default is\n",
      "    ``None``, in which case ``sys.stdout`` will be used.\n",
      "    The object has to be opened in 'w' or 'a' mode.\n",
      "toplevel : str, optional\n",
      "    Start search at this level.\n",
      "\n",
      "See Also\n",
      "--------\n",
      "source, lookfor\n",
      "\n",
      "Notes\n",
      "-----\n",
      "When used interactively with an object, ``np.info(obj)`` is equivalent\n",
      "to ``help(obj)`` on the Python prompt or ``obj?`` on the IPython\n",
      "prompt.\n",
      "\n",
      "Examples\n",
      "--------\n",
      ">>> np.info(np.polyval) # doctest: +SKIP\n",
      "   polyval(p, x)\n",
      "     Evaluate the polynomial p at x.\n",
      "     ...\n",
      "\n",
      "When using a string for `object` it is possible to get multiple results.\n",
      "\n",
      ">>> np.info('fft') # doctest: +SKIP\n",
      "     *** Found in numpy ***\n",
      "Core FFT routines\n",
      "...\n",
      "     *** Found in numpy.fft ***\n",
      " fft(a, n=None, axis=-1)\n",
      "...\n",
      "     *** Repeat reference found in numpy.fft.fftpack ***\n",
      "     *** Total of 3 references found. ***\n"
     ]
    }
   ],
   "source": [
    "np.info()"
   ]
  },
  {
   "cell_type": "code",
   "execution_count": 3,
   "id": "5634d87c",
   "metadata": {},
   "outputs": [
    {
     "name": "stdout",
     "output_type": "stream",
     "text": [
      " polyval(p, x)\n",
      "\n",
      "Evaluate a polynomial at specific values.\n",
      "\n",
      ".. note::\n",
      "   This forms part of the old polynomial API. Since version 1.4, the\n",
      "   new polynomial API defined in `numpy.polynomial` is preferred.\n",
      "   A summary of the differences can be found in the\n",
      "   :doc:`transition guide </reference/routines.polynomials>`.\n",
      "\n",
      "If `p` is of length N, this function returns the value:\n",
      "\n",
      "    ``p[0]*x**(N-1) + p[1]*x**(N-2) + ... + p[N-2]*x + p[N-1]``\n",
      "\n",
      "If `x` is a sequence, then ``p(x)`` is returned for each element of ``x``.\n",
      "If `x` is another polynomial then the composite polynomial ``p(x(t))``\n",
      "is returned.\n",
      "\n",
      "Parameters\n",
      "----------\n",
      "p : array_like or poly1d object\n",
      "   1D array of polynomial coefficients (including coefficients equal\n",
      "   to zero) from highest degree to the constant term, or an\n",
      "   instance of poly1d.\n",
      "x : array_like or poly1d object\n",
      "   A number, an array of numbers, or an instance of poly1d, at\n",
      "   which to evaluate `p`.\n",
      "\n",
      "Returns\n",
      "-------\n",
      "values : ndarray or poly1d\n",
      "   If `x` is a poly1d instance, the result is the composition of the two\n",
      "   polynomials, i.e., `x` is \"substituted\" in `p` and the simplified\n",
      "   result is returned. In addition, the type of `x` - array_like or\n",
      "   poly1d - governs the type of the output: `x` array_like => `values`\n",
      "   array_like, `x` a poly1d object => `values` is also.\n",
      "\n",
      "See Also\n",
      "--------\n",
      "poly1d: A polynomial class.\n",
      "\n",
      "Notes\n",
      "-----\n",
      "Horner's scheme [1]_ is used to evaluate the polynomial. Even so,\n",
      "for polynomials of high degree the values may be inaccurate due to\n",
      "rounding errors. Use carefully.\n",
      "\n",
      "If `x` is a subtype of `ndarray` the return value will be of the same type.\n",
      "\n",
      "References\n",
      "----------\n",
      ".. [1] I. N. Bronshtein, K. A. Semendyayev, and K. A. Hirsch (Eng.\n",
      "   trans. Ed.), *Handbook of Mathematics*, New York, Van Nostrand\n",
      "   Reinhold Co., 1985, pg. 720.\n",
      "\n",
      "Examples\n",
      "--------\n",
      ">>> np.polyval([3,0,1], 5)  # 3 * 5**2 + 0 * 5**1 + 1\n",
      "76\n",
      ">>> np.polyval([3,0,1], np.poly1d(5))\n",
      "poly1d([76])\n",
      ">>> np.polyval(np.poly1d([3,0,1]), 5)\n",
      "76\n",
      ">>> np.polyval(np.poly1d([3,0,1]), np.poly1d(5))\n",
      "poly1d([76])\n"
     ]
    }
   ],
   "source": [
    "np.info(np.polyval)"
   ]
  },
  {
   "cell_type": "markdown",
   "id": "313447f9",
   "metadata": {},
   "source": [
    "## Arrays in NumPy"
   ]
  },
  {
   "cell_type": "code",
   "execution_count": 4,
   "id": "455b6693",
   "metadata": {},
   "outputs": [
    {
     "name": "stdout",
     "output_type": "stream",
     "text": [
      "[0 1 2 3]\n",
      "Size: 4\n",
      "Shape: (4,)\n",
      "Number of dimensions: 1\n",
      "Type: <class 'numpy.ndarray'>\n",
      "Element type: int32\n",
      "Number of bytes per element: 4\n",
      "Total number of bytes: 16\n"
     ]
    }
   ],
   "source": [
    "# Simple array\n",
    "a = np.array([0,1,2,3])\n",
    "print(a)\n",
    "# Size\n",
    "print('Size:', a.size)\n",
    "# Shape\n",
    "print('Shape:',a.shape)\n",
    "# Ndim – number of dimension\n",
    "print('Number of dimensions:', a.ndim)\n",
    "# Type\n",
    "print('Type:', type(a))\n",
    "# Type of elements\n",
    "print('Element type:', a.dtype)\n",
    "# Bytes per element\n",
    "print('Number of bytes per element:', a.itemsize)\n",
    "# Number of bytes\n",
    "print('Total number of bytes:', a.nbytes)"
   ]
  },
  {
   "cell_type": "markdown",
   "id": "cdb60ed7",
   "metadata": {},
   "source": [
    "## Creating Arrays"
   ]
  },
  {
   "cell_type": "code",
   "execution_count": 5,
   "id": "d1c5ee78",
   "metadata": {},
   "outputs": [
    {
     "name": "stdout",
     "output_type": "stream",
     "text": [
      "[1 2 3 4]\n",
      "[1. 4. 5. 8.]\n",
      "Type: <class 'numpy.ndarray'>\n"
     ]
    }
   ],
   "source": [
    "# Creating an Array\n",
    "a = np.array([1,2,3,4])\n",
    "print(a)\n",
    "# Creating an Array including float numbers\n",
    "a = np.array([1, 4, 5, 8], float)\n",
    "print(a)\n",
    "# Checking types\n",
    "print('Type:', type(a))"
   ]
  },
  {
   "cell_type": "code",
   "execution_count": 6,
   "id": "8495ca42",
   "metadata": {},
   "outputs": [
    {
     "name": "stdout",
     "output_type": "stream",
     "text": [
      "[0 1 2]\n",
      "[0. 1. 2.]\n",
      "[3 4 5 6]\n",
      "[3 5]\n"
     ]
    }
   ],
   "source": [
    "# numpy.arange([start,]stop,[step,]dtype=None)\n",
    "print(np.arange(3))\n",
    "print(np.arange(3.0))\n",
    "print(np.arange(3,7))\n",
    "print(np.arange(3,7,2))"
   ]
  },
  {
   "cell_type": "code",
   "execution_count": 7,
   "id": "1a8a7294",
   "metadata": {},
   "outputs": [
    {
     "name": "stdout",
     "output_type": "stream",
     "text": [
      "[2.   2.25 2.5  2.75 3.  ]\n",
      "[2.  2.2 2.4 2.6 2.8]\n",
      "(array([2.  , 2.25, 2.5 , 2.75, 3.  ]), 0.25)\n"
     ]
    }
   ],
   "source": [
    "# numpy.linspace (start, stop, num=50, endpoint=True, retstep=False, dtype=None)\n",
    "print(np.linspace(2.0, 3.0, num=5))\n",
    "print(np.linspace(2.0, 3.0, num=5, endpoint=False))\n",
    "print(np.linspace(2.0, 3.0, num=5, retstep=True))"
   ]
  },
  {
   "cell_type": "markdown",
   "id": "9b408c5a",
   "metadata": {},
   "source": [
    "## Operations on Arrays"
   ]
  },
  {
   "cell_type": "code",
   "execution_count": 8,
   "id": "8372c4ba",
   "metadata": {},
   "outputs": [
    {
     "data": {
      "text/plain": [
       "array([2, 4, 6, 8])"
      ]
     },
     "execution_count": 8,
     "metadata": {},
     "output_type": "execute_result"
    }
   ],
   "source": [
    "# Simple Operations on Arrays\n",
    "a = np.array([1,2,3,4])\n",
    "b = a + a\n",
    "b"
   ]
  },
  {
   "cell_type": "code",
   "execution_count": 9,
   "id": "46c3f4dd",
   "metadata": {},
   "outputs": [
    {
     "data": {
      "text/plain": [
       "array([ 1,  4,  9, 16])"
      ]
     },
     "execution_count": 9,
     "metadata": {},
     "output_type": "execute_result"
    }
   ],
   "source": [
    "c = a * a\n",
    "c"
   ]
  },
  {
   "cell_type": "code",
   "execution_count": 10,
   "id": "c372fda7",
   "metadata": {},
   "outputs": [
    {
     "data": {
      "text/plain": [
       "array([  1,   4,  27, 256])"
      ]
     },
     "execution_count": 10,
     "metadata": {},
     "output_type": "execute_result"
    }
   ],
   "source": [
    "d = a ** a\n",
    "d"
   ]
  },
  {
   "cell_type": "code",
   "execution_count": 11,
   "id": "b4ab70ef",
   "metadata": {},
   "outputs": [
    {
     "data": {
      "text/plain": [
       "array([3, 4, 5, 6])"
      ]
     },
     "execution_count": 11,
     "metadata": {},
     "output_type": "execute_result"
    }
   ],
   "source": [
    "# Simple Math Functions\n",
    "x = 2\n",
    "y = x + a\n",
    "y"
   ]
  },
  {
   "cell_type": "code",
   "execution_count": 12,
   "id": "b79073ab",
   "metadata": {},
   "outputs": [
    {
     "data": {
      "text/plain": [
       "array([2, 4, 6, 8])"
      ]
     },
     "execution_count": 12,
     "metadata": {},
     "output_type": "execute_result"
    }
   ],
   "source": [
    "y = x * a\n",
    "y"
   ]
  },
  {
   "cell_type": "code",
   "execution_count": 13,
   "id": "36eba290",
   "metadata": {},
   "outputs": [
    {
     "data": {
      "text/plain": [
       "array([ 0.84147098,  0.90929743,  0.14112001, -0.7568025 ])"
      ]
     },
     "execution_count": 13,
     "metadata": {},
     "output_type": "execute_result"
    }
   ],
   "source": [
    "y = sin(a)\n",
    "y"
   ]
  },
  {
   "cell_type": "code",
   "execution_count": 14,
   "id": "daa18c29",
   "metadata": {},
   "outputs": [
    {
     "name": "stdout",
     "output_type": "stream",
     "text": [
      "3.141592653589793\n",
      "2.718281828459045\n"
     ]
    }
   ],
   "source": [
    "# NumPy defines PI and e constants\n",
    "print(pi)\n",
    "print(e)"
   ]
  },
  {
   "cell_type": "code",
   "execution_count": 15,
   "id": "dc2fd58d",
   "metadata": {},
   "outputs": [
    {
     "data": {
      "text/plain": [
       "array([ 6.28318531, 12.56637061, 18.84955592, 25.13274123])"
      ]
     },
     "execution_count": 15,
     "metadata": {},
     "output_type": "execute_result"
    }
   ],
   "source": [
    "a = np.array([1,2,3,4])\n",
    "c = (2 * pi) * a\n",
    "c"
   ]
  },
  {
   "cell_type": "code",
   "execution_count": 16,
   "id": "b56b0567",
   "metadata": {},
   "outputs": [
    {
     "data": {
      "text/plain": [
       "array([-2.44929360e-16, -4.89858720e-16, -7.34788079e-16, -9.79717439e-16])"
      ]
     },
     "execution_count": 16,
     "metadata": {},
     "output_type": "execute_result"
    }
   ],
   "source": [
    "y = sin(c)\n",
    "y"
   ]
  },
  {
   "cell_type": "code",
   "execution_count": 17,
   "id": "fb736bea",
   "metadata": {},
   "outputs": [
    {
     "data": {
      "text/plain": [
       "array([ 0,  6, 12, 18, 25, 31])"
      ]
     },
     "execution_count": 17,
     "metadata": {},
     "output_type": "execute_result"
    }
   ],
   "source": [
    "# In-place operations\n",
    "x = arange(6)\n",
    "z = 2 * pi\n",
    "x = (x * z).astype(int32)\n",
    "x"
   ]
  },
  {
   "cell_type": "code",
   "execution_count": 18,
   "id": "65255121",
   "metadata": {},
   "outputs": [
    {
     "data": {
      "text/plain": [
       "array([ 0.        ,  6.28318531, 12.56637061, 18.84955592, 25.13274123,\n",
       "       31.41592654])"
      ]
     },
     "execution_count": 18,
     "metadata": {},
     "output_type": "execute_result"
    }
   ],
   "source": [
    "# On Float Elements\n",
    "x = np.arange(6.)\n",
    "x *= z\n",
    "x"
   ]
  },
  {
   "cell_type": "markdown",
   "id": "e2e23255",
   "metadata": {},
   "source": [
    "## Setting Array Elements – Filling Arrays"
   ]
  },
  {
   "cell_type": "code",
   "execution_count": 19,
   "id": "3efeda63",
   "metadata": {},
   "outputs": [
    {
     "data": {
      "text/plain": [
       "1"
      ]
     },
     "execution_count": 19,
     "metadata": {},
     "output_type": "execute_result"
    }
   ],
   "source": [
    "# Indexing\n",
    "a = array([1,2,3,4])\n",
    "a[0]"
   ]
  },
  {
   "cell_type": "code",
   "execution_count": 20,
   "id": "f82a26b1",
   "metadata": {},
   "outputs": [
    {
     "data": {
      "text/plain": [
       "6"
      ]
     },
     "execution_count": 20,
     "metadata": {},
     "output_type": "execute_result"
    }
   ],
   "source": [
    "# Setting values\n",
    "a[0] = 2 * pi\n",
    "a[0]"
   ]
  },
  {
   "cell_type": "code",
   "execution_count": 21,
   "id": "2ebcc24b",
   "metadata": {},
   "outputs": [
    {
     "data": {
      "text/plain": [
       "array([6, 2, 3, 4])"
      ]
     },
     "execution_count": 21,
     "metadata": {},
     "output_type": "execute_result"
    }
   ],
   "source": [
    "a"
   ]
  },
  {
   "cell_type": "code",
   "execution_count": 22,
   "id": "59b52c55",
   "metadata": {},
   "outputs": [
    {
     "data": {
      "text/plain": [
       "array([0, 0, 0, 0])"
      ]
     },
     "execution_count": 22,
     "metadata": {},
     "output_type": "execute_result"
    }
   ],
   "source": [
    "# Fill - Fill the array with a scalar value\n",
    "a.fill(0)\n",
    "a"
   ]
  },
  {
   "cell_type": "code",
   "execution_count": 23,
   "id": "94eaee3a",
   "metadata": {},
   "outputs": [
    {
     "data": {
      "text/plain": [
       "array([2, 0, 0, 0])"
      ]
     },
     "execution_count": 23,
     "metadata": {},
     "output_type": "execute_result"
    }
   ],
   "source": [
    "# Assigning a float into a Integer array\n",
    "a[0]=2.34\n",
    "a"
   ]
  },
  {
   "cell_type": "code",
   "execution_count": 24,
   "id": "9ae7d950",
   "metadata": {},
   "outputs": [
    {
     "data": {
      "text/plain": [
       "array([2, 2, 2, 2])"
      ]
     },
     "execution_count": 24,
     "metadata": {},
     "output_type": "execute_result"
    }
   ],
   "source": [
    "a.fill(2.3)\n",
    "a"
   ]
  },
  {
   "cell_type": "code",
   "execution_count": 25,
   "id": "2a56b257",
   "metadata": {},
   "outputs": [
    {
     "data": {
      "text/plain": [
       "array([1, 1, 1, 1])"
      ]
     },
     "execution_count": 25,
     "metadata": {},
     "output_type": "execute_result"
    }
   ],
   "source": [
    "# Filling by using slice\n",
    "a[:]=1\n",
    "a"
   ]
  },
  {
   "cell_type": "markdown",
   "id": "a2e7c749",
   "metadata": {},
   "source": [
    "## Slicing Arrays\n",
    "Slicing can extract a portion of an array by using a lower and upper bound.\n",
    "var[start:end:step]: This notation indicates that elements from index start (inclusive) up to index end (exclusive) will be included in the result"
   ]
  },
  {
   "cell_type": "code",
   "execution_count": 26,
   "id": "c39626c4",
   "metadata": {},
   "outputs": [
    {
     "data": {
      "text/plain": [
       "array([21,  1])"
      ]
     },
     "execution_count": 26,
     "metadata": {},
     "output_type": "execute_result"
    }
   ],
   "source": [
    "a = array([3,21,1,6,7])\n",
    "a[1:3]"
   ]
  },
  {
   "cell_type": "code",
   "execution_count": 27,
   "id": "813cd66a",
   "metadata": {},
   "outputs": [
    {
     "data": {
      "text/plain": [
       "array([21,  1])"
      ]
     },
     "execution_count": 27,
     "metadata": {},
     "output_type": "execute_result"
    }
   ],
   "source": [
    "# Negative Indexes\n",
    "a[1:-2]"
   ]
  },
  {
   "cell_type": "code",
   "execution_count": 28,
   "id": "12672c0b",
   "metadata": {},
   "outputs": [
    {
     "data": {
      "text/plain": [
       "array([1, 6])"
      ]
     },
     "execution_count": 28,
     "metadata": {},
     "output_type": "execute_result"
    }
   ],
   "source": [
    "a[-3:-1]"
   ]
  },
  {
   "cell_type": "code",
   "execution_count": 29,
   "id": "df314f5b",
   "metadata": {},
   "outputs": [
    {
     "data": {
      "text/plain": [
       "array([ 3, 21])"
      ]
     },
     "execution_count": 29,
     "metadata": {},
     "output_type": "execute_result"
    }
   ],
   "source": [
    "# Omitting indices: start or end or both\n",
    "a[:2]"
   ]
  },
  {
   "cell_type": "code",
   "execution_count": 30,
   "id": "513d970e",
   "metadata": {},
   "outputs": [
    {
     "data": {
      "text/plain": [
       "array([6, 7])"
      ]
     },
     "execution_count": 30,
     "metadata": {},
     "output_type": "execute_result"
    }
   ],
   "source": [
    "a[-2:]"
   ]
  },
  {
   "cell_type": "code",
   "execution_count": 31,
   "id": "ec0faf10",
   "metadata": {},
   "outputs": [
    {
     "data": {
      "text/plain": [
       "array([3, 1, 7])"
      ]
     },
     "execution_count": 31,
     "metadata": {},
     "output_type": "execute_result"
    }
   ],
   "source": [
    "# Slicing with steps\n",
    "a[::2] # elements with even indices"
   ]
  },
  {
   "cell_type": "code",
   "execution_count": 32,
   "id": "8873d578",
   "metadata": {},
   "outputs": [
    {
     "data": {
      "text/plain": [
       "array([21,  6])"
      ]
     },
     "execution_count": 32,
     "metadata": {},
     "output_type": "execute_result"
    }
   ],
   "source": [
    "a[1::2] # elements with odd indices"
   ]
  },
  {
   "cell_type": "code",
   "execution_count": 33,
   "id": "9c11ff64",
   "metadata": {},
   "outputs": [
    {
     "data": {
      "text/plain": [
       "array([3, 4])"
      ]
     },
     "execution_count": 33,
     "metadata": {},
     "output_type": "execute_result"
    }
   ],
   "source": [
    "# Slices are References\n",
    "a = array([1,2,3,4,5])\n",
    "b = a[2:4]\n",
    "b"
   ]
  },
  {
   "cell_type": "code",
   "execution_count": 34,
   "id": "323e8443",
   "metadata": {},
   "outputs": [
    {
     "data": {
      "text/plain": [
       "array([  1,   2, 100,   4,   5])"
      ]
     },
     "execution_count": 34,
     "metadata": {},
     "output_type": "execute_result"
    }
   ],
   "source": [
    "b[0] = 100\n",
    "a"
   ]
  },
  {
   "cell_type": "markdown",
   "id": "b6a7326a",
   "metadata": {},
   "source": [
    "## N-Dimensional Arrays"
   ]
  },
  {
   "cell_type": "code",
   "execution_count": 35,
   "id": "01c3de1c",
   "metadata": {},
   "outputs": [
    {
     "data": {
      "text/plain": [
       "array([[10, 11, 12, 13],\n",
       "       [20, 21, 22, 23]])"
      ]
     },
     "execution_count": 35,
     "metadata": {},
     "output_type": "execute_result"
    }
   ],
   "source": [
    "# A 2-D array\n",
    "b = array([[ 10, 11, 12, 13], [20, 21, 22, 23] ])\n",
    "b"
   ]
  },
  {
   "cell_type": "code",
   "execution_count": 36,
   "id": "84a1165c",
   "metadata": {},
   "outputs": [
    {
     "name": "stdout",
     "output_type": "stream",
     "text": [
      "(2, 4)\n",
      "8\n",
      "2\n"
     ]
    }
   ],
   "source": [
    "# Shape, size, ndim\n",
    "print(b.shape)\n",
    "print(b.size)\n",
    "print(b.ndim)"
   ]
  },
  {
   "cell_type": "code",
   "execution_count": 37,
   "id": "85bdd6f7",
   "metadata": {},
   "outputs": [
    {
     "data": {
      "text/plain": [
       "23"
      ]
     },
     "execution_count": 37,
     "metadata": {},
     "output_type": "execute_result"
    }
   ],
   "source": [
    "# Indexing in 2-D\n",
    "b[1,3]"
   ]
  },
  {
   "cell_type": "code",
   "execution_count": 38,
   "id": "31b18468",
   "metadata": {},
   "outputs": [
    {
     "data": {
      "text/plain": [
       "array([[10, 11, 12, 13],\n",
       "       [20, 21, 22,  2]])"
      ]
     },
     "execution_count": 38,
     "metadata": {},
     "output_type": "execute_result"
    }
   ],
   "source": [
    "# Setting Values\n",
    "b[1,3] = 2.3\n",
    "b"
   ]
  },
  {
   "cell_type": "code",
   "execution_count": 39,
   "id": "386c8a4e",
   "metadata": {},
   "outputs": [
    {
     "data": {
      "text/plain": [
       "array([20, 21, 22,  2])"
      ]
     },
     "execution_count": 39,
     "metadata": {},
     "output_type": "execute_result"
    }
   ],
   "source": [
    "# Addressing the rows using single index\n",
    "b[1]"
   ]
  },
  {
   "cell_type": "markdown",
   "id": "a600efdd",
   "metadata": {},
   "source": [
    "## Multidimensional Array Slicing"
   ]
  },
  {
   "cell_type": "code",
   "execution_count": 40,
   "id": "a8db3bdf",
   "metadata": {},
   "outputs": [
    {
     "data": {
      "text/plain": [
       "array([[20, 21, 22, 23],\n",
       "       [30, 31, 32, 33]])"
      ]
     },
     "execution_count": 40,
     "metadata": {},
     "output_type": "execute_result"
    }
   ],
   "source": [
    "# Similar to 1-D\n",
    "c = array([[ 10, 11, 12, 13], [20, 21, 22, 23], [30, 31, 32, 33], [40, 41, 42, 43]])\n",
    "c[1:3]"
   ]
  },
  {
   "cell_type": "code",
   "execution_count": 41,
   "id": "e8c7940c",
   "metadata": {},
   "outputs": [
    {
     "data": {
      "text/plain": [
       "array([12, 22, 32, 42])"
      ]
     },
     "execution_count": 41,
     "metadata": {},
     "output_type": "execute_result"
    }
   ],
   "source": [
    "# Addressing a column\n",
    "c[:,2]"
   ]
  },
  {
   "cell_type": "code",
   "execution_count": 42,
   "id": "2d86a300",
   "metadata": {},
   "outputs": [
    {
     "data": {
      "text/plain": [
       "array([[30, 32]])"
      ]
     },
     "execution_count": 42,
     "metadata": {},
     "output_type": "execute_result"
    }
   ],
   "source": [
    "# With steps\n",
    "c[2::2,::2]"
   ]
  },
  {
   "cell_type": "markdown",
   "id": "b410f1d7",
   "metadata": {},
   "source": [
    "## Advanced indexing"
   ]
  },
  {
   "cell_type": "code",
   "execution_count": 43,
   "id": "6a8a12e4",
   "metadata": {},
   "outputs": [
    {
     "data": {
      "text/plain": [
       "array([10, 12, 14, 16, 18, 20, 22, 24, 26, 28, 30, 32, 34, 36, 38])"
      ]
     },
     "execution_count": 43,
     "metadata": {},
     "output_type": "execute_result"
    }
   ],
   "source": [
    "# Indexing by using positions\n",
    "a = arange(10,40,2)\n",
    "a"
   ]
  },
  {
   "cell_type": "code",
   "execution_count": 44,
   "id": "72daae67",
   "metadata": {},
   "outputs": [
    {
     "data": {
      "text/plain": [
       "array([12, 16, 32])"
      ]
     },
     "execution_count": 44,
     "metadata": {},
     "output_type": "execute_result"
    }
   ],
   "source": [
    "indices = array([1,3,-4])\n",
    "x = a[indices]\n",
    "x"
   ]
  },
  {
   "cell_type": "code",
   "execution_count": 45,
   "id": "9e5f9b4e",
   "metadata": {},
   "outputs": [
    {
     "data": {
      "text/plain": [
       "array([10, 12, 13, 14])"
      ]
     },
     "execution_count": 45,
     "metadata": {},
     "output_type": "execute_result"
    }
   ],
   "source": [
    "# Indexing with Booleans\n",
    "a = array([ 10, 11, 12, 13, 14])\n",
    "mymask = array([1,0,1,1,1],dtype=bool)\n",
    "y = a[mymask]\n",
    "y"
   ]
  },
  {
   "cell_type": "code",
   "execution_count": 46,
   "id": "008e7381",
   "metadata": {},
   "outputs": [
    {
     "data": {
      "text/plain": [
       "array([ True,  True,  True, False, False])"
      ]
     },
     "execution_count": 46,
     "metadata": {},
     "output_type": "execute_result"
    }
   ],
   "source": [
    "# Create a mask by condition\n",
    "mymask2 = a < 13\n",
    "mymask2"
   ]
  },
  {
   "cell_type": "code",
   "execution_count": 47,
   "id": "47968ecf",
   "metadata": {},
   "outputs": [
    {
     "data": {
      "text/plain": [
       "array([10, 11, 12])"
      ]
     },
     "execution_count": 47,
     "metadata": {},
     "output_type": "execute_result"
    }
   ],
   "source": [
    "y = a[mymask2]\n",
    "y"
   ]
  },
  {
   "cell_type": "markdown",
   "id": "18e2bf84",
   "metadata": {},
   "source": [
    "## Where Method - Finding Indexes"
   ]
  },
  {
   "cell_type": "code",
   "execution_count": 48,
   "id": "87882e15",
   "metadata": {},
   "outputs": [
    {
     "data": {
      "text/plain": [
       "array([False,  True,  True,  True])"
      ]
     },
     "execution_count": 48,
     "metadata": {},
     "output_type": "execute_result"
    }
   ],
   "source": [
    "# Where: finds indexes in array where expression is True\n",
    "a = array([1.19, 2.42, 3.91, 4.66])\n",
    "a > 2"
   ]
  },
  {
   "cell_type": "code",
   "execution_count": 49,
   "id": "2788b5f5",
   "metadata": {},
   "outputs": [
    {
     "data": {
      "text/plain": [
       "(array([1, 2, 3], dtype=int64),)"
      ]
     },
     "execution_count": 49,
     "metadata": {},
     "output_type": "execute_result"
    }
   ],
   "source": [
    " where(a > 2) "
   ]
  },
  {
   "cell_type": "code",
   "execution_count": 50,
   "id": "59bf77c8",
   "metadata": {},
   "outputs": [
    {
     "data": {
      "text/plain": [
       "array([[False, False, False,  True],\n",
       "       [ True,  True,  True,  True]])"
      ]
     },
     "execution_count": 50,
     "metadata": {},
     "output_type": "execute_result"
    }
   ],
   "source": [
    "# Where 2D\n",
    "a = array([[0, 1, 2, 3],\n",
    "           [4, 5, 6, 7]])\n",
    "a > 2"
   ]
  },
  {
   "cell_type": "code",
   "execution_count": 51,
   "id": "4de842c1",
   "metadata": {},
   "outputs": [
    {
     "data": {
      "text/plain": [
       "(array([0, 1, 1, 1, 1], dtype=int64), array([3, 0, 1, 2, 3], dtype=int64))"
      ]
     },
     "execution_count": 51,
     "metadata": {},
     "output_type": "execute_result"
    }
   ],
   "source": [
    "mindex = where(a > 2)\n",
    "mindex"
   ]
  },
  {
   "cell_type": "code",
   "execution_count": 52,
   "id": "d9c37d23",
   "metadata": {},
   "outputs": [
    {
     "data": {
      "text/plain": [
       "array([3, 4, 5, 6, 7])"
      ]
     },
     "execution_count": 52,
     "metadata": {},
     "output_type": "execute_result"
    }
   ],
   "source": [
    "y = a[mindex]\n",
    "y"
   ]
  },
  {
   "cell_type": "markdown",
   "id": "cf8e31f0",
   "metadata": {},
   "source": [
    "## Reshaping Arrays"
   ]
  },
  {
   "cell_type": "code",
   "execution_count": 53,
   "id": "bc630192",
   "metadata": {},
   "outputs": [
    {
     "data": {
      "text/plain": [
       "(10,)"
      ]
     },
     "execution_count": 53,
     "metadata": {},
     "output_type": "execute_result"
    }
   ],
   "source": [
    "# Arrays can be reshaped\n",
    "a = arange(10)\n",
    "a.shape"
   ]
  },
  {
   "cell_type": "code",
   "execution_count": 54,
   "id": "9f0566f9",
   "metadata": {},
   "outputs": [
    {
     "data": {
      "text/plain": [
       "array([[0, 1, 2, 3, 4],\n",
       "       [5, 6, 7, 8, 9]])"
      ]
     },
     "execution_count": 54,
     "metadata": {},
     "output_type": "execute_result"
    }
   ],
   "source": [
    "a.shape = (2, 5)\n",
    "a"
   ]
  },
  {
   "cell_type": "code",
   "execution_count": 55,
   "id": "ee257c05",
   "metadata": {},
   "outputs": [
    {
     "data": {
      "text/plain": [
       "array([[[0, 1, 2, 3, 4]],\n",
       "\n",
       "       [[5, 6, 7, 8, 9]]])"
      ]
     },
     "execution_count": 55,
     "metadata": {},
     "output_type": "execute_result"
    }
   ],
   "source": [
    "# Dimension - 1\n",
    "a.shape = (2, 1, 5)\n",
    "a"
   ]
  },
  {
   "cell_type": "code",
   "execution_count": 56,
   "id": "5ccfb9b7",
   "metadata": {},
   "outputs": [
    {
     "data": {
      "text/plain": [
       "array([[0, 1],\n",
       "       [2, 3],\n",
       "       [4, 5],\n",
       "       [6, 7],\n",
       "       [8, 9]])"
      ]
     },
     "execution_count": 56,
     "metadata": {},
     "output_type": "execute_result"
    }
   ],
   "source": [
    "# Reshape – Returns a new array from the original array\n",
    "b = a.reshape(5, 2)\n",
    "b"
   ]
  },
  {
   "cell_type": "code",
   "execution_count": 57,
   "id": "d06e2326",
   "metadata": {},
   "outputs": [],
   "source": [
    "# Reshape do not remove elements\n",
    "# E.g., a.reshape(3, 3)"
   ]
  },
  {
   "cell_type": "markdown",
   "id": "3d61d05d",
   "metadata": {},
   "source": [
    "## Flatten Arrays and Flat Attribute"
   ]
  },
  {
   "cell_type": "code",
   "execution_count": 58,
   "id": "8cf19cd8",
   "metadata": {},
   "outputs": [
    {
     "data": {
      "text/plain": [
       "array([0, 1, 2, 3, 4, 5, 6, 7, 8, 9])"
      ]
     },
     "execution_count": 58,
     "metadata": {},
     "output_type": "execute_result"
    }
   ],
   "source": [
    "# Flatten() - Converts Multidimensional arrays into one dimensional array\n",
    "a = array([[0, 1],\n",
    "[2, 3],\n",
    "[4, 5],\n",
    "[6, 7],\n",
    "[8, 9]])\n",
    "b = a.flatten()\n",
    "b"
   ]
  },
  {
   "cell_type": "code",
   "execution_count": 59,
   "id": "6452f3ca",
   "metadata": {},
   "outputs": [
    {
     "data": {
      "text/plain": [
       "array([0, 1, 2, 3, 4, 5, 6, 7, 8, 9])"
      ]
     },
     "execution_count": 59,
     "metadata": {},
     "output_type": "execute_result"
    }
   ],
   "source": [
    "# a.ravel() is the same as a.flatten(), but works a reference on the original array\n",
    "b = a.ravel()\n",
    "b"
   ]
  },
  {
   "cell_type": "code",
   "execution_count": 60,
   "id": "d17ae1d5",
   "metadata": {},
   "outputs": [
    {
     "data": {
      "text/plain": [
       "array([[  0, 100],\n",
       "       [  2,   3],\n",
       "       [  4,   5],\n",
       "       [  6,   7],\n",
       "       [  8,   9]])"
      ]
     },
     "execution_count": 60,
     "metadata": {},
     "output_type": "execute_result"
    }
   ],
   "source": [
    "b[1] = 100\n",
    "a"
   ]
  },
  {
   "cell_type": "code",
   "execution_count": 61,
   "id": "e32003c3",
   "metadata": {},
   "outputs": [
    {
     "data": {
      "text/plain": [
       "array([[  0, 100],\n",
       "       [200,   3],\n",
       "       [  4,   5],\n",
       "       [  6,   7],\n",
       "       [  8,   9]])"
      ]
     },
     "execution_count": 61,
     "metadata": {},
     "output_type": "execute_result"
    }
   ],
   "source": [
    "# Attribute – flat is an attribute that can be used like an iterator to access elements in a N-D array as one dimensional array\n",
    "b = a.flat\n",
    "b[2] = 200\n",
    "a"
   ]
  },
  {
   "cell_type": "markdown",
   "id": "ad972d98",
   "metadata": {},
   "source": [
    "## Array Transpose"
   ]
  },
  {
   "cell_type": "code",
   "execution_count": 62,
   "id": "356239cf",
   "metadata": {},
   "outputs": [
    {
     "data": {
      "text/plain": [
       "array([[0, 5],\n",
       "       [1, 6],\n",
       "       [2, 7],\n",
       "       [3, 8],\n",
       "       [4, 9]])"
      ]
     },
     "execution_count": 62,
     "metadata": {},
     "output_type": "execute_result"
    }
   ],
   "source": [
    "## Transpose\n",
    "a = array([[0, 1, 2, 3, 4],\n",
    "           [5, 6, 7, 8, 9]])\n",
    "a.transpose() "
   ]
  },
  {
   "cell_type": "code",
   "execution_count": 63,
   "id": "c4336849",
   "metadata": {},
   "outputs": [
    {
     "data": {
      "text/plain": [
       "array([[0, 5],\n",
       "       [1, 6],\n",
       "       [2, 7],\n",
       "       [3, 8],\n",
       "       [4, 9]])"
      ]
     },
     "execution_count": 63,
     "metadata": {},
     "output_type": "execute_result"
    }
   ],
   "source": [
    "a.T"
   ]
  },
  {
   "cell_type": "code",
   "execution_count": 64,
   "id": "f3b45c45",
   "metadata": {},
   "outputs": [
    {
     "data": {
      "text/plain": [
       "(20, 4)"
      ]
     },
     "execution_count": 64,
     "metadata": {},
     "output_type": "execute_result"
    }
   ],
   "source": [
    "# Strides are Tuple of bytes to step in each dimension, 4 bytes (1 value) to move to the next column, but 20 bytes \n",
    "# (5 values) to get to the same position in the next row. Transpose only changes the values of \"Strides\" in the array memory\n",
    "a.strides"
   ]
  },
  {
   "cell_type": "code",
   "execution_count": 65,
   "id": "be114ed9",
   "metadata": {},
   "outputs": [
    {
     "data": {
      "text/plain": [
       "(4, 20)"
      ]
     },
     "execution_count": 65,
     "metadata": {},
     "output_type": "execute_result"
    }
   ],
   "source": [
    "a.T.strides"
   ]
  },
  {
   "cell_type": "markdown",
   "id": "ff1e6de3",
   "metadata": {},
   "source": [
    "## Array Calculation Methods"
   ]
  },
  {
   "cell_type": "code",
   "execution_count": 66,
   "id": "984484fa",
   "metadata": {},
   "outputs": [
    {
     "data": {
      "text/plain": [
       "45"
      ]
     },
     "execution_count": 66,
     "metadata": {},
     "output_type": "execute_result"
    }
   ],
   "source": [
    "# Sum – sum up the elements\n",
    "a = array([0, 1, 2, 3, 4, 5, 6, 7, 8, 9])\n",
    "sum(a)"
   ]
  },
  {
   "cell_type": "code",
   "execution_count": 67,
   "id": "770d4858",
   "metadata": {},
   "outputs": [
    {
     "data": {
      "text/plain": [
       "array([20, 25])"
      ]
     },
     "execution_count": 67,
     "metadata": {},
     "output_type": "execute_result"
    }
   ],
   "source": [
    "# Sum along the axis\n",
    "a = array([[0, 1], \n",
    "[2, 3],\n",
    "[4, 5],\n",
    "[6, 7],\n",
    "[8, 9]])\n",
    "\n",
    "sum(a, axis = 0)"
   ]
  },
  {
   "cell_type": "code",
   "execution_count": 68,
   "id": "6fa88c3b",
   "metadata": {},
   "outputs": [
    {
     "data": {
      "text/plain": [
       "array([ 1,  5,  9, 13, 17])"
      ]
     },
     "execution_count": 68,
     "metadata": {},
     "output_type": "execute_result"
    }
   ],
   "source": [
    "sum(a, axis = 1)"
   ]
  },
  {
   "cell_type": "code",
   "execution_count": 69,
   "id": "cb4dc3c0",
   "metadata": {},
   "outputs": [
    {
     "data": {
      "text/plain": [
       "array([  0, 945])"
      ]
     },
     "execution_count": 69,
     "metadata": {},
     "output_type": "execute_result"
    }
   ],
   "source": [
    "# Product – calculate product of columns\n",
    "a.prod(axis = 0)"
   ]
  },
  {
   "cell_type": "code",
   "execution_count": 70,
   "id": "89ca862f",
   "metadata": {},
   "outputs": [
    {
     "data": {
      "text/plain": [
       "array([ 0,  6, 20, 42, 72])"
      ]
     },
     "execution_count": 70,
     "metadata": {},
     "output_type": "execute_result"
    }
   ],
   "source": [
    "a.prod(axis = 1)"
   ]
  },
  {
   "cell_type": "markdown",
   "id": "d79fa195",
   "metadata": {},
   "source": [
    "## Min/Max"
   ]
  },
  {
   "cell_type": "code",
   "execution_count": 71,
   "id": "7c296dc3",
   "metadata": {},
   "outputs": [
    {
     "data": {
      "text/plain": [
       "array([0, 1, 2, 3, 4])"
      ]
     },
     "execution_count": 71,
     "metadata": {},
     "output_type": "execute_result"
    }
   ],
   "source": [
    "# Min – Find the minimum. max for maximum\n",
    "a = array([[0, 1, 2, 3, 4],\n",
    "          [5, 6, 7, 8, 9]])\n",
    "a.min(axis = 0) "
   ]
  },
  {
   "cell_type": "code",
   "execution_count": 72,
   "id": "b96ab60f",
   "metadata": {},
   "outputs": [
    {
     "data": {
      "text/plain": [
       "array([0, 5])"
      ]
     },
     "execution_count": 72,
     "metadata": {},
     "output_type": "execute_result"
    }
   ],
   "source": [
    "a.min(axis = 1)"
   ]
  },
  {
   "cell_type": "code",
   "execution_count": 73,
   "id": "ed13a71e",
   "metadata": {},
   "outputs": [
    {
     "data": {
      "text/plain": [
       "array([0, 0], dtype=int64)"
      ]
     },
     "execution_count": 73,
     "metadata": {},
     "output_type": "execute_result"
    }
   ],
   "source": [
    "# argmin – finding the index of Minimum element. argmax for max\n",
    "a.argmin(axis = 1)"
   ]
  },
  {
   "cell_type": "code",
   "execution_count": 74,
   "id": "cec0de83",
   "metadata": {},
   "outputs": [
    {
     "data": {
      "text/plain": [
       "array([0, 0, 0, 0, 0], dtype=int64)"
      ]
     },
     "execution_count": 74,
     "metadata": {},
     "output_type": "execute_result"
    }
   ],
   "source": [
    "a.argmin(axis = 0)"
   ]
  },
  {
   "cell_type": "code",
   "execution_count": 75,
   "id": "0d42531a",
   "metadata": {},
   "outputs": [
    {
     "data": {
      "text/plain": [
       "array([1, 5, 9])"
      ]
     },
     "execution_count": 75,
     "metadata": {},
     "output_type": "execute_result"
    }
   ],
   "source": [
    "# Diagonal - Extract the diagonal from array\n",
    "a = array([[1, 2, 3],\n",
    "           [4, 5, 6],\n",
    "           [7, 8, 9]])\n",
    "a.diagonal()"
   ]
  },
  {
   "cell_type": "markdown",
   "id": "407fb70d",
   "metadata": {},
   "source": [
    "## Statistics Array Methods"
   ]
  },
  {
   "cell_type": "code",
   "execution_count": 76,
   "id": "53eb5e6b",
   "metadata": {},
   "outputs": [
    {
     "data": {
      "text/plain": [
       "array([4., 5., 6.])"
      ]
     },
     "execution_count": 76,
     "metadata": {},
     "output_type": "execute_result"
    }
   ],
   "source": [
    "# Mean\n",
    "a = array([[1, 2, 3],\n",
    "           [4, 5, 6],\n",
    "           [7, 8, 9]])\n",
    "a.mean(axis = 0)"
   ]
  },
  {
   "cell_type": "code",
   "execution_count": 77,
   "id": "7d8e808c",
   "metadata": {},
   "outputs": [
    {
     "data": {
      "text/plain": [
       "array([4., 5., 6.])"
      ]
     },
     "execution_count": 77,
     "metadata": {},
     "output_type": "execute_result"
    }
   ],
   "source": [
    "# Average\n",
    "average(a, axis = 0)"
   ]
  },
  {
   "cell_type": "code",
   "execution_count": 78,
   "id": "94fb6f51",
   "metadata": {},
   "outputs": [
    {
     "data": {
      "text/plain": [
       "array([5.28571429, 6.28571429, 7.28571429])"
      ]
     },
     "execution_count": 78,
     "metadata": {},
     "output_type": "execute_result"
    }
   ],
   "source": [
    "# Average with weights\n",
    "average(a, weights = [1, 2, 4], axis = 0) "
   ]
  },
  {
   "cell_type": "code",
   "execution_count": 79,
   "id": "f7ea390e",
   "metadata": {},
   "outputs": [
    {
     "data": {
      "text/plain": [
       "array([2.44948974, 2.44948974, 2.44948974])"
      ]
     },
     "execution_count": 79,
     "metadata": {},
     "output_type": "execute_result"
    }
   ],
   "source": [
    "# Standard Deviation\n",
    "a.std(axis = 0)"
   ]
  },
  {
   "cell_type": "code",
   "execution_count": 80,
   "id": "c29737e7",
   "metadata": {},
   "outputs": [
    {
     "data": {
      "text/plain": [
       "array([6., 6., 6.])"
      ]
     },
     "execution_count": 80,
     "metadata": {},
     "output_type": "execute_result"
    }
   ],
   "source": [
    "# Variance\n",
    "a.var(axis = 0) "
   ]
  },
  {
   "cell_type": "markdown",
   "id": "851b1690",
   "metadata": {},
   "source": [
    "## Other Useful Array Methods"
   ]
  },
  {
   "cell_type": "code",
   "execution_count": 81,
   "id": "84aad5e1",
   "metadata": {},
   "outputs": [
    {
     "data": {
      "text/plain": [
       "array([22, 22, 22, 23, 24, 25, 26, 27, 27])"
      ]
     },
     "execution_count": 81,
     "metadata": {},
     "output_type": "execute_result"
    }
   ],
   "source": [
    "# Clip – limit the values in an array\n",
    "a = array([20, 21, 22, 23, 24, 25, 26, 27, 28])\n",
    "# set values less than 22 to 22 and bigger than 27 to 27\n",
    "a.clip(22, 27)"
   ]
  },
  {
   "cell_type": "code",
   "execution_count": 82,
   "id": "9498ccda",
   "metadata": {},
   "outputs": [
    {
     "data": {
      "text/plain": [
       "8"
      ]
     },
     "execution_count": 82,
     "metadata": {},
     "output_type": "execute_result"
    }
   ],
   "source": [
    "# Peak to Peak - Range of values (maximum - minimum) along an axis\n",
    "a.ptp(axis = 0)"
   ]
  },
  {
   "cell_type": "code",
   "execution_count": 83,
   "id": "d39f1956",
   "metadata": {},
   "outputs": [
    {
     "data": {
      "text/plain": [
       "array([1., 2., 4., 5.])"
      ]
     },
     "execution_count": 83,
     "metadata": {},
     "output_type": "execute_result"
    }
   ],
   "source": [
    "# Rounding Float Numbers\n",
    "a = array([1.19, 2.42, 3.91, 4.66])\n",
    "a.round()"
   ]
  },
  {
   "cell_type": "code",
   "execution_count": 84,
   "id": "c6e00cf0",
   "metadata": {},
   "outputs": [
    {
     "data": {
      "text/plain": [
       "array([1.2, 2.4, 3.9, 4.7])"
      ]
     },
     "execution_count": 84,
     "metadata": {},
     "output_type": "execute_result"
    }
   ],
   "source": [
    "a.round(decimals = 1)"
   ]
  },
  {
   "cell_type": "markdown",
   "id": "ddd1e923",
   "metadata": {},
   "source": [
    "# SciPy\n",
    "SciPy is a collection of mathematical algorithms and convenience functions built on NumPy . It adds significant power to Python by providing the user with high-level commands and classes for manipulating and visualizing data.\n",
    "\n",
    "Important subpackages:\n",
    "- linalg: Linear algebra\n",
    "- sparse: Sparse matricies and associated routines\n",
    "- stats: Statistical distributions and functions\n",
    "\n",
    "Reference: https://docs.scipy.org/doc/scipy/tutorial/index.html#user-guide"
   ]
  },
  {
   "cell_type": "markdown",
   "id": "d56616cb",
   "metadata": {},
   "source": [
    "## scipy.linalg\n",
    "Functions related to Linear Algebra\n",
    "Basic routines:\n",
    "- Finding Inverse - linalg.inv\n",
    "- Solving linear system - linalg.solve \n",
    "- Finding Determinant - linalg.det \n",
    "- Computing norms - linalg.norm\n",
    "\n",
    "Reference: https://docs.scipy.org/doc/scipy/reference/linalg.html"
   ]
  },
  {
   "cell_type": "markdown",
   "id": "db244bd6",
   "metadata": {},
   "source": [
    "### Inverse of a Matrix\n",
    "scipy.linalg.inv(a, overwrite_a=False, check_finite=True)"
   ]
  },
  {
   "cell_type": "code",
   "execution_count": 85,
   "id": "6e50e03a",
   "metadata": {},
   "outputs": [
    {
     "data": {
      "text/plain": [
       "array([[-2. ,  1. ],\n",
       "       [ 1.5, -0.5]])"
      ]
     },
     "execution_count": 85,
     "metadata": {},
     "output_type": "execute_result"
    }
   ],
   "source": [
    "import numpy as np\n",
    "from scipy import linalg\n",
    "a = np.array([[1., 2.], [3., 4.]])\n",
    "linalg.inv(a)"
   ]
  },
  {
   "cell_type": "code",
   "execution_count": 86,
   "id": "dbba06b1",
   "metadata": {},
   "outputs": [
    {
     "data": {
      "text/plain": [
       "array([[1.0000000e+00, 0.0000000e+00],\n",
       "       [8.8817842e-16, 1.0000000e+00]])"
      ]
     },
     "execution_count": 86,
     "metadata": {},
     "output_type": "execute_result"
    }
   ],
   "source": [
    "a.dot(linalg.inv(a)) "
   ]
  },
  {
   "cell_type": "markdown",
   "id": "31685f5d",
   "metadata": {},
   "source": [
    "### Solve the linear equation \n",
    "scipy.linalg.solve(a, b, lower=False, overwrite_a=False, overwrite_b=False, check_finite=True, assume_a='gen', transposed=False)\n",
    "set a @ x == b for the unknown x for square a matrix"
   ]
  },
  {
   "cell_type": "code",
   "execution_count": 87,
   "id": "d3779052",
   "metadata": {},
   "outputs": [
    {
     "data": {
      "text/plain": [
       "array([ 2., -2.,  9.])"
      ]
     },
     "execution_count": 87,
     "metadata": {},
     "output_type": "execute_result"
    }
   ],
   "source": [
    "import numpy as np\n",
    "from scipy import linalg\n",
    "a = np.array([[3, 2, 0], [1, -1, 0], [0, 5, 1]])\n",
    "b = np.array([2, 4, -1])\n",
    "x = linalg.solve(a, b)\n",
    "x"
   ]
  },
  {
   "cell_type": "code",
   "execution_count": 88,
   "id": "f6c52bc3",
   "metadata": {},
   "outputs": [
    {
     "data": {
      "text/plain": [
       "array([ True,  True,  True])"
      ]
     },
     "execution_count": 88,
     "metadata": {},
     "output_type": "execute_result"
    }
   ],
   "source": [
    "np.dot(a, x) == b"
   ]
  },
  {
   "cell_type": "markdown",
   "id": "f4a4e8e8",
   "metadata": {},
   "source": [
    "## Sparse matrices (scipy.sparse)\n",
    "SciPy 2-D sparse array package for numeric data\n",
    "\n",
    "Sparse matrix classes\n",
    "- bsr_matrix(arg1[, shape, dtype, copy, blocksize]) Block Sparse Row matrix. \n",
    "- coo_matrix(arg1[, shape, dtype, copy]) A sparse matrix in COOrdinate format. \n",
    "- csc_matrix(arg1[, shape, dtype, copy]) Compressed Sparse Column matrix. \n",
    "- csr_matrix(arg1[, shape, dtype, copy]) Compressed Sparse Row matrix. \n",
    "- dia_matrix(arg1[, shape, dtype, copy]) Sparse matrix with DIAgonal storage.\n",
    "- dok_matrix(arg1[, shape, dtype, copy]) Dictionary Of Keys based sparse matrix.\n",
    "- lil_matrix(arg1[, shape, dtype, copy]) Row-based linked list sparse matrix.\n",
    "- spmatrix([maxprint]) This class provides a base class for all sparse matrices.\n",
    "\n",
    "Reference: https://docs.scipy.org/doc/scipy/reference/sparse.html"
   ]
  },
  {
   "cell_type": "markdown",
   "id": "99100a04",
   "metadata": {},
   "source": [
    "### Compressed Sparse Column matrix\n",
    "class scipy.sparse.csc_matrix(arg1, shape=None, dtype=None, copy=False)"
   ]
  },
  {
   "cell_type": "code",
   "execution_count": 89,
   "id": "97cc188c",
   "metadata": {},
   "outputs": [
    {
     "data": {
      "text/plain": [
       "array([[0, 0, 0, 0],\n",
       "       [0, 0, 0, 0],\n",
       "       [0, 0, 0, 0]], dtype=int8)"
      ]
     },
     "execution_count": 89,
     "metadata": {},
     "output_type": "execute_result"
    }
   ],
   "source": [
    "import numpy as np\n",
    "from scipy.sparse import csc_matrix\n",
    "csc_matrix((3, 4), dtype=np.int8).toarray()"
   ]
  },
  {
   "cell_type": "code",
   "execution_count": 90,
   "id": "1ddc88b1",
   "metadata": {},
   "outputs": [
    {
     "data": {
      "text/plain": [
       "array([[1, 0, 4],\n",
       "       [0, 0, 5],\n",
       "       [2, 3, 6]], dtype=int32)"
      ]
     },
     "execution_count": 90,
     "metadata": {},
     "output_type": "execute_result"
    }
   ],
   "source": [
    "row = np.array([0, 2, 2, 0, 1, 2])\n",
    "col = np.array([0, 0, 1, 2, 2, 2])\n",
    "data = np.array([1, 2, 3, 4, 5, 6])\n",
    "csc_matrix((data, (row, col)), shape=(3, 3)).toarray()"
   ]
  },
  {
   "cell_type": "markdown",
   "id": "b560579a",
   "metadata": {},
   "source": [
    "## Statistics (scipy.stats)\n",
    "A large number of probability distributions as well as a growing library of statistical functions\n",
    "\n",
    "Distributions like: norm, bernoulli, poisson\n",
    "\n",
    "Statistical functions like:\n",
    "- stats: Return mean, variance \n",
    "- PDF: Probability Density Function\n",
    "- PPF: Percent Point Function (Inverse of CDF)\n",
    "\n",
    "Reference: https://docs.scipy.org/doc/scipy/reference/stats.html"
   ]
  },
  {
   "cell_type": "markdown",
   "id": "bb44b333",
   "metadata": {},
   "source": [
    "# SciPy\n",
    "SciPy is a collection of mathematical algorithms and convenience functions built on NumPy . It adds significant power to Python by providing the user with high-level commands and classes for manipulating and visualizing data.\n",
    "\n",
    "Important subpackages:\n",
    "- linalg: Linear algebra\n",
    "- sparse: Sparse matricies and associated routines\n",
    "- stats: Statistical distributions and functions\n",
    "\n",
    "Reference: https://docs.scipy.org/doc/scipy/tutorial/index.html#user-guide"
   ]
  }
 ],
 "metadata": {
  "kernelspec": {
   "display_name": "Python 3 (ipykernel)",
   "language": "python",
   "name": "python3"
  },
  "language_info": {
   "codemirror_mode": {
    "name": "ipython",
    "version": 3
   },
   "file_extension": ".py",
   "mimetype": "text/x-python",
   "name": "python",
   "nbconvert_exporter": "python",
   "pygments_lexer": "ipython3",
   "version": "3.11.5"
  }
 },
 "nbformat": 4,
 "nbformat_minor": 5
}
