{
  "cells": [
    {
      "cell_type": "code",
      "execution_count": null,
      "metadata": {
        "colab": {
          "base_uri": "https://localhost:8080/"
        },
        "id": "vUSr2IZ0hYPu",
        "outputId": "633a706d-47d7-4c83-a247-6ffe323c7ec8"
      },
      "outputs": [
        {
          "name": "stdout",
          "output_type": "stream",
          "text": [
            "Collecting pyspark\n",
            "  Downloading pyspark-3.2.1.tar.gz (281.4 MB)\n",
            "\u001b[K     |████████████████████████████████| 281.4 MB 36 kB/s \n",
            "\u001b[?25hCollecting py4j==0.10.9.3\n",
            "  Downloading py4j-0.10.9.3-py2.py3-none-any.whl (198 kB)\n",
            "\u001b[K     |████████████████████████████████| 198 kB 4.8 MB/s \n",
            "\u001b[?25hBuilding wheels for collected packages: pyspark\n",
            "  Building wheel for pyspark (setup.py) ... \u001b[?25l\u001b[?25hdone\n",
            "  Created wheel for pyspark: filename=pyspark-3.2.1-py2.py3-none-any.whl size=281853642 sha256=3969294a88357c787b01ca13b5bd8407b05f6018143509469b7790a6655f9b70\n",
            "  Stored in directory: /root/.cache/pip/wheels/9f/f5/07/7cd8017084dce4e93e84e92efd1e1d5334db05f2e83bcef74f\n",
            "Successfully built pyspark\n",
            "Installing collected packages: py4j, pyspark\n",
            "Successfully installed py4j-0.10.9.3 pyspark-3.2.1\n"
          ]
        }
      ],
      "source": [
        "!pip install pyspark  "
      ]
    },
    {
      "cell_type": "code",
      "execution_count": null,
      "metadata": {
        "colab": {
          "base_uri": "https://localhost:8080/"
        },
        "id": "r3-kYJgki1xQ",
        "outputId": "b333706c-e483-4435-824a-3400b1a9bad5"
      },
      "outputs": [
        {
          "name": "stdout",
          "output_type": "stream",
          "text": [
            "--2022-03-13 23:12:41--  https://storage.googleapis.com/met-cs-777-data/20-news-same-line.txt\n",
            "Resolving storage.googleapis.com (storage.googleapis.com)... 142.250.65.80, 142.251.33.208, 172.217.12.240, ...\n",
            "Connecting to storage.googleapis.com (storage.googleapis.com)|142.250.65.80|:443... connected.\n",
            "HTTP request sent, awaiting response... 200 OK\n",
            "Length: 36956158 (35M) [text/plain]\n",
            "Saving to: ‘20-news-same-line.txt’\n",
            "\n",
            "20-news-same-line.t 100%[===================>]  35.24M   115MB/s    in 0.3s    \n",
            "\n",
            "2022-03-13 23:12:41 (115 MB/s) - ‘20-news-same-line.txt’ saved [36956158/36956158]\n",
            "\n"
          ]
        }
      ],
      "source": [
        "# Get the data\n",
        "! wget https://storage.googleapis.com/met-cs-777-data/20-news-same-line.txt"
      ]
    },
    {
      "cell_type": "code",
      "execution_count": null,
      "metadata": {
        "colab": {
          "base_uri": "https://localhost:8080/"
        },
        "id": "SMUrC06DhkKP",
        "outputId": "4bee2fa4-99e6-403f-88eb-0443f62c38ba"
      },
      "outputs": [
        {
          "name": "stdout",
          "output_type": "stream",
          "text": [
            "Writing run.py\n"
          ]
        }
      ],
      "source": [
        "# Create Python Script\n",
        "%%writefile run.py\n",
        "from __future__ import print_function\n",
        "import sys\n",
        "from operator import add\n",
        "from pyspark import SparkContext\n",
        "\n",
        "\n",
        "if __name__ == \"__main__\":\n",
        "    if len(sys.argv) != 3:\n",
        "        print(\"Usage: wordcount <file> <output> \", file=sys.stderr)\n",
        "        exit(-1)\n",
        "        \n",
        "    sc = SparkContext()\n",
        "    lines = sc.textFile(sys.argv[1])\n",
        "    \n",
        "    counts = lines.flatMap(lambda x: x.split(' ')).map(lambda x: (x, 1)).reduceByKey(add)\n",
        "    \n",
        "    counts.saveAsTextFile(sys.argv[2])\n",
        "    \n",
        "    sc.stop()"
      ]
    },
    {
      "cell_type": "code",
      "execution_count": null,
      "metadata": {
        "id": "-IxFMDk-hkRX"
      },
      "outputs": [],
      "source": [
        "# Run the script with comand line arguments\n",
        "%run run.py 20-news-same-line.txt out3"
      ]
    },
    {
      "cell_type": "code",
      "execution_count": null,
      "metadata": {
        "id": "bRX5FmzlkN_G"
      },
      "outputs": [],
      "source": []
    }
  ],
  "metadata": {
    "colab": {
      "name": "Colab: Run .py script.ipynb",
      "provenance": []
    },
    "kernelspec": {
      "display_name": "spark",
      "language": "python",
      "name": "python3"
    },
    "language_info": {
      "name": "python",
      "version": "3.10.4"
    },
    "vscode": {
      "interpreter": {
        "hash": "9db6cbf0fd79f8e79653fe7b0c50b956ca6e525ee712295da3c66f75e4fe96ce"
      }
    }
  },
  "nbformat": 4,
  "nbformat_minor": 0
}
