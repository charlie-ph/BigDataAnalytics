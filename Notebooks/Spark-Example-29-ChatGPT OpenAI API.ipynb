{
 "cells": [
  {
   "cell_type": "markdown",
   "metadata": {},
   "source": [
    "# ChatGPT for sentiment analysis"
   ]
  },
  {
   "cell_type": "code",
   "execution_count": 2,
   "metadata": {},
   "outputs": [],
   "source": [
    "import findspark\n",
    "findspark.init()\n",
    "from pyspark import SparkContext\n",
    "from pyspark.sql import SparkSession\n",
    "\n",
    "spark = SparkSession.builder \\\n",
    "    .master('local[*]') \\\n",
    "    .appName('Spark-Example-30-ChatGPT') \\\n",
    "    .getOrCreate()"
   ]
  },
  {
   "cell_type": "code",
   "execution_count": 3,
   "metadata": {},
   "outputs": [],
   "source": [
    "# Bring in deps\n",
    "import os \n",
    "from pyspark.sql import SparkSession\n",
    "from working.apikey import apikey\n",
    "import openai\n",
    "import tiktoken\n",
    "\n",
    "os.environ['OPENAI_API_KEY'] = apikey\n",
    "openai.api_key = apikey"
   ]
  },
  {
   "cell_type": "code",
   "execution_count": 4,
   "metadata": {},
   "outputs": [],
   "source": [
    "def num_tokens_from_string(string: str, encoding_model: str = \"gpt-3.5-turbo\") -> int:\n",
    "    \"\"\"Returns the number of tokens in a text string.\"\"\"\n",
    "    encoding = tiktoken.encoding_for_model(encoding_model)\n",
    "    num_tokens = len(encoding.encode(string))\n",
    "    return num_tokens"
   ]
  },
  {
   "cell_type": "code",
   "execution_count": 5,
   "metadata": {},
   "outputs": [],
   "source": [
    "encoding = tiktoken.encoding_for_model(\"gpt-3.5-turbo\")"
   ]
  },
  {
   "cell_type": "code",
   "execution_count": 6,
   "metadata": {},
   "outputs": [
    {
     "name": "stdout",
     "output_type": "stream",
     "text": [
      "Number of words in the prompt: 61\n",
      "Number of tokens in the prompt: 86\n",
      "Result from OpenAI:\n",
      "{\"The CS 777 class is awesome!\":\"positive\",\n",
      "\"The CS 777 class is terrible!\":\"negative\",\n",
      "\"The CS 777 class is ok!\":\"neutral\",\n",
      "\"The CS 777 is a challenging course.\":\"neutral\",\n",
      "\"The CS 777 class is a lot of fun but a lot of work.\":\"neutral\"}\n"
     ]
    }
   ],
   "source": [
    "# create openai instance\n",
    "openai.api_key = apikey\n",
    "\n",
    "# create opeinai prompt\n",
    "prompt_task = 'Detect the sentiment of the texts and return the result in JSON without any other explanations, '+\\\n",
    "              'in the format {\"text\":\"sentiment\"\\n\"text\":\"sentiment\"\\n\"text\":\"sentiment\"}:\\n'\n",
    "\n",
    "text = \"\"\"\n",
    "The CS 777 class is awesome!\n",
    "The CS 777 class is terrible!\n",
    "The CS 777 class is ok!\n",
    "The CS 777 is a challenging course.\n",
    "The CS 777 class is a lot of fun but a lot of work.\n",
    "\"\"\"\n",
    "prompt = prompt_task + text \n",
    "# print number of tokens in prompt using split\n",
    "print(\"Number of words in the prompt:\",len(prompt.split()))\n",
    "# print number of tokens in prompt using tiktoken\n",
    "print(\"Number of tokens in the prompt:\",num_tokens_from_string(prompt))\n",
    "\n",
    "# create openai response using\n",
    "response = openai.ChatCompletion.create(\n",
    "    model=\"gpt-3.5-turbo\",\n",
    "    messages=[{\"role\": \"user\", \"content\": prompt}]\n",
    ")\n",
    "r = response[\"choices\"][0][\"message\"][\"content\"]\n",
    "\n",
    "# print the first response\n",
    "print(\"Result from OpenAI:\")\n",
    "\n",
    "print(r)\n"
   ]
  },
  {
   "cell_type": "code",
   "execution_count": null,
   "metadata": {},
   "outputs": [],
   "source": []
  }
 ],
 "metadata": {
  "kernelspec": {
   "display_name": "spark",
   "language": "python",
   "name": "python3"
  },
  "language_info": {
   "codemirror_mode": {
    "name": "ipython",
    "version": 3
   },
   "file_extension": ".py",
   "mimetype": "text/x-python",
   "name": "python",
   "nbconvert_exporter": "python",
   "pygments_lexer": "ipython3",
   "version": "3.10.4"
  },
  "orig_nbformat": 4
 },
 "nbformat": 4,
 "nbformat_minor": 2
}
