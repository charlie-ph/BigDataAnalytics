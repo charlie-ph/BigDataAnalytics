{
  "cells": [
    {
      "cell_type": "markdown",
      "metadata": {
        "id": "64k1f686TlpX"
      },
      "source": [
        "# treeAggregate\n",
        "Create a treeAggregate function that will computer maximum and minimum on an RDD in one pass."
      ]
    },
    {
      "cell_type": "code",
      "execution_count": 2,
      "metadata": {},
      "outputs": [],
      "source": [
        "## This command will override default Jupyter cell output style to prevent 'word-wrap' behavior for spark dataframes. \n",
        "\n",
        "# from IPython.core.display import HTML\n",
        "\n",
        "# HTML(\"\"\"<style>\n",
        "#     .output-plaintext, .output-stream, .output{\n",
        "#         white-space: pre !important;\n",
        "#         font-family: Monaco; # Any monospaced font should work\n",
        "#     }</style>\"\"\")"
      ]
    },
    {
      "cell_type": "code",
      "execution_count": 3,
      "metadata": {},
      "outputs": [],
      "source": [
        "import findspark\n",
        "findspark.init()"
      ]
    },
    {
      "cell_type": "code",
      "execution_count": 4,
      "metadata": {
        "id": "24L8SpQe5aEY"
      },
      "outputs": [],
      "source": [
        "from pyspark import SparkContext\n",
        "from pyspark.sql import SparkSession\n",
        "sc = SparkContext(\"local\")\n",
        "spark = SparkSession.builder.getOrCreate()"
      ]
    },
    {
      "cell_type": "code",
      "execution_count": 5,
      "metadata": {},
      "outputs": [],
      "source": [
        "#spark.stop()"
      ]
    },
    {
      "cell_type": "markdown",
      "metadata": {},
      "source": [
        "## Load the data"
      ]
    },
    {
      "cell_type": "code",
      "execution_count": 6,
      "metadata": {
        "colab": {
          "base_uri": "https://localhost:8080/"
        },
        "id": "abZiG_jJ5wHV",
        "outputId": "51e87322-b53d-4c89-9b8b-6ada1b6c899b"
      },
      "outputs": [],
      "source": [
        "path=\"data\\\\\"\n",
        "testFile= path + \"taxi-data-sorted-verysmall.csv\"\n",
        "df = spark.read.format('csv').options(header='false', inferSchema='true',  sep =\",\").load(testFile)"
      ]
    },
    {
      "cell_type": "code",
      "execution_count": 7,
      "metadata": {},
      "outputs": [
        {
          "data": {
            "text/plain": [
              "10000"
            ]
          },
          "execution_count": 7,
          "metadata": {},
          "output_type": "execute_result"
        }
      ],
      "source": [
        "df.count()"
      ]
    },
    {
      "cell_type": "code",
      "execution_count": 8,
      "metadata": {},
      "outputs": [
        {
          "name": "stdout",
          "output_type": "stream",
          "text": [
            "+--------------------+--------------------+-------------------+-------------------+---+----+----------+---------+----------+---------+----+----+----+----+----+----+----+\n",
            "|                 _c0|                 _c1|                _c2|                _c3|_c4| _c5|       _c6|      _c7|       _c8|      _c9|_c10|_c11|_c12|_c13|_c14|_c15|_c16|\n",
            "+--------------------+--------------------+-------------------+-------------------+---+----+----------+---------+----------+---------+----+----+----+----+----+----+----+\n",
            "|07290D3599E7A0D62...|E7750A37CAB07D0DF...|2013-01-01 00:00:00|2013-01-01 00:02:00|120|0.44|-73.956528|40.716976| -73.96244|40.715008| CSH| 3.5| 0.5| 0.5| 0.0| 0.0| 4.5|\n",
            "|22D70BF00EEB0ADC8...|3FF2709163DE7036F...|2013-01-01 00:02:00|2013-01-01 00:02:00|  0| 0.0|       0.0|      0.0|       0.0|      0.0| CSH|27.0| 0.0| 0.5| 0.0| 0.0|27.5|\n",
            "|0EC22AAF491A8BD91...|778C92B26AE78A9EB...|2013-01-01 00:01:00|2013-01-01 00:03:00|120|0.71|-73.973145|40.752827|-73.965897|40.760445| CSH| 4.0| 0.5| 0.5| 0.0| 0.0| 5.0|\n",
            "|1390FB380189DF6BB...|BE317B986700F63C4...|2013-01-01 00:01:00|2013-01-01 00:03:00|120|0.48|-74.004173|40.720947|-74.003838|40.726189| CSH| 4.0| 0.5| 0.5| 0.0| 0.0| 5.0|\n",
            "|3B4129883A1D05BE8...|7077F9FD5AD649AEA...|2013-01-01 00:01:00|2013-01-01 00:03:00|120|0.61|-73.987373|40.724861|-73.983772|40.730995| CRD| 4.0| 0.5| 0.5| 0.0| 0.0| 5.0|\n",
            "+--------------------+--------------------+-------------------+-------------------+---+----+----------+---------+----------+---------+----+----+----+----+----+----+----+\n",
            "only showing top 5 rows\n",
            "\n"
          ]
        }
      ],
      "source": [
        "df.show(5, truncate=True)"
      ]
    },
    {
      "cell_type": "code",
      "execution_count": 9,
      "metadata": {},
      "outputs": [
        {
          "data": {
            "text/html": [
              "<div>\n",
              "<style scoped>\n",
              "    .dataframe tbody tr th:only-of-type {\n",
              "        vertical-align: middle;\n",
              "    }\n",
              "\n",
              "    .dataframe tbody tr th {\n",
              "        vertical-align: top;\n",
              "    }\n",
              "\n",
              "    .dataframe thead th {\n",
              "        text-align: right;\n",
              "    }\n",
              "</style>\n",
              "<table border=\"1\" class=\"dataframe\">\n",
              "  <thead>\n",
              "    <tr style=\"text-align: right;\">\n",
              "      <th></th>\n",
              "      <th>_c0</th>\n",
              "      <th>_c1</th>\n",
              "      <th>_c2</th>\n",
              "      <th>_c3</th>\n",
              "      <th>_c4</th>\n",
              "      <th>_c5</th>\n",
              "      <th>_c6</th>\n",
              "      <th>_c7</th>\n",
              "      <th>_c8</th>\n",
              "      <th>_c9</th>\n",
              "      <th>_c10</th>\n",
              "      <th>_c11</th>\n",
              "      <th>_c12</th>\n",
              "      <th>_c13</th>\n",
              "      <th>_c14</th>\n",
              "      <th>_c15</th>\n",
              "      <th>_c16</th>\n",
              "    </tr>\n",
              "  </thead>\n",
              "  <tbody>\n",
              "    <tr>\n",
              "      <th>0</th>\n",
              "      <td>07290D3599E7A0D62097A346EFCC1FB5</td>\n",
              "      <td>E7750A37CAB07D0DFF0AF7E3573AC141</td>\n",
              "      <td>2013-01-01 00:00:00</td>\n",
              "      <td>2013-01-01 00:02:00</td>\n",
              "      <td>120</td>\n",
              "      <td>0.44</td>\n",
              "      <td>-73.956528</td>\n",
              "      <td>40.716976</td>\n",
              "      <td>-73.962440</td>\n",
              "      <td>40.715008</td>\n",
              "      <td>CSH</td>\n",
              "      <td>3.5</td>\n",
              "      <td>0.5</td>\n",
              "      <td>0.5</td>\n",
              "      <td>0.0</td>\n",
              "      <td>0.0</td>\n",
              "      <td>4.5</td>\n",
              "    </tr>\n",
              "    <tr>\n",
              "      <th>1</th>\n",
              "      <td>22D70BF00EEB0ADC83BA8177BB861991</td>\n",
              "      <td>3FF2709163DE7036FCAA4E5A3324E4BF</td>\n",
              "      <td>2013-01-01 00:02:00</td>\n",
              "      <td>2013-01-01 00:02:00</td>\n",
              "      <td>0</td>\n",
              "      <td>0.00</td>\n",
              "      <td>0.000000</td>\n",
              "      <td>0.000000</td>\n",
              "      <td>0.000000</td>\n",
              "      <td>0.000000</td>\n",
              "      <td>CSH</td>\n",
              "      <td>27.0</td>\n",
              "      <td>0.0</td>\n",
              "      <td>0.5</td>\n",
              "      <td>0.0</td>\n",
              "      <td>0.0</td>\n",
              "      <td>27.5</td>\n",
              "    </tr>\n",
              "    <tr>\n",
              "      <th>2</th>\n",
              "      <td>0EC22AAF491A8BD91F279350C2B010FD</td>\n",
              "      <td>778C92B26AE78A9EBDF96B49C67E4007</td>\n",
              "      <td>2013-01-01 00:01:00</td>\n",
              "      <td>2013-01-01 00:03:00</td>\n",
              "      <td>120</td>\n",
              "      <td>0.71</td>\n",
              "      <td>-73.973145</td>\n",
              "      <td>40.752827</td>\n",
              "      <td>-73.965897</td>\n",
              "      <td>40.760445</td>\n",
              "      <td>CSH</td>\n",
              "      <td>4.0</td>\n",
              "      <td>0.5</td>\n",
              "      <td>0.5</td>\n",
              "      <td>0.0</td>\n",
              "      <td>0.0</td>\n",
              "      <td>5.0</td>\n",
              "    </tr>\n",
              "    <tr>\n",
              "      <th>3</th>\n",
              "      <td>1390FB380189DF6BBFDA4DC847CAD14F</td>\n",
              "      <td>BE317B986700F63C43438482792C8654</td>\n",
              "      <td>2013-01-01 00:01:00</td>\n",
              "      <td>2013-01-01 00:03:00</td>\n",
              "      <td>120</td>\n",
              "      <td>0.48</td>\n",
              "      <td>-74.004173</td>\n",
              "      <td>40.720947</td>\n",
              "      <td>-74.003838</td>\n",
              "      <td>40.726189</td>\n",
              "      <td>CSH</td>\n",
              "      <td>4.0</td>\n",
              "      <td>0.5</td>\n",
              "      <td>0.5</td>\n",
              "      <td>0.0</td>\n",
              "      <td>0.0</td>\n",
              "      <td>5.0</td>\n",
              "    </tr>\n",
              "    <tr>\n",
              "      <th>4</th>\n",
              "      <td>3B4129883A1D05BE89F2C929DE136281</td>\n",
              "      <td>7077F9FD5AD649AEACA4746B2537E3FA</td>\n",
              "      <td>2013-01-01 00:01:00</td>\n",
              "      <td>2013-01-01 00:03:00</td>\n",
              "      <td>120</td>\n",
              "      <td>0.61</td>\n",
              "      <td>-73.987373</td>\n",
              "      <td>40.724861</td>\n",
              "      <td>-73.983772</td>\n",
              "      <td>40.730995</td>\n",
              "      <td>CRD</td>\n",
              "      <td>4.0</td>\n",
              "      <td>0.5</td>\n",
              "      <td>0.5</td>\n",
              "      <td>0.0</td>\n",
              "      <td>0.0</td>\n",
              "      <td>5.0</td>\n",
              "    </tr>\n",
              "  </tbody>\n",
              "</table>\n",
              "</div>"
            ],
            "text/plain": [
              "                                _c0                               _c1  \\\n",
              "0  07290D3599E7A0D62097A346EFCC1FB5  E7750A37CAB07D0DFF0AF7E3573AC141   \n",
              "1  22D70BF00EEB0ADC83BA8177BB861991  3FF2709163DE7036FCAA4E5A3324E4BF   \n",
              "2  0EC22AAF491A8BD91F279350C2B010FD  778C92B26AE78A9EBDF96B49C67E4007   \n",
              "3  1390FB380189DF6BBFDA4DC847CAD14F  BE317B986700F63C43438482792C8654   \n",
              "4  3B4129883A1D05BE89F2C929DE136281  7077F9FD5AD649AEACA4746B2537E3FA   \n",
              "\n",
              "                   _c2                  _c3  _c4   _c5        _c6        _c7  \\\n",
              "0  2013-01-01 00:00:00  2013-01-01 00:02:00  120  0.44 -73.956528  40.716976   \n",
              "1  2013-01-01 00:02:00  2013-01-01 00:02:00    0  0.00   0.000000   0.000000   \n",
              "2  2013-01-01 00:01:00  2013-01-01 00:03:00  120  0.71 -73.973145  40.752827   \n",
              "3  2013-01-01 00:01:00  2013-01-01 00:03:00  120  0.48 -74.004173  40.720947   \n",
              "4  2013-01-01 00:01:00  2013-01-01 00:03:00  120  0.61 -73.987373  40.724861   \n",
              "\n",
              "         _c8        _c9 _c10  _c11  _c12  _c13  _c14  _c15  _c16  \n",
              "0 -73.962440  40.715008  CSH   3.5   0.5   0.5   0.0   0.0   4.5  \n",
              "1   0.000000   0.000000  CSH  27.0   0.0   0.5   0.0   0.0  27.5  \n",
              "2 -73.965897  40.760445  CSH   4.0   0.5   0.5   0.0   0.0   5.0  \n",
              "3 -74.003838  40.726189  CSH   4.0   0.5   0.5   0.0   0.0   5.0  \n",
              "4 -73.983772  40.730995  CRD   4.0   0.5   0.5   0.0   0.0   5.0  "
            ]
          },
          "execution_count": 9,
          "metadata": {},
          "output_type": "execute_result"
        }
      ],
      "source": [
        "df.toPandas().head(5)"
      ]
    },
    {
      "cell_type": "code",
      "execution_count": 10,
      "metadata": {
        "colab": {
          "base_uri": "https://localhost:8080/"
        },
        "id": "8MufUYlGN0Sx",
        "outputId": "e0502b69-b417-4eb7-f115-b6efcc965ef9"
      },
      "outputs": [
        {
          "name": "stdout",
          "output_type": "stream",
          "text": [
            "root\n",
            " |-- _c0: string (nullable = true)\n",
            " |-- _c1: string (nullable = true)\n",
            " |-- _c2: string (nullable = true)\n",
            " |-- _c3: string (nullable = true)\n",
            " |-- _c4: integer (nullable = true)\n",
            " |-- _c5: double (nullable = true)\n",
            " |-- _c6: double (nullable = true)\n",
            " |-- _c7: double (nullable = true)\n",
            " |-- _c8: double (nullable = true)\n",
            " |-- _c9: double (nullable = true)\n",
            " |-- _c10: string (nullable = true)\n",
            " |-- _c11: double (nullable = true)\n",
            " |-- _c12: double (nullable = true)\n",
            " |-- _c13: double (nullable = true)\n",
            " |-- _c14: double (nullable = true)\n",
            " |-- _c15: double (nullable = true)\n",
            " |-- _c16: double (nullable = true)\n",
            "\n"
          ]
        }
      ],
      "source": [
        "df.printSchema()"
      ]
    },
    {
      "cell_type": "markdown",
      "metadata": {},
      "source": [
        "## Rename columns"
      ]
    },
    {
      "cell_type": "code",
      "execution_count": 11,
      "metadata": {},
      "outputs": [
        {
          "name": "stdout",
          "output_type": "stream",
          "text": [
            "root\n",
            " |-- medallion: string (nullable = true)\n",
            " |-- hack_license: string (nullable = true)\n",
            " |-- pickup_datetime: string (nullable = true)\n",
            " |-- dropoff_datetime: string (nullable = true)\n",
            " |-- trip_time: integer (nullable = true)\n",
            " |-- trip_distance: double (nullable = true)\n",
            " |-- pickup_longitude: double (nullable = true)\n",
            " |-- pickup_latitude: double (nullable = true)\n",
            " |-- dropoff_longitude: double (nullable = true)\n",
            " |-- dropoff_latitude: double (nullable = true)\n",
            " |-- payment_type: string (nullable = true)\n",
            " |-- fare_amount: double (nullable = true)\n",
            " |-- surcharge: double (nullable = true)\n",
            " |-- mta_tax: double (nullable = true)\n",
            " |-- tip_amount: double (nullable = true)\n",
            " |-- tolls_amount: double (nullable = true)\n",
            " |-- total_amount: double (nullable = true)\n",
            "\n"
          ]
        }
      ],
      "source": [
        "colum_names = [\"medallion\",\n",
        "    \"hack_license\",\n",
        "    'pickup_datetime',\n",
        "    'dropoff_datetime',\n",
        "    'trip_time',\n",
        "    'trip_distance',\n",
        "    'pickup_longitude',\n",
        "    'pickup_latitude',\n",
        "    'dropoff_longitude',\n",
        "    'dropoff_latitude',\n",
        "    'payment_type',\n",
        "    'fare_amount',\n",
        "    'surcharge',\n",
        "    'mta_tax',\n",
        "    'tip_amount',\n",
        "    'tolls_amount',\n",
        "    'total_amount',\n",
        "] \n",
        "df = df.toDF(*colum_names)\n",
        "df.printSchema()"
      ]
    },
    {
      "cell_type": "markdown",
      "metadata": {},
      "source": [
        "## Drop Columns"
      ]
    },
    {
      "cell_type": "code",
      "execution_count": 12,
      "metadata": {},
      "outputs": [
        {
          "name": "stdout",
          "output_type": "stream",
          "text": [
            "root\n",
            " |-- medallion: string (nullable = true)\n",
            " |-- hack_license: string (nullable = true)\n",
            " |-- pickup_datetime: string (nullable = true)\n",
            " |-- dropoff_datetime: string (nullable = true)\n",
            " |-- trip_time: integer (nullable = true)\n",
            " |-- trip_distance: double (nullable = true)\n",
            " |-- payment_type: string (nullable = true)\n",
            " |-- fare_amount: double (nullable = true)\n",
            " |-- surcharge: double (nullable = true)\n",
            " |-- mta_tax: double (nullable = true)\n",
            " |-- tip_amount: double (nullable = true)\n",
            " |-- tolls_amount: double (nullable = true)\n",
            " |-- total_amount: double (nullable = true)\n",
            "\n"
          ]
        }
      ],
      "source": [
        "drop_colum_names = [\n",
        "    'pickup_longitude',\n",
        "    'pickup_latitude',\n",
        "    'dropoff_longitude',\n",
        "    'dropoff_latitude',\n",
        "]\n",
        "df = df.drop(*drop_colum_names) \n",
        "df.printSchema()"
      ]
    },
    {
      "cell_type": "markdown",
      "metadata": {},
      "source": [
        "# Add new columns"
      ]
    },
    {
      "cell_type": "code",
      "execution_count": 13,
      "metadata": {
        "colab": {
          "base_uri": "https://localhost:8080/"
        },
        "id": "6zevLIm75wKA",
        "outputId": "4342cef2-3d96-4d1b-a0bc-a61b02f7e8a8"
      },
      "outputs": [
        {
          "name": "stdout",
          "output_type": "stream",
          "text": [
            "+--------------------------------+--------------------------------+-------------------+-------------------+---------+-------------+------------+-----------+---------+-------+----------+------------+------------+----+-----+---+----+------+\n",
            "|medallion                       |hack_license                    |pickup_datetime    |dropoff_datetime   |trip_time|trip_distance|payment_type|fare_amount|surcharge|mta_tax|tip_amount|tolls_amount|total_amount|year|month|day|hour|minute|\n",
            "+--------------------------------+--------------------------------+-------------------+-------------------+---------+-------------+------------+-----------+---------+-------+----------+------------+------------+----+-----+---+----+------+\n",
            "|07290D3599E7A0D62097A346EFCC1FB5|E7750A37CAB07D0DFF0AF7E3573AC141|2013-01-01 00:00:00|2013-01-01 00:02:00|120      |0.44         |CSH         |3.5        |0.5      |0.5    |0.0       |0.0         |4.5         |2013|01   |01 |00  |00    |\n",
            "|22D70BF00EEB0ADC83BA8177BB861991|3FF2709163DE7036FCAA4E5A3324E4BF|2013-01-01 00:02:00|2013-01-01 00:02:00|0        |0.0          |CSH         |27.0       |0.0      |0.5    |0.0       |0.0         |27.5        |2013|01   |01 |00  |02    |\n",
            "|0EC22AAF491A8BD91F279350C2B010FD|778C92B26AE78A9EBDF96B49C67E4007|2013-01-01 00:01:00|2013-01-01 00:03:00|120      |0.71         |CSH         |4.0        |0.5      |0.5    |0.0       |0.0         |5.0         |2013|01   |01 |00  |01    |\n",
            "|1390FB380189DF6BBFDA4DC847CAD14F|BE317B986700F63C43438482792C8654|2013-01-01 00:01:00|2013-01-01 00:03:00|120      |0.48         |CSH         |4.0        |0.5      |0.5    |0.0       |0.0         |5.0         |2013|01   |01 |00  |01    |\n",
            "|3B4129883A1D05BE89F2C929DE136281|7077F9FD5AD649AEACA4746B2537E3FA|2013-01-01 00:01:00|2013-01-01 00:03:00|120      |0.61         |CRD         |4.0        |0.5      |0.5    |0.0       |0.0         |5.0         |2013|01   |01 |00  |01    |\n",
            "+--------------------------------+--------------------------------+-------------------+-------------------+---------+-------------+------------+-----------+---------+-------+----------+------------+------------+----+-----+---+----+------+\n",
            "only showing top 5 rows\n",
            "\n"
          ]
        }
      ],
      "source": [
        "from pyspark.sql.functions import col, substring\n",
        "# Note: Please note that the position is not zero based, but 1 based index.\n",
        "# Create a new columns wiht the year, month, day, hour and minute of the taxi trip\n",
        "df = df.withColumn('year', substring('pickup_datetime', 1,4))\\\n",
        "    .withColumn('month', substring('pickup_datetime', 6,2))\\\n",
        "    .withColumn('day', substring('pickup_datetime', 9,2))\\\n",
        "    .withColumn('hour', substring('pickup_datetime', 12,2))\\\n",
        "    .withColumn('minute', substring('pickup_datetime', 15,2))\n",
        "df.show(5,truncate=False, vertical=False)"
      ]
    },
    {
      "cell_type": "code",
      "execution_count": 14,
      "metadata": {},
      "outputs": [
        {
          "data": {
            "text/html": [
              "<div>\n",
              "<style scoped>\n",
              "    .dataframe tbody tr th:only-of-type {\n",
              "        vertical-align: middle;\n",
              "    }\n",
              "\n",
              "    .dataframe tbody tr th {\n",
              "        vertical-align: top;\n",
              "    }\n",
              "\n",
              "    .dataframe thead th {\n",
              "        text-align: right;\n",
              "    }\n",
              "</style>\n",
              "<table border=\"1\" class=\"dataframe\">\n",
              "  <thead>\n",
              "    <tr style=\"text-align: right;\">\n",
              "      <th></th>\n",
              "      <th>medallion</th>\n",
              "      <th>hack_license</th>\n",
              "      <th>pickup_datetime</th>\n",
              "      <th>dropoff_datetime</th>\n",
              "      <th>trip_time</th>\n",
              "      <th>trip_distance</th>\n",
              "      <th>payment_type</th>\n",
              "      <th>fare_amount</th>\n",
              "      <th>surcharge</th>\n",
              "      <th>mta_tax</th>\n",
              "      <th>tip_amount</th>\n",
              "      <th>tolls_amount</th>\n",
              "      <th>total_amount</th>\n",
              "      <th>year</th>\n",
              "      <th>month</th>\n",
              "      <th>day</th>\n",
              "      <th>hour</th>\n",
              "      <th>minute</th>\n",
              "    </tr>\n",
              "  </thead>\n",
              "  <tbody>\n",
              "    <tr>\n",
              "      <th>0</th>\n",
              "      <td>07290D3599E7A0D62097A346EFCC1FB5</td>\n",
              "      <td>E7750A37CAB07D0DFF0AF7E3573AC141</td>\n",
              "      <td>2013-01-01 00:00:00</td>\n",
              "      <td>2013-01-01 00:02:00</td>\n",
              "      <td>120</td>\n",
              "      <td>0.44</td>\n",
              "      <td>CSH</td>\n",
              "      <td>3.5</td>\n",
              "      <td>0.5</td>\n",
              "      <td>0.5</td>\n",
              "      <td>0.0</td>\n",
              "      <td>0.0</td>\n",
              "      <td>4.5</td>\n",
              "      <td>2013</td>\n",
              "      <td>01</td>\n",
              "      <td>01</td>\n",
              "      <td>00</td>\n",
              "      <td>00</td>\n",
              "    </tr>\n",
              "    <tr>\n",
              "      <th>1</th>\n",
              "      <td>22D70BF00EEB0ADC83BA8177BB861991</td>\n",
              "      <td>3FF2709163DE7036FCAA4E5A3324E4BF</td>\n",
              "      <td>2013-01-01 00:02:00</td>\n",
              "      <td>2013-01-01 00:02:00</td>\n",
              "      <td>0</td>\n",
              "      <td>0.00</td>\n",
              "      <td>CSH</td>\n",
              "      <td>27.0</td>\n",
              "      <td>0.0</td>\n",
              "      <td>0.5</td>\n",
              "      <td>0.0</td>\n",
              "      <td>0.0</td>\n",
              "      <td>27.5</td>\n",
              "      <td>2013</td>\n",
              "      <td>01</td>\n",
              "      <td>01</td>\n",
              "      <td>00</td>\n",
              "      <td>02</td>\n",
              "    </tr>\n",
              "    <tr>\n",
              "      <th>2</th>\n",
              "      <td>0EC22AAF491A8BD91F279350C2B010FD</td>\n",
              "      <td>778C92B26AE78A9EBDF96B49C67E4007</td>\n",
              "      <td>2013-01-01 00:01:00</td>\n",
              "      <td>2013-01-01 00:03:00</td>\n",
              "      <td>120</td>\n",
              "      <td>0.71</td>\n",
              "      <td>CSH</td>\n",
              "      <td>4.0</td>\n",
              "      <td>0.5</td>\n",
              "      <td>0.5</td>\n",
              "      <td>0.0</td>\n",
              "      <td>0.0</td>\n",
              "      <td>5.0</td>\n",
              "      <td>2013</td>\n",
              "      <td>01</td>\n",
              "      <td>01</td>\n",
              "      <td>00</td>\n",
              "      <td>01</td>\n",
              "    </tr>\n",
              "    <tr>\n",
              "      <th>3</th>\n",
              "      <td>1390FB380189DF6BBFDA4DC847CAD14F</td>\n",
              "      <td>BE317B986700F63C43438482792C8654</td>\n",
              "      <td>2013-01-01 00:01:00</td>\n",
              "      <td>2013-01-01 00:03:00</td>\n",
              "      <td>120</td>\n",
              "      <td>0.48</td>\n",
              "      <td>CSH</td>\n",
              "      <td>4.0</td>\n",
              "      <td>0.5</td>\n",
              "      <td>0.5</td>\n",
              "      <td>0.0</td>\n",
              "      <td>0.0</td>\n",
              "      <td>5.0</td>\n",
              "      <td>2013</td>\n",
              "      <td>01</td>\n",
              "      <td>01</td>\n",
              "      <td>00</td>\n",
              "      <td>01</td>\n",
              "    </tr>\n",
              "    <tr>\n",
              "      <th>4</th>\n",
              "      <td>3B4129883A1D05BE89F2C929DE136281</td>\n",
              "      <td>7077F9FD5AD649AEACA4746B2537E3FA</td>\n",
              "      <td>2013-01-01 00:01:00</td>\n",
              "      <td>2013-01-01 00:03:00</td>\n",
              "      <td>120</td>\n",
              "      <td>0.61</td>\n",
              "      <td>CRD</td>\n",
              "      <td>4.0</td>\n",
              "      <td>0.5</td>\n",
              "      <td>0.5</td>\n",
              "      <td>0.0</td>\n",
              "      <td>0.0</td>\n",
              "      <td>5.0</td>\n",
              "      <td>2013</td>\n",
              "      <td>01</td>\n",
              "      <td>01</td>\n",
              "      <td>00</td>\n",
              "      <td>01</td>\n",
              "    </tr>\n",
              "    <tr>\n",
              "      <th>...</th>\n",
              "      <td>...</td>\n",
              "      <td>...</td>\n",
              "      <td>...</td>\n",
              "      <td>...</td>\n",
              "      <td>...</td>\n",
              "      <td>...</td>\n",
              "      <td>...</td>\n",
              "      <td>...</td>\n",
              "      <td>...</td>\n",
              "      <td>...</td>\n",
              "      <td>...</td>\n",
              "      <td>...</td>\n",
              "      <td>...</td>\n",
              "      <td>...</td>\n",
              "      <td>...</td>\n",
              "      <td>...</td>\n",
              "      <td>...</td>\n",
              "      <td>...</td>\n",
              "    </tr>\n",
              "    <tr>\n",
              "      <th>9995</th>\n",
              "      <td>F476E33AE955F276113772AB44540488</td>\n",
              "      <td>B7C3EDB805D5074CFFBA649A98CBCC3D</td>\n",
              "      <td>2013-01-01 00:44:00</td>\n",
              "      <td>2013-01-01 00:56:00</td>\n",
              "      <td>720</td>\n",
              "      <td>2.22</td>\n",
              "      <td>CSH</td>\n",
              "      <td>10.0</td>\n",
              "      <td>0.5</td>\n",
              "      <td>0.5</td>\n",
              "      <td>0.0</td>\n",
              "      <td>0.0</td>\n",
              "      <td>11.0</td>\n",
              "      <td>2013</td>\n",
              "      <td>01</td>\n",
              "      <td>01</td>\n",
              "      <td>00</td>\n",
              "      <td>44</td>\n",
              "    </tr>\n",
              "    <tr>\n",
              "      <th>9996</th>\n",
              "      <td>F6AC5ED8F624EC43788EA84D9979379C</td>\n",
              "      <td>241AB3536C3494045D967E758844F5B6</td>\n",
              "      <td>2013-01-01 00:49:00</td>\n",
              "      <td>2013-01-01 00:56:00</td>\n",
              "      <td>420</td>\n",
              "      <td>0.75</td>\n",
              "      <td>CRD</td>\n",
              "      <td>6.0</td>\n",
              "      <td>0.5</td>\n",
              "      <td>0.5</td>\n",
              "      <td>1.3</td>\n",
              "      <td>0.0</td>\n",
              "      <td>8.3</td>\n",
              "      <td>2013</td>\n",
              "      <td>01</td>\n",
              "      <td>01</td>\n",
              "      <td>00</td>\n",
              "      <td>49</td>\n",
              "    </tr>\n",
              "    <tr>\n",
              "      <th>9997</th>\n",
              "      <td>F865789AEA73DF9A5CDECE38BC5BB3B5</td>\n",
              "      <td>2223D379E6348801232994F06477548E</td>\n",
              "      <td>2013-01-01 00:41:00</td>\n",
              "      <td>2013-01-01 00:56:00</td>\n",
              "      <td>900</td>\n",
              "      <td>3.64</td>\n",
              "      <td>CRD</td>\n",
              "      <td>14.0</td>\n",
              "      <td>0.5</td>\n",
              "      <td>0.5</td>\n",
              "      <td>1.0</td>\n",
              "      <td>0.0</td>\n",
              "      <td>16.0</td>\n",
              "      <td>2013</td>\n",
              "      <td>01</td>\n",
              "      <td>01</td>\n",
              "      <td>00</td>\n",
              "      <td>41</td>\n",
              "    </tr>\n",
              "    <tr>\n",
              "      <th>9998</th>\n",
              "      <td>F920D6FCA90502CC780348B1AC364596</td>\n",
              "      <td>DB93A24BCE932FD908322C103C821A39</td>\n",
              "      <td>2013-01-01 00:42:00</td>\n",
              "      <td>2013-01-01 00:56:00</td>\n",
              "      <td>840</td>\n",
              "      <td>1.43</td>\n",
              "      <td>CSH</td>\n",
              "      <td>10.0</td>\n",
              "      <td>0.5</td>\n",
              "      <td>0.5</td>\n",
              "      <td>0.0</td>\n",
              "      <td>0.0</td>\n",
              "      <td>11.0</td>\n",
              "      <td>2013</td>\n",
              "      <td>01</td>\n",
              "      <td>01</td>\n",
              "      <td>00</td>\n",
              "      <td>42</td>\n",
              "    </tr>\n",
              "    <tr>\n",
              "      <th>9999</th>\n",
              "      <td>FAC826F3A42DAC858AAB54B7509D7AC7</td>\n",
              "      <td>5DDBB30521FB88F3E242DEEEAFB47F4B</td>\n",
              "      <td>2013-01-01 00:43:00</td>\n",
              "      <td>2013-01-01 00:56:00</td>\n",
              "      <td>780</td>\n",
              "      <td>2.28</td>\n",
              "      <td>CSH</td>\n",
              "      <td>11.5</td>\n",
              "      <td>0.5</td>\n",
              "      <td>0.5</td>\n",
              "      <td>0.0</td>\n",
              "      <td>0.0</td>\n",
              "      <td>12.5</td>\n",
              "      <td>2013</td>\n",
              "      <td>01</td>\n",
              "      <td>01</td>\n",
              "      <td>00</td>\n",
              "      <td>43</td>\n",
              "    </tr>\n",
              "  </tbody>\n",
              "</table>\n",
              "<p>10000 rows × 18 columns</p>\n",
              "</div>"
            ],
            "text/plain": [
              "                             medallion                      hack_license  \\\n",
              "0     07290D3599E7A0D62097A346EFCC1FB5  E7750A37CAB07D0DFF0AF7E3573AC141   \n",
              "1     22D70BF00EEB0ADC83BA8177BB861991  3FF2709163DE7036FCAA4E5A3324E4BF   \n",
              "2     0EC22AAF491A8BD91F279350C2B010FD  778C92B26AE78A9EBDF96B49C67E4007   \n",
              "3     1390FB380189DF6BBFDA4DC847CAD14F  BE317B986700F63C43438482792C8654   \n",
              "4     3B4129883A1D05BE89F2C929DE136281  7077F9FD5AD649AEACA4746B2537E3FA   \n",
              "...                                ...                               ...   \n",
              "9995  F476E33AE955F276113772AB44540488  B7C3EDB805D5074CFFBA649A98CBCC3D   \n",
              "9996  F6AC5ED8F624EC43788EA84D9979379C  241AB3536C3494045D967E758844F5B6   \n",
              "9997  F865789AEA73DF9A5CDECE38BC5BB3B5  2223D379E6348801232994F06477548E   \n",
              "9998  F920D6FCA90502CC780348B1AC364596  DB93A24BCE932FD908322C103C821A39   \n",
              "9999  FAC826F3A42DAC858AAB54B7509D7AC7  5DDBB30521FB88F3E242DEEEAFB47F4B   \n",
              "\n",
              "          pickup_datetime     dropoff_datetime  trip_time  trip_distance  \\\n",
              "0     2013-01-01 00:00:00  2013-01-01 00:02:00        120           0.44   \n",
              "1     2013-01-01 00:02:00  2013-01-01 00:02:00          0           0.00   \n",
              "2     2013-01-01 00:01:00  2013-01-01 00:03:00        120           0.71   \n",
              "3     2013-01-01 00:01:00  2013-01-01 00:03:00        120           0.48   \n",
              "4     2013-01-01 00:01:00  2013-01-01 00:03:00        120           0.61   \n",
              "...                   ...                  ...        ...            ...   \n",
              "9995  2013-01-01 00:44:00  2013-01-01 00:56:00        720           2.22   \n",
              "9996  2013-01-01 00:49:00  2013-01-01 00:56:00        420           0.75   \n",
              "9997  2013-01-01 00:41:00  2013-01-01 00:56:00        900           3.64   \n",
              "9998  2013-01-01 00:42:00  2013-01-01 00:56:00        840           1.43   \n",
              "9999  2013-01-01 00:43:00  2013-01-01 00:56:00        780           2.28   \n",
              "\n",
              "     payment_type  fare_amount  surcharge  mta_tax  tip_amount  tolls_amount  \\\n",
              "0             CSH          3.5        0.5      0.5         0.0           0.0   \n",
              "1             CSH         27.0        0.0      0.5         0.0           0.0   \n",
              "2             CSH          4.0        0.5      0.5         0.0           0.0   \n",
              "3             CSH          4.0        0.5      0.5         0.0           0.0   \n",
              "4             CRD          4.0        0.5      0.5         0.0           0.0   \n",
              "...           ...          ...        ...      ...         ...           ...   \n",
              "9995          CSH         10.0        0.5      0.5         0.0           0.0   \n",
              "9996          CRD          6.0        0.5      0.5         1.3           0.0   \n",
              "9997          CRD         14.0        0.5      0.5         1.0           0.0   \n",
              "9998          CSH         10.0        0.5      0.5         0.0           0.0   \n",
              "9999          CSH         11.5        0.5      0.5         0.0           0.0   \n",
              "\n",
              "      total_amount  year month day hour minute  \n",
              "0              4.5  2013    01  01   00     00  \n",
              "1             27.5  2013    01  01   00     02  \n",
              "2              5.0  2013    01  01   00     01  \n",
              "3              5.0  2013    01  01   00     01  \n",
              "4              5.0  2013    01  01   00     01  \n",
              "...            ...   ...   ...  ..  ...    ...  \n",
              "9995          11.0  2013    01  01   00     44  \n",
              "9996           8.3  2013    01  01   00     49  \n",
              "9997          16.0  2013    01  01   00     41  \n",
              "9998          11.0  2013    01  01   00     42  \n",
              "9999          12.5  2013    01  01   00     43  \n",
              "\n",
              "[10000 rows x 18 columns]"
            ]
          },
          "execution_count": 14,
          "metadata": {},
          "output_type": "execute_result"
        }
      ],
      "source": [
        "df.toPandas()"
      ]
    },
    {
      "cell_type": "code",
      "execution_count": 15,
      "metadata": {},
      "outputs": [
        {
          "name": "stdout",
          "output_type": "stream",
          "text": [
            "+--------------------+--------------------+-------------------+-------------------+---------+-------------+------------+-----------+---------+-------+----------+------------+------------+----+-----+---+----+------+-------------+\n",
            "|           medallion|        hack_license|    pickup_datetime|   dropoff_datetime|trip_time|trip_distance|payment_type|fare_amount|surcharge|mta_tax|tip_amount|tolls_amount|total_amount|year|month|day|hour|minute|fare_category|\n",
            "+--------------------+--------------------+-------------------+-------------------+---------+-------------+------------+-----------+---------+-------+----------+------------+------------+----+-----+---+----+------+-------------+\n",
            "|07290D3599E7A0D62...|E7750A37CAB07D0DF...|2013-01-01 00:00:00|2013-01-01 00:02:00|      120|         0.44|         CSH|        3.5|      0.5|    0.5|       0.0|         0.0|         4.5|2013|   01| 01|  00|    00|            3|\n",
            "|22D70BF00EEB0ADC8...|3FF2709163DE7036F...|2013-01-01 00:02:00|2013-01-01 00:02:00|        0|          0.0|         CSH|       27.0|      0.0|    0.5|       0.0|         0.0|        27.5|2013|   01| 01|  00|    02|           27|\n",
            "|0EC22AAF491A8BD91...|778C92B26AE78A9EB...|2013-01-01 00:01:00|2013-01-01 00:03:00|      120|         0.71|         CSH|        4.0|      0.5|    0.5|       0.0|         0.0|         5.0|2013|   01| 01|  00|    01|            4|\n",
            "|1390FB380189DF6BB...|BE317B986700F63C4...|2013-01-01 00:01:00|2013-01-01 00:03:00|      120|         0.48|         CSH|        4.0|      0.5|    0.5|       0.0|         0.0|         5.0|2013|   01| 01|  00|    01|            4|\n",
            "|3B4129883A1D05BE8...|7077F9FD5AD649AEA...|2013-01-01 00:01:00|2013-01-01 00:03:00|      120|         0.61|         CRD|        4.0|      0.5|    0.5|       0.0|         0.0|         5.0|2013|   01| 01|  00|    01|            4|\n",
            "+--------------------+--------------------+-------------------+-------------------+---------+-------------+------------+-----------+---------+-------+----------+------------+------------+----+-----+---+----+------+-------------+\n",
            "only showing top 5 rows\n",
            "\n"
          ]
        }
      ],
      "source": [
        "# Create fare_category column as a integer of the fare_amount\n",
        "df = df.withColumn('fare_category', df['fare_amount'].cast(\"int\"))\n",
        "df.show(5)"
      ]
    },
    {
      "cell_type": "code",
      "execution_count": 16,
      "metadata": {},
      "outputs": [
        {
          "name": "stdout",
          "output_type": "stream",
          "text": [
            "+-------------+-----+\n",
            "|fare_category|count|\n",
            "+-------------+-----+\n",
            "|           31|   13|\n",
            "|           53|    2|\n",
            "|           34|   12|\n",
            "|           28|   38|\n",
            "|           27|   46|\n",
            "|           26|   51|\n",
            "|           44|    2|\n",
            "|           12|  416|\n",
            "|           22|  118|\n",
            "|          259|    1|\n",
            "+-------------+-----+\n",
            "only showing top 10 rows\n",
            "\n"
          ]
        }
      ],
      "source": [
        "df.groupBy('fare_category').count().show(10)"
      ]
    },
    {
      "cell_type": "code",
      "execution_count": 17,
      "metadata": {
        "colab": {
          "base_uri": "https://localhost:8080/"
        },
        "id": "-jzBJTZGOUXf",
        "outputId": "eeb7b046-092b-48bc-df40-6d97656f0682"
      },
      "outputs": [
        {
          "name": "stdout",
          "output_type": "stream",
          "text": [
            "+------+-----+\n",
            "|minute|count|\n",
            "+------+-----+\n",
            "|    07|  165|\n",
            "|    51|   44|\n",
            "|    15|  231|\n",
            "|    54|   10|\n",
            "|    11|  221|\n",
            "+------+-----+\n",
            "only showing top 5 rows\n",
            "\n"
          ]
        }
      ],
      "source": [
        "# Find the number of trips in given minute of the hour\n",
        "df.groupBy('minute').count().show(5)"
      ]
    },
    {
      "cell_type": "code",
      "execution_count": 18,
      "metadata": {
        "colab": {
          "base_uri": "https://localhost:8080/"
        },
        "id": "Dwn6mfE-5wMu",
        "outputId": "e695036f-3528-4c3f-a8ef-a6bc7dc07155"
      },
      "outputs": [
        {
          "data": {
            "text/plain": [
              "[('07', 165), ('51', 44), ('15', 231), ('54', 10), ('11', 221)]"
            ]
          },
          "execution_count": 18,
          "metadata": {},
          "output_type": "execute_result"
        }
      ],
      "source": [
        "# convert to RDD\n",
        "r = df.groupBy('minute').count().rdd.map(tuple)\n",
        "r.take(5)"
      ]
    },
    {
      "cell_type": "code",
      "execution_count": 19,
      "metadata": {},
      "outputs": [],
      "source": [
        "# l = [1,2,3,4,5]\n",
        "\n",
        "# s=1\n",
        "# for i in l:\n",
        "#     s = s*i\n",
        "# s\n",
        "\n",
        "# [s1,s2, s3, ...]\n",
        "\n",
        "# final_sum = finanl_sum +si"
      ]
    },
    {
      "cell_type": "markdown",
      "metadata": {},
      "source": [
        "# Custom treeAggregate functions"
      ]
    },
    {
      "cell_type": "code",
      "execution_count": 20,
      "metadata": {
        "id": "761eSbwe5wPs"
      },
      "outputs": [],
      "source": [
        "# example of function input (x = (\"k1\",-10000,\"k2\",1000000) , y = ('07', 165))\n",
        "def seqOp(x,y):\n",
        "    # res = (max_key, max_val, min_key, min_val)\n",
        "    res = [0,0,0,0]\n",
        "    if x[1] > y[1]:\n",
        "        # it the current x values are bigger than the y then keep them\n",
        "        res[0] = x[0]\n",
        "        res[1] = x[1]\n",
        "    else:\n",
        "        # y is bigger, so use y as a maximum\n",
        "        res[0] = y[0]\n",
        "        res[1] = y[1]\n",
        "    if x[3] < y[1]:\n",
        "        # if the current x values are smaller than the y then keep them\n",
        "        res[2] = x[2]\n",
        "        res[3] = x[3]\n",
        "    else:\n",
        "        # y is smaller, so use y as a minimum\n",
        "        res[2] = y[0]\n",
        "        res[3] = y[1]\n",
        "    return res\n",
        "  \n",
        "# example of function input (x = ('14',217, '49',70 ) , y = ('13',220, '50',70 ))\n",
        "def combOp(x,y):\n",
        "    # res = (max_key, max_val, min_key, min_val)\n",
        "    res = [0,0,0,0]\n",
        "    if x[1] > y[1]:\n",
        "        # if the data in the x is bigger, then use x as the result\n",
        "        res[0] = x[0]\n",
        "        res[1] = x[1]\n",
        "    else:\n",
        "        res[0] = y[0]\n",
        "        res[1] = y[1]\n",
        "    if x[3] < y[3]:\n",
        "        # if the data in the x is smaller, then use x as the result\n",
        "        res[2] = x[2]\n",
        "        res[3] = x[3]\n",
        "    else:\n",
        "        res[2] = y[2]\n",
        "        res[3] = y[3]\n",
        "    return res"
      ]
    },
    {
      "attachments": {},
      "cell_type": "markdown",
      "metadata": {},
      "source": [
        "### Testing the aggregate funntions"
      ]
    },
    {
      "cell_type": "code",
      "execution_count": 21,
      "metadata": {},
      "outputs": [
        {
          "name": "stdout",
          "output_type": "stream",
          "text": [
            "['k3', 5, 'k3', 5]\n",
            "['k1', 20, 'k3', 5]\n",
            "['k3', 25, 'k2', 10]\n"
          ]
        }
      ],
      "source": [
        "print(seqOp([\"k1\",-1000000,\"k2\",1000000],(\"k3\",5)))\n",
        "print(seqOp([\"k1\",20,\"k2\",10],(\"k3\",5)))\n",
        "print(seqOp([\"k1\",20,\"k2\",10],(\"k3\",25)))"
      ]
    },
    {
      "cell_type": "code",
      "execution_count": 22,
      "metadata": {},
      "outputs": [
        {
          "name": "stdout",
          "output_type": "stream",
          "text": [
            "['k3', 25, 'k2', 10]\n",
            "['k3', 25, 'k4', 5]\n"
          ]
        }
      ],
      "source": [
        "print(combOp([\"k1\",20,\"k2\",10],[\"k3\",25,\"k4\",15]))\n",
        "print(combOp([\"k1\",20,\"k2\",10],[\"k3\",25,\"k4\",5]))"
      ]
    },
    {
      "attachments": {},
      "cell_type": "markdown",
      "metadata": {},
      "source": [
        "### Create dataset for aggregation"
      ]
    },
    {
      "cell_type": "code",
      "execution_count": 23,
      "metadata": {},
      "outputs": [
        {
          "data": {
            "text/plain": [
              "[('07', 165),\n",
              " ('51', 44),\n",
              " ('15', 231),\n",
              " ('54', 10),\n",
              " ('11', 221),\n",
              " ('29', 267),\n",
              " ('42', 149),\n",
              " ('30', 247),\n",
              " ('34', 237),\n",
              " ('01', 45)]"
            ]
          },
          "execution_count": 23,
          "metadata": {},
          "output_type": "execute_result"
        }
      ],
      "source": [
        "# convert to RDD. Rides \n",
        "r = df.groupBy('minute').count().rdd.map(tuple)\n",
        "r.take(10)"
      ]
    },
    {
      "cell_type": "code",
      "execution_count": 24,
      "metadata": {
        "colab": {
          "base_uri": "https://localhost:8080/"
        },
        "id": "44580lzf5wSg",
        "outputId": "875d6567-f632-42e0-c13c-80dd76f53e27"
      },
      "outputs": [
        {
          "data": {
            "text/plain": [
              "['28', 293, '56', 1]"
            ]
          },
          "execution_count": 24,
          "metadata": {},
          "output_type": "execute_result"
        }
      ],
      "source": [
        "# treeAggregate(zeroValue, seqOp, combOp)\n",
        "# Result = (max_key, max_val, min_key, min_val)\n",
        "agg_zero_val = [\"k1\",-1000000,\"k2\",1000000]\n",
        "\n",
        "r.treeAggregate(agg_zero_val, seqOp, combOp)"
      ]
    },
    {
      "cell_type": "code",
      "execution_count": 25,
      "metadata": {
        "id": "eUGrBQr8YUUU"
      },
      "outputs": [
        {
          "data": {
            "text/plain": [
              "[6, 1066, 66, 1]"
            ]
          },
          "execution_count": 25,
          "metadata": {},
          "output_type": "execute_result"
        }
      ],
      "source": [
        "r1 = df.groupBy('fare_category').count().rdd.map(tuple)\n",
        "r1.treeAggregate(agg_zero_val, seqOp, combOp)"
      ]
    },
    {
      "cell_type": "code",
      "execution_count": 26,
      "metadata": {},
      "outputs": [
        {
          "data": {
            "text/plain": [
              "['696321779D687411F2E5DF6991E9D474', 7, '6D9C2E4EAC8F6A5C7D3102177BC42C03', 1]"
            ]
          },
          "execution_count": 26,
          "metadata": {},
          "output_type": "execute_result"
        }
      ],
      "source": [
        "# an md5sum of the identifier of the taxi - vehicle bound (Taxi ID)\n",
        "r2 = df.groupBy('medallion').count().rdd.map(tuple)\n",
        "r2.treeAggregate(agg_zero_val, seqOp, combOp)\n"
      ]
    },
    {
      "cell_type": "code",
      "execution_count": 27,
      "metadata": {},
      "outputs": [
        {
          "data": {
            "text/plain": [
              "['00B7691D86D96AEBD21DD9E138F90840', 10, 'D8B109DC861AA892745CC4CFF78D98E3', 1]"
            ]
          },
          "execution_count": 27,
          "metadata": {},
          "output_type": "execute_result"
        }
      ],
      "source": [
        "# an md5sum of the identifier for the taxi license (Driver ID)\n",
        "r2 = df.groupBy('hack_license').count().rdd.map(tuple)\n",
        "r2.treeAggregate(agg_zero_val, seqOp, combOp)\n"
      ]
    },
    {
      "attachments": {},
      "cell_type": "markdown",
      "metadata": {},
      "source": [
        "# Simulation of the Aggregate operation in Spark\n",
        "We will take the data from RDD and use it as the input in the Spark Aggregate simulation.\n",
        "\n",
        "The simulation will be done using the following steps:\n",
        "\n",
        "- We will split the data into partitions, \n",
        "- For each partition, we will simulate what is happening on the worker nodes.\n",
        "- At the master node, we will use all partition sub-aggregates to combine them in the final aggregate, which is the result of the aggregate function."
      ]
    },
    {
      "cell_type": "code",
      "execution_count": 54,
      "metadata": {},
      "outputs": [
        {
          "data": {
            "text/plain": [
              "[('130328475AD7427AFDE50A846CA08B22', 1),\n",
              " ('D4F2AE0988ECB2E421AAC0C876483801', 3),\n",
              " ('DD97899ACAC51EF3188A659DB1F4EDBB', 5),\n",
              " ('A7C47E60941315A0E1B18190584F1B8F', 4),\n",
              " ('9911D66A4A796752DAA9929262692322', 3),\n",
              " ('88CB7A1006DB184386777ACF070430A9', 4),\n",
              " ('069B5562096AF76848A613F23073B4BA', 2),\n",
              " ('28A7C858D9231A3EC2C90820A26083DC', 2),\n",
              " ('A7EE9AEDB7325F55F14F2D2448170D56', 2),\n",
              " ('4B6EFCBC110DB539E9ECCD320DB55ADC', 3)]"
            ]
          },
          "execution_count": 54,
          "metadata": {},
          "output_type": "execute_result"
        }
      ],
      "source": [
        "r = df.groupBy('hack_license').count().rdd.map(tuple)\n",
        "r.take(10)"
      ]
    },
    {
      "cell_type": "code",
      "execution_count": 55,
      "metadata": {},
      "outputs": [
        {
          "name": "stdout",
          "output_type": "stream",
          "text": [
            "4628\n"
          ]
        }
      ],
      "source": [
        "data = r.collect()\n",
        "print(len(data))"
      ]
    },
    {
      "attachments": {},
      "cell_type": "markdown",
      "metadata": {},
      "source": [
        "### Partition the data\n",
        "We will create partitions based on a predefined partition_size parameter."
      ]
    },
    {
      "cell_type": "code",
      "execution_count": 56,
      "metadata": {},
      "outputs": [
        {
          "name": "stdout",
          "output_type": "stream",
          "text": [
            "5\n"
          ]
        }
      ],
      "source": [
        "# Partition the data\n",
        "partition_size = 1000\n",
        "# Create partitions with size partition_size\n",
        "partitions = [data[i:i + partition_size] for i in range(0, len(data), partition_size)]\n",
        "# Print the number of created partitions\n",
        "print(len(partitions))"
      ]
    },
    {
      "attachments": {},
      "cell_type": "markdown",
      "metadata": {},
      "source": [
        "### Worker nodes simulation\n",
        "We are using a for loop to simulate each worker node.\n",
        "\n",
        "The partition_rez list is used to store the result from each partition, and then this list is used by the master node to combine the partial aggregates."
      ]
    },
    {
      "cell_type": "code",
      "execution_count": 57,
      "metadata": {},
      "outputs": [],
      "source": [
        "# The list for storing the partitions aggregates.\n",
        "partitions_rez = []\n",
        "for partition in partitions:\n",
        "    # This code will be executed on each worker node\n",
        "    part_rez = agg_zero_val # initialise the aggregate\n",
        "    for element in partition:\n",
        "        part_rez = seqOp(part_rez, element) # update the aggregate with each element\n",
        "    # Store the final partition aggregate in the list (for our simulation)\n",
        "    # In Spark, at this point, the part_rez will be sent to the master node\n",
        "    partitions_rez.append(part_rez)"
      ]
    },
    {
      "cell_type": "code",
      "execution_count": 58,
      "metadata": {},
      "outputs": [
        {
          "name": "stdout",
          "output_type": "stream",
          "text": [
            "0 ['529E7364F15A734DFB3F44376DC78267', 6, '3E8783B29ABF15A4F5B475D928D2A7BD', 1]\n",
            "1 ['14C2ED390669165F2D3B5CE427A91027', 7, '2FBF9DAD51F548A6F1CE63165CC30BA7', 1]\n",
            "2 ['DCD6A3DA3488EF99AAC46FE0EF41449B', 5, 'A8B92DC57A3DF887FF41DA5EBA763A97', 1]\n",
            "3 ['00B7691D86D96AEBD21DD9E138F90840', 10, '956BC98C042F35EB171FF7FB1A6721B9', 1]\n",
            "4 ['35A32952035266841AED93F2EFCEEB9D', 6, 'D8B109DC861AA892745CC4CFF78D98E3', 1]\n"
          ]
        }
      ],
      "source": [
        "# Print the results from each partition\n",
        "for i, rez in enumerate(partitions_rez):\n",
        "    print(i, rez)"
      ]
    },
    {
      "attachments": {},
      "cell_type": "markdown",
      "metadata": {},
      "source": [
        "### Master node simulation\n",
        "The code that is executed on the master node. \n",
        "\n",
        "This code creates the final aggregate from all partitions aggregates."
      ]
    },
    {
      "cell_type": "code",
      "execution_count": 59,
      "metadata": {},
      "outputs": [
        {
          "name": "stdout",
          "output_type": "stream",
          "text": [
            "['00B7691D86D96AEBD21DD9E138F90840', 10, 'D8B109DC861AA892745CC4CFF78D98E3', 1]\n"
          ]
        }
      ],
      "source": [
        "# We start with the initial (zero) value\n",
        "final_rez = agg_zero_val\n",
        "# In the simulation, we use a loop to process all partitions' aggregates.\n",
        "for part_rez in partitions_rez:\n",
        "    # In Spark, the master node will receive aggregates from the worker nodes\n",
        "    # and will execute the combOp() function\n",
        "    final_rez = combOp(final_rez, part_rez)\n",
        "print(final_rez)"
      ]
    },
    {
      "cell_type": "code",
      "execution_count": null,
      "metadata": {},
      "outputs": [],
      "source": []
    }
  ],
  "metadata": {
    "colab": {
      "name": "Spark-Example-09a-treeAggregate.ipynb",
      "provenance": []
    },
    "kernelspec": {
      "display_name": "Python 3.10.4 ('spark')",
      "language": "python",
      "name": "python3"
    },
    "language_info": {
      "codemirror_mode": {
        "name": "ipython",
        "version": 3
      },
      "file_extension": ".py",
      "mimetype": "text/x-python",
      "name": "python",
      "nbconvert_exporter": "python",
      "pygments_lexer": "ipython3",
      "version": "3.10.4"
    },
    "vscode": {
      "interpreter": {
        "hash": "9db6cbf0fd79f8e79653fe7b0c50b956ca6e525ee712295da3c66f75e4fe96ce"
      }
    }
  },
  "nbformat": 4,
  "nbformat_minor": 0
}
