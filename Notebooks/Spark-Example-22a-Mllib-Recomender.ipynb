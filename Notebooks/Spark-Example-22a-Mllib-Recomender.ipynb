{
 "cells": [
  {
   "cell_type": "code",
   "execution_count": null,
   "metadata": {},
   "outputs": [],
   "source": [
    "\n",
    "\n",
    "from pyspark.ml.recommendation import ALS\n",
    "from pyspark.sql import SparkSession\n",
    "\n",
    "# Create a Spark session\n",
    "spark = SparkSession.builder \\\n",
    "    .appName(\"MovieRecommendation\") \\\n",
    "    .getOrCreate()\n",
    "\n",
    "# Load the ratings data from CSV\n",
    "ratings_data = spark.read.csv(\"ratings.csv\", header=True, inferSchema=True)\n",
    "\n",
    "# Load the movies data from CSV\n",
    "movies_data = spark.read.csv(\"movies.csv\", header=True, inferSchema=True)\n",
    "\n",
    "# Split the data into training and test sets\n",
    "(training_data, test_data) = ratings_data.randomSplit([0.8, 0.2])\n",
    "\n",
    "# Create an ALS model\n",
    "als = ALS(maxIter=5, regParam=0.01, userCol=\"userId\", itemCol=\"movieId\", ratingCol=\"rating\")\n",
    "\n",
    "# Fit the model to the training data\n",
    "model = als.fit(training_data)\n",
    "\n",
    "# Generate recommendations for all users\n",
    "user_recs = model.recommendForAllUsers(10)  # Generate top 10 recommendations for each user\n",
    "\n",
    "# Show the recommendations for a specific user\n",
    "user_id = 1\n",
    "user_rec = user_recs.filter(user_recs.userId == user_id).select(\"recommendations\")\n",
    "user_rec.show(truncate=False)\n",
    "\n",
    "# Show the movies rated by the user\n",
    "user_ratings = ratings_data.filter(ratings_data.userId == user_id).join(movies_data, \"movieId\")\n",
    "user_ratings.show(truncate=False)\n"
   ]
  }
 ],
 "metadata": {
  "language_info": {
   "name": "python"
  },
  "orig_nbformat": 4
 },
 "nbformat": 4,
 "nbformat_minor": 2
}
