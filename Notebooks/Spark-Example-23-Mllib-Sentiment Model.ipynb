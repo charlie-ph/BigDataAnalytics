{
 "cells": [
  {
   "cell_type": "code",
   "execution_count": 1,
   "metadata": {},
   "outputs": [],
   "source": [
    "import findspark\n",
    "findspark.init()\n",
    "from pyspark import SparkContext\n",
    "from pyspark.sql import SparkSession\n",
    "sc = SparkContext(\"local[*]\")\n",
    "spark = SparkSession.builder.getOrCreate()"
   ]
  },
  {
   "cell_type": "code",
   "execution_count": 3,
   "metadata": {},
   "outputs": [],
   "source": [
    "import numpy as np\n",
    "from pyspark.sql import functions as F"
   ]
  },
  {
   "attachments": {},
   "cell_type": "markdown",
   "metadata": {},
   "source": [
    "# Data preprocessing"
   ]
  },
  {
   "cell_type": "code",
   "execution_count": 4,
   "metadata": {},
   "outputs": [
    {
     "name": "stdout",
     "output_type": "stream",
     "text": [
      "+--------------------+---------+\n",
      "|                text|sentiment|\n",
      "+--------------------+---------+\n",
      "|One of the other ...| positive|\n",
      "|A wonderful littl...| positive|\n",
      "|I thought this wa...| positive|\n",
      "|Basically there's...| negative|\n",
      "|Petter Mattei's L...| positive|\n",
      "|Probably my all-t...| positive|\n",
      "|I sure would like...| positive|\n",
      "|This show was an ...| negative|\n",
      "|Encouraged by the...| negative|\n",
      "|If you like origi...| positive|\n",
      "+--------------------+---------+\n",
      "only showing top 10 rows\n",
      "\n"
     ]
    }
   ],
   "source": [
    "tFile=\"data\\IMDB Dataset.csv.bz2\"\n",
    "df0 = spark.read.csv(tFile,header=True)\n",
    "df0.show(10)"
   ]
  },
  {
   "cell_type": "code",
   "execution_count": 5,
   "metadata": {},
   "outputs": [],
   "source": [
    "#Sample the data for faster model training (use the full dataset in reality)\n",
    "df0 = df0.sample(0.25, seed=200)"
   ]
  },
  {
   "cell_type": "code",
   "execution_count": 6,
   "metadata": {},
   "outputs": [],
   "source": [
    "# Convert sentiment to numbers positive =1, negative =0\n",
    "df0 = df0.withColumn(\"label\", F.when(F.col(\"sentiment\")==\"positive\",1).otherwise(0)).cache()"
   ]
  },
  {
   "cell_type": "code",
   "execution_count": 27,
   "metadata": {},
   "outputs": [
    {
     "data": {
      "text/html": [
       "<div>\n",
       "<style scoped>\n",
       "    .dataframe tbody tr th:only-of-type {\n",
       "        vertical-align: middle;\n",
       "    }\n",
       "\n",
       "    .dataframe tbody tr th {\n",
       "        vertical-align: top;\n",
       "    }\n",
       "\n",
       "    .dataframe thead th {\n",
       "        text-align: right;\n",
       "    }\n",
       "</style>\n",
       "<table border=\"1\" class=\"dataframe\">\n",
       "  <thead>\n",
       "    <tr style=\"text-align: right;\">\n",
       "      <th></th>\n",
       "      <th>text</th>\n",
       "      <th>sentiment</th>\n",
       "      <th>label</th>\n",
       "      <th>text_c</th>\n",
       "    </tr>\n",
       "  </thead>\n",
       "  <tbody>\n",
       "    <tr>\n",
       "      <th>12643</th>\n",
       "      <td>To be hones, I used to like this show and watc...</td>\n",
       "      <td>negative</td>\n",
       "      <td>0</td>\n",
       "      <td>hones  used  like this show and watch  regul...</td>\n",
       "    </tr>\n",
       "    <tr>\n",
       "      <th>12644</th>\n",
       "      <td>This movie is a disgrace to the Major League F...</td>\n",
       "      <td>negative</td>\n",
       "      <td>0</td>\n",
       "      <td>This movie   disgrace  the Major League Franch...</td>\n",
       "    </tr>\n",
       "    <tr>\n",
       "      <th>12645</th>\n",
       "      <td>John Garfield plays a Marine who is blinded by...</td>\n",
       "      <td>positive</td>\n",
       "      <td>1</td>\n",
       "      <td>John Garfield plays  Marine who  blinded   gre...</td>\n",
       "    </tr>\n",
       "    <tr>\n",
       "      <th>12646</th>\n",
       "      <td>Bad plot, bad dialogue, bad acting, idiotic di...</td>\n",
       "      <td>negative</td>\n",
       "      <td>0</td>\n",
       "      <td>Bad plot bad dialogue bad acting idiotic direc...</td>\n",
       "    </tr>\n",
       "    <tr>\n",
       "      <th>12647</th>\n",
       "      <td>I'm going to have to disagree with the previou...</td>\n",
       "      <td>negative</td>\n",
       "      <td>0</td>\n",
       "      <td>going  have  disagree with the previous comme...</td>\n",
       "    </tr>\n",
       "  </tbody>\n",
       "</table>\n",
       "</div>"
      ],
      "text/plain": [
       "                                                    text sentiment  label  \\\n",
       "12643  To be hones, I used to like this show and watc...  negative      0   \n",
       "12644  This movie is a disgrace to the Major League F...  negative      0   \n",
       "12645  John Garfield plays a Marine who is blinded by...  positive      1   \n",
       "12646  Bad plot, bad dialogue, bad acting, idiotic di...  negative      0   \n",
       "12647  I'm going to have to disagree with the previou...  negative      0   \n",
       "\n",
       "                                                  text_c  \n",
       "12643    hones  used  like this show and watch  regul...  \n",
       "12644  This movie   disgrace  the Major League Franch...  \n",
       "12645  John Garfield plays  Marine who  blinded   gre...  \n",
       "12646  Bad plot bad dialogue bad acting idiotic direc...  \n",
       "12647   going  have  disagree with the previous comme...  "
      ]
     },
     "execution_count": 27,
     "metadata": {},
     "output_type": "execute_result"
    }
   ],
   "source": [
    "# Remove html tags from text\n",
    "df0 = df0.withColumn(\"text_c\", F.regexp_replace(F.col(\"text\"), r'<[^>]+>', \"\"));\n",
    "# Remove non-letters\n",
    "df0 = df0.withColumn(\"text_c\", F.regexp_replace(\"text_c\", r\"[^a-zA-Z ]\", \"\"))\n",
    "# Remove words 1, 2 char\n",
    "df0 = df0.withColumn(\"text_c\", F.regexp_replace(\"text_c\", r\"\\b\\w{1,2}\\b\", \"\"))\n",
    "df0.toPandas().tail(5)"
   ]
  },
  {
   "attachments": {},
   "cell_type": "markdown",
   "metadata": {},
   "source": [
    "### Lemmatization (optional)\n",
    "Lemmatization is the process of reducing a word to its base or root form, which is also known as a lemma. The purpose of lemmatization is to simplify text and make it easier to analyze by grouping together different forms of the same word. For example, the words \"running,\" \"ran,\" and \"runs\" can all be reduced to the base form \"run\" through lemmatization. \n",
    "\n",
    "However, lemmatization can be a time-consuming operation, especially when dealing with large amounts of text data. This is because the process involves analyzing each word in a text and identifying its base form. It also requires a comprehensive understanding of the grammatical rules of a language to accurately identify the correct lemma for each word.\n",
    "\n",
    "Despite its time-consuming nature, lemmatization can be a powerful tool in natural language processing and text analysis. It can help with tasks such as sentiment analysis, topic modeling, and text classification. When using lemmatization, it's important to use it carefully and correctly to ensure that the text is properly processed and analyzed."
   ]
  },
  {
   "cell_type": "code",
   "execution_count": 58,
   "metadata": {},
   "outputs": [
    {
     "data": {
      "text/html": [
       "<div>\n",
       "<style scoped>\n",
       "    .dataframe tbody tr th:only-of-type {\n",
       "        vertical-align: middle;\n",
       "    }\n",
       "\n",
       "    .dataframe tbody tr th {\n",
       "        vertical-align: top;\n",
       "    }\n",
       "\n",
       "    .dataframe thead th {\n",
       "        text-align: right;\n",
       "    }\n",
       "</style>\n",
       "<table border=\"1\" class=\"dataframe\">\n",
       "  <thead>\n",
       "    <tr style=\"text-align: right;\">\n",
       "      <th></th>\n",
       "      <th>text</th>\n",
       "      <th>sentiment</th>\n",
       "      <th>label</th>\n",
       "      <th>text_c</th>\n",
       "    </tr>\n",
       "  </thead>\n",
       "  <tbody>\n",
       "    <tr>\n",
       "      <th>12643</th>\n",
       "      <td>To be hones, I used to like this show and watc...</td>\n",
       "      <td>negative</td>\n",
       "      <td>0</td>\n",
       "      <td>hones   used   like this show and watch   r...</td>\n",
       "    </tr>\n",
       "    <tr>\n",
       "      <th>12644</th>\n",
       "      <td>This movie is a disgrace to the Major League F...</td>\n",
       "      <td>negative</td>\n",
       "      <td>0</td>\n",
       "      <td>this movie    disgrace   the major league fran...</td>\n",
       "    </tr>\n",
       "    <tr>\n",
       "      <th>12645</th>\n",
       "      <td>John Garfield plays a Marine who is blinded by...</td>\n",
       "      <td>positive</td>\n",
       "      <td>1</td>\n",
       "      <td>john garfield plays   marine who   blinded    ...</td>\n",
       "    </tr>\n",
       "    <tr>\n",
       "      <th>12646</th>\n",
       "      <td>Bad plot, bad dialogue, bad acting, idiotic di...</td>\n",
       "      <td>negative</td>\n",
       "      <td>0</td>\n",
       "      <td>bad plot bad dialogue bad acting idiotic direc...</td>\n",
       "    </tr>\n",
       "    <tr>\n",
       "      <th>12647</th>\n",
       "      <td>I'm going to have to disagree with the previou...</td>\n",
       "      <td>negative</td>\n",
       "      <td>0</td>\n",
       "      <td>going   have   disagree with the previous co...</td>\n",
       "    </tr>\n",
       "  </tbody>\n",
       "</table>\n",
       "</div>"
      ],
      "text/plain": [
       "                                                    text sentiment  label  \\\n",
       "12643  To be hones, I used to like this show and watc...  negative      0   \n",
       "12644  This movie is a disgrace to the Major League F...  negative      0   \n",
       "12645  John Garfield plays a Marine who is blinded by...  positive      1   \n",
       "12646  Bad plot, bad dialogue, bad acting, idiotic di...  negative      0   \n",
       "12647  I'm going to have to disagree with the previou...  negative      0   \n",
       "\n",
       "                                                  text_c  \n",
       "12643     hones   used   like this show and watch   r...  \n",
       "12644  this movie    disgrace   the major league fran...  \n",
       "12645  john garfield plays   marine who   blinded    ...  \n",
       "12646  bad plot bad dialogue bad acting idiotic direc...  \n",
       "12647    going   have   disagree with the previous co...  "
      ]
     },
     "execution_count": 58,
     "metadata": {},
     "output_type": "execute_result"
    }
   ],
   "source": [
    "import spacy\n",
    "from pyspark.sql.functions import udf\n",
    "from pyspark.sql.types import StringType\n",
    "\n",
    "# Load the spaCy model\n",
    "nlp = spacy.load(\"en_core_web_sm\", disable=[\"tagger\", \"parser\", \"ner\"])\n",
    "\n",
    "# Define a function to apply the lemmatizer to a text\n",
    "def lemmatize_text(text):\n",
    "    doc = nlp(text)\n",
    "    lemmas = [token.lemma_ for token in doc]\n",
    "    return \" \".join(lemmas)\n",
    "\n",
    "# Define a UDF to apply the lemmatizer to a column\n",
    "lemmatize_udf = udf(lemmatize_text, StringType())\n",
    "\n",
    "# Apply the UDF to a DataFrame column\n",
    "df0 = df0.withColumn(\"text_c\", lemmatize_udf(df0[\"text_c\"]))\n",
    "\n",
    "# Caching must be used !!!!!!\n",
    "df0 = df0.cache()\n",
    "df0.toPandas().tail(5)"
   ]
  },
  {
   "attachments": {},
   "cell_type": "markdown",
   "metadata": {},
   "source": [
    "### Split the text to training and testing dataset"
   ]
  },
  {
   "cell_type": "code",
   "execution_count": 101,
   "metadata": {},
   "outputs": [
    {
     "name": "stdout",
     "output_type": "stream",
     "text": [
      "+-----+-----+\n",
      "|label|count|\n",
      "+-----+-----+\n",
      "|    1| 5016|\n",
      "|    0| 5138|\n",
      "+-----+-----+\n",
      "\n"
     ]
    }
   ],
   "source": [
    "# Split the data in train and test (80%-20%)\n",
    "df, test = df0.randomSplit(weights=[0.8,0.2], seed=200)\n",
    "df.groupBy(\"label\").count().show()"
   ]
  },
  {
   "attachments": {},
   "cell_type": "markdown",
   "metadata": {},
   "source": [
    "### Assign weights to classes"
   ]
  },
  {
   "cell_type": "code",
   "execution_count": 61,
   "metadata": {},
   "outputs": [
    {
     "name": "stdout",
     "output_type": "stream",
     "text": [
      "0.5060074847350797 0.4939925152649202\n"
     ]
    }
   ],
   "source": [
    "# Create a weight of each class\n",
    "from pyspark.sql import functions as F\n",
    "p_weight = df.filter('label == 1').count()/ df.count()\n",
    "n_weight = df.filter('label == 0').count()/ df.count()\n",
    "print(n_weight, p_weight)"
   ]
  },
  {
   "cell_type": "code",
   "execution_count": 62,
   "metadata": {},
   "outputs": [
    {
     "name": "stdout",
     "output_type": "stream",
     "text": [
      "+--------------------+---------+-----+--------------------+------------------+\n",
      "|                text|sentiment|label|              text_c|            weight|\n",
      "+--------------------+---------+-----+--------------------+------------------+\n",
      "| Så som i himmele...| positive|    1|   som   himmelen...|0.5060074847350797|\n",
      "| While sporadical...| negative|    0|  while sporadica...|0.4939925152649202|\n",
      "|'Blue Desert' may...| negative|    0|blue desert may h...|0.4939925152649202|\n",
      "|'Checking Out' is...| positive|    1|checking out    e...|0.5060074847350797|\n",
      "|'Presque Rien' ('...| positive|    1|presque rien come...|0.5060074847350797|\n",
      "+--------------------+---------+-----+--------------------+------------------+\n",
      "only showing top 5 rows\n",
      "\n"
     ]
    }
   ],
   "source": [
    "df = df.withColumn(\"weight\", F.when(F.col(\"label\")==1,n_weight).otherwise(p_weight))\n",
    "df.show(5)"
   ]
  },
  {
   "cell_type": "code",
   "execution_count": 63,
   "metadata": {},
   "outputs": [],
   "source": [
    "from pyspark.ml.feature import HashingTF, IDF, Tokenizer, CountVectorizer\n",
    "from pyspark.ml.feature import StopWordsRemover\n",
    "from pyspark.ml.feature import PCA\n",
    "from pyspark.ml.feature import ChiSqSelector\n",
    "from pyspark.ml.classification import LogisticRegression\n",
    "from pyspark.ml.classification import LinearSVC\n",
    "from pyspark.ml.classification import DecisionTreeClassifier\n",
    "from pyspark.ml.classification import GBTClassifier\n",
    "\n",
    "from pyspark.ml import Pipeline"
   ]
  },
  {
   "cell_type": "markdown",
   "metadata": {},
   "source": [
    "# Data transformation"
   ]
  },
  {
   "attachments": {},
   "cell_type": "markdown",
   "metadata": {},
   "source": [
    "### Preprocessing pipeline\n",
    "Pipelines in Spark are a powerful tool for data processing and analysis, as they enable the creation of complex data workflows that can be executed efficiently on distributed computing systems. They also simplify the data processing and analysis tasks, as they enable the chaining of multiple stages into a single workflow."
   ]
  },
  {
   "cell_type": "code",
   "execution_count": 64,
   "metadata": {},
   "outputs": [],
   "source": [
    "# Tokenize the review text\n",
    "tokenizer = Tokenizer(inputCol=\"text_c\", outputCol=\"words\",)\n",
    "# Remove stop words\n",
    "remover = StopWordsRemover(inputCol=tokenizer.getOutputCol(), outputCol=\"filtered\")\n",
    "# Create a count vectoriser\n",
    "countVectorizer = CountVectorizer(inputCol=remover.getOutputCol(), outputCol=\"rawFeatures\", vocabSize=1000)\n",
    "# Calculate the TF-IDF\n",
    "idf = IDF(inputCol=countVectorizer.getOutputCol(), outputCol=\"featuresIDF\")\n",
    "# Crate a preprocessing pipeline wiht 4 stages\n",
    "pipeline_p = Pipeline(stages=[tokenizer,remover, countVectorizer, idf])"
   ]
  },
  {
   "cell_type": "code",
   "execution_count": 65,
   "metadata": {},
   "outputs": [],
   "source": [
    "# Learn the data preprocessing model\n",
    "data_model = pipeline_p.fit(df)"
   ]
  },
  {
   "cell_type": "code",
   "execution_count": 66,
   "metadata": {},
   "outputs": [
    {
     "data": {
      "text/html": [
       "<div>\n",
       "<style scoped>\n",
       "    .dataframe tbody tr th:only-of-type {\n",
       "        vertical-align: middle;\n",
       "    }\n",
       "\n",
       "    .dataframe tbody tr th {\n",
       "        vertical-align: top;\n",
       "    }\n",
       "\n",
       "    .dataframe thead th {\n",
       "        text-align: right;\n",
       "    }\n",
       "</style>\n",
       "<table border=\"1\" class=\"dataframe\">\n",
       "  <thead>\n",
       "    <tr style=\"text-align: right;\">\n",
       "      <th></th>\n",
       "      <th>text</th>\n",
       "      <th>sentiment</th>\n",
       "      <th>label</th>\n",
       "      <th>text_c</th>\n",
       "      <th>weight</th>\n",
       "      <th>words</th>\n",
       "      <th>filtered</th>\n",
       "      <th>rawFeatures</th>\n",
       "      <th>featuresIDF</th>\n",
       "    </tr>\n",
       "  </thead>\n",
       "  <tbody>\n",
       "    <tr>\n",
       "      <th>0</th>\n",
       "      <td>Så som i himmelen  .. as above so below.. tha...</td>\n",
       "      <td>positive</td>\n",
       "      <td>1</td>\n",
       "      <td>som   himmelen     above   below that very ...</td>\n",
       "      <td>0.506007</td>\n",
       "      <td>[, , , som, , , himmelen, , , , , above, , , b...</td>\n",
       "      <td>[, , , som, , , himmelen, , , , , , , special,...</td>\n",
       "      <td>(77.0, 0.0, 4.0, 1.0, 0.0, 0.0, 0.0, 0.0, 0.0,...</td>\n",
       "      <td>(0.015166436921203202, 0.0, 2.4572384294370635...</td>\n",
       "    </tr>\n",
       "    <tr>\n",
       "      <th>1</th>\n",
       "      <td>While sporadically engrossing (including a fe...</td>\n",
       "      <td>negative</td>\n",
       "      <td>0</td>\n",
       "      <td>while sporadically engrossing including   fe...</td>\n",
       "      <td>0.493993</td>\n",
       "      <td>[, , while, sporadically, engrossing, includin...</td>\n",
       "      <td>[, , sporadically, engrossing, including, , , ...</td>\n",
       "      <td>(72.0, 0.0, 3.0, 3.0, 0.0, 3.0, 0.0, 0.0, 0.0,...</td>\n",
       "      <td>(0.014181603354891307, 0.0, 1.8429288220777975...</td>\n",
       "    </tr>\n",
       "    <tr>\n",
       "      <th>2</th>\n",
       "      <td>'Blue Desert' may have had the potential to be...</td>\n",
       "      <td>negative</td>\n",
       "      <td>0</td>\n",
       "      <td>blue desert may have had the potential    even...</td>\n",
       "      <td>0.493993</td>\n",
       "      <td>[blue, desert, may, have, had, the, potential,...</td>\n",
       "      <td>[blue, desert, may, potential, , , , even, , ,...</td>\n",
       "      <td>(93.0, 2.0, 1.0, 0.0, 0.0, 0.0, 0.0, 2.0, 0.0,...</td>\n",
       "      <td>(0.01831790433340127, 1.0085643367770025, 0.61...</td>\n",
       "    </tr>\n",
       "    <tr>\n",
       "      <th>3</th>\n",
       "      <td>'Checking Out' is an extraordinary film that t...</td>\n",
       "      <td>positive</td>\n",
       "      <td>1</td>\n",
       "      <td>checking out    extraordinary film that towers...</td>\n",
       "      <td>0.506007</td>\n",
       "      <td>[checking, out, , , , extraordinary, film, tha...</td>\n",
       "      <td>[checking, , , , extraordinary, film, towers, ...</td>\n",
       "      <td>(40.0, 0.0, 3.0, 1.0, 0.0, 0.0, 0.0, 0.0, 1.0,...</td>\n",
       "      <td>(0.00787866853049517, 0.0, 1.8429288220777975,...</td>\n",
       "    </tr>\n",
       "    <tr>\n",
       "      <th>4</th>\n",
       "      <td>'Presque Rien' ('Come Undone') is an earlier w...</td>\n",
       "      <td>positive</td>\n",
       "      <td>1</td>\n",
       "      <td>presque rien come undone    earlier work   the...</td>\n",
       "      <td>0.506007</td>\n",
       "      <td>[presque, rien, come, undone, , , , earlier, w...</td>\n",
       "      <td>[presque, rien, come, undone, , , , earlier, w...</td>\n",
       "      <td>(232.0, 0.0, 6.0, 0.0, 3.0, 0.0, 0.0, 0.0, 8.0...</td>\n",
       "      <td>(0.04569627747687199, 0.0, 3.685857644155595, ...</td>\n",
       "    </tr>\n",
       "  </tbody>\n",
       "</table>\n",
       "</div>"
      ],
      "text/plain": [
       "                                                text sentiment  label  \\\n",
       "0   Så som i himmelen  .. as above so below.. tha...  positive      1   \n",
       "1   While sporadically engrossing (including a fe...  negative      0   \n",
       "2  'Blue Desert' may have had the potential to be...  negative      0   \n",
       "3  'Checking Out' is an extraordinary film that t...  positive      1   \n",
       "4  'Presque Rien' ('Come Undone') is an earlier w...  positive      1   \n",
       "\n",
       "                                              text_c    weight  \\\n",
       "0     som   himmelen     above   below that very ...  0.506007   \n",
       "1    while sporadically engrossing including   fe...  0.493993   \n",
       "2  blue desert may have had the potential    even...  0.493993   \n",
       "3  checking out    extraordinary film that towers...  0.506007   \n",
       "4  presque rien come undone    earlier work   the...  0.506007   \n",
       "\n",
       "                                               words  \\\n",
       "0  [, , , som, , , himmelen, , , , , above, , , b...   \n",
       "1  [, , while, sporadically, engrossing, includin...   \n",
       "2  [blue, desert, may, have, had, the, potential,...   \n",
       "3  [checking, out, , , , extraordinary, film, tha...   \n",
       "4  [presque, rien, come, undone, , , , earlier, w...   \n",
       "\n",
       "                                            filtered  \\\n",
       "0  [, , , som, , , himmelen, , , , , , , special,...   \n",
       "1  [, , sporadically, engrossing, including, , , ...   \n",
       "2  [blue, desert, may, potential, , , , even, , ,...   \n",
       "3  [checking, , , , extraordinary, film, towers, ...   \n",
       "4  [presque, rien, come, undone, , , , earlier, w...   \n",
       "\n",
       "                                         rawFeatures  \\\n",
       "0  (77.0, 0.0, 4.0, 1.0, 0.0, 0.0, 0.0, 0.0, 0.0,...   \n",
       "1  (72.0, 0.0, 3.0, 3.0, 0.0, 3.0, 0.0, 0.0, 0.0,...   \n",
       "2  (93.0, 2.0, 1.0, 0.0, 0.0, 0.0, 0.0, 2.0, 0.0,...   \n",
       "3  (40.0, 0.0, 3.0, 1.0, 0.0, 0.0, 0.0, 0.0, 1.0,...   \n",
       "4  (232.0, 0.0, 6.0, 0.0, 3.0, 0.0, 0.0, 0.0, 8.0...   \n",
       "\n",
       "                                         featuresIDF  \n",
       "0  (0.015166436921203202, 0.0, 2.4572384294370635...  \n",
       "1  (0.014181603354891307, 0.0, 1.8429288220777975...  \n",
       "2  (0.01831790433340127, 1.0085643367770025, 0.61...  \n",
       "3  (0.00787866853049517, 0.0, 1.8429288220777975,...  \n",
       "4  (0.04569627747687199, 0.0, 3.685857644155595, ...  "
      ]
     },
     "execution_count": 66,
     "metadata": {},
     "output_type": "execute_result"
    }
   ],
   "source": [
    "# Transform\n",
    "transformed_data = data_model.transform(df)\n",
    "transformed_data.toPandas().head(5)"
   ]
  },
  {
   "cell_type": "code",
   "execution_count": 67,
   "metadata": {},
   "outputs": [
    {
     "data": {
      "text/html": [
       "<div>\n",
       "<style scoped>\n",
       "    .dataframe tbody tr th:only-of-type {\n",
       "        vertical-align: middle;\n",
       "    }\n",
       "\n",
       "    .dataframe tbody tr th {\n",
       "        vertical-align: top;\n",
       "    }\n",
       "\n",
       "    .dataframe thead th {\n",
       "        text-align: right;\n",
       "    }\n",
       "</style>\n",
       "<table border=\"1\" class=\"dataframe\">\n",
       "  <thead>\n",
       "    <tr style=\"text-align: right;\">\n",
       "      <th></th>\n",
       "      <th>text</th>\n",
       "      <th>sentiment</th>\n",
       "      <th>label</th>\n",
       "      <th>text_c</th>\n",
       "      <th>words</th>\n",
       "      <th>filtered</th>\n",
       "      <th>rawFeatures</th>\n",
       "      <th>featuresIDF</th>\n",
       "    </tr>\n",
       "  </thead>\n",
       "  <tbody>\n",
       "    <tr>\n",
       "      <th>0</th>\n",
       "      <td>'Don't Look In the Basement' is so easy to kno...</td>\n",
       "      <td>positive</td>\n",
       "      <td>1</td>\n",
       "      <td>do nt look   the basement    easy   knock but ...</td>\n",
       "      <td>[do, nt, look, , , the, basement, , , , easy, ...</td>\n",
       "      <td>[nt, look, , , basement, , , , easy, , , knock...</td>\n",
       "      <td>(63.0, 0.0, 0.0, 4.0, 1.0, 1.0, 0.0, 0.0, 0.0,...</td>\n",
       "      <td>(0.012408902935529893, 0.0, 0.0, 2.05579531363...</td>\n",
       "    </tr>\n",
       "    <tr>\n",
       "      <th>1</th>\n",
       "      <td>*Flat SPOILERS* &lt;br /&gt;&lt;br /&gt;Five med students,...</td>\n",
       "      <td>positive</td>\n",
       "      <td>1</td>\n",
       "      <td>flat spoilers five med students nelson kiefer ...</td>\n",
       "      <td>[flat, spoilers, five, med, students, nelson, ...</td>\n",
       "      <td>[flat, spoilers, five, med, students, nelson, ...</td>\n",
       "      <td>(67.0, 1.0, 0.0, 0.0, 1.0, 1.0, 0.0, 2.0, 1.0,...</td>\n",
       "      <td>(0.01319676978857941, 0.5042821683885013, 0.0,...</td>\n",
       "    </tr>\n",
       "    <tr>\n",
       "      <th>2</th>\n",
       "      <td>.... may seem far fetched.... but there really...</td>\n",
       "      <td>negative</td>\n",
       "      <td>0</td>\n",
       "      <td>may seem far fetched but there really was   ...</td>\n",
       "      <td>[, , may, seem, far, fetched, but, there, real...</td>\n",
       "      <td>[, , may, seem, far, fetched, really, , , real...</td>\n",
       "      <td>(69.0, 0.0, 0.0, 0.0, 0.0, 1.0, 0.0, 1.0, 1.0,...</td>\n",
       "      <td>(0.013590703215104168, 0.0, 0.0, 0.0, 0.0, 0.7...</td>\n",
       "    </tr>\n",
       "    <tr>\n",
       "      <th>3</th>\n",
       "      <td>...Our the grandpa's hour.&lt;br /&gt;&lt;br /&gt;More tha...</td>\n",
       "      <td>positive</td>\n",
       "      <td>1</td>\n",
       "      <td>our the grandpas hourmore than the gangsters i...</td>\n",
       "      <td>[our, the, grandpas, hourmore, than, the, gang...</td>\n",
       "      <td>[grandpas, hourmore, gangsters, , , detailed, ...</td>\n",
       "      <td>(36.0, 0.0, 1.0, 1.0, 0.0, 1.0, 1.0, 1.0, 1.0,...</td>\n",
       "      <td>(0.007090801677445653, 0.0, 0.6143096073592659...</td>\n",
       "    </tr>\n",
       "    <tr>\n",
       "      <th>4</th>\n",
       "      <td>...but I regret having seen it. Since the rati...</td>\n",
       "      <td>negative</td>\n",
       "      <td>0</td>\n",
       "      <td>but   regret having seen   since the ratings  ...</td>\n",
       "      <td>[but, , , regret, having, seen, , , since, the...</td>\n",
       "      <td>[, , regret, seen, , , since, ratings, , , imd...</td>\n",
       "      <td>(75.0, 0.0, 1.0, 0.0, 1.0, 0.0, 0.0, 0.0, 0.0,...</td>\n",
       "      <td>(0.014772503494678443, 0.0, 0.6143096073592659...</td>\n",
       "    </tr>\n",
       "  </tbody>\n",
       "</table>\n",
       "</div>"
      ],
      "text/plain": [
       "                                                text sentiment  label  \\\n",
       "0  'Don't Look In the Basement' is so easy to kno...  positive      1   \n",
       "1  *Flat SPOILERS* <br /><br />Five med students,...  positive      1   \n",
       "2  .... may seem far fetched.... but there really...  negative      0   \n",
       "3  ...Our the grandpa's hour.<br /><br />More tha...  positive      1   \n",
       "4  ...but I regret having seen it. Since the rati...  negative      0   \n",
       "\n",
       "                                              text_c  \\\n",
       "0  do nt look   the basement    easy   knock but ...   \n",
       "1  flat spoilers five med students nelson kiefer ...   \n",
       "2    may seem far fetched but there really was   ...   \n",
       "3  our the grandpas hourmore than the gangsters i...   \n",
       "4  but   regret having seen   since the ratings  ...   \n",
       "\n",
       "                                               words  \\\n",
       "0  [do, nt, look, , , the, basement, , , , easy, ...   \n",
       "1  [flat, spoilers, five, med, students, nelson, ...   \n",
       "2  [, , may, seem, far, fetched, but, there, real...   \n",
       "3  [our, the, grandpas, hourmore, than, the, gang...   \n",
       "4  [but, , , regret, having, seen, , , since, the...   \n",
       "\n",
       "                                            filtered  \\\n",
       "0  [nt, look, , , basement, , , , easy, , , knock...   \n",
       "1  [flat, spoilers, five, med, students, nelson, ...   \n",
       "2  [, , may, seem, far, fetched, really, , , real...   \n",
       "3  [grandpas, hourmore, gangsters, , , detailed, ...   \n",
       "4  [, , regret, seen, , , since, ratings, , , imd...   \n",
       "\n",
       "                                         rawFeatures  \\\n",
       "0  (63.0, 0.0, 0.0, 4.0, 1.0, 1.0, 0.0, 0.0, 0.0,...   \n",
       "1  (67.0, 1.0, 0.0, 0.0, 1.0, 1.0, 0.0, 2.0, 1.0,...   \n",
       "2  (69.0, 0.0, 0.0, 0.0, 0.0, 1.0, 0.0, 1.0, 1.0,...   \n",
       "3  (36.0, 0.0, 1.0, 1.0, 0.0, 1.0, 1.0, 1.0, 1.0,...   \n",
       "4  (75.0, 0.0, 1.0, 0.0, 1.0, 0.0, 0.0, 0.0, 0.0,...   \n",
       "\n",
       "                                         featuresIDF  \n",
       "0  (0.012408902935529893, 0.0, 0.0, 2.05579531363...  \n",
       "1  (0.01319676978857941, 0.5042821683885013, 0.0,...  \n",
       "2  (0.013590703215104168, 0.0, 0.0, 0.0, 0.0, 0.7...  \n",
       "3  (0.007090801677445653, 0.0, 0.6143096073592659...  \n",
       "4  (0.014772503494678443, 0.0, 0.6143096073592659...  "
      ]
     },
     "execution_count": 67,
     "metadata": {},
     "output_type": "execute_result"
    }
   ],
   "source": [
    "# Transfomr the test data\n",
    "transformed_test = data_model.transform(test)\n",
    "transformed_test.toPandas().head(5)"
   ]
  },
  {
   "cell_type": "code",
   "execution_count": 68,
   "metadata": {},
   "outputs": [
    {
     "data": {
      "text/plain": [
       "[Tokenizer_c52fb5369e00,\n",
       " StopWordsRemover_e308724e010f,\n",
       " CountVectorizerModel: uid=CountVectorizer_6d30a193627e, vocabularySize=1000,\n",
       " IDFModel: uid=IDF_6e0660033640, numDocs=10154, numFeatures=1000]"
      ]
     },
     "execution_count": 68,
     "metadata": {},
     "output_type": "execute_result"
    }
   ],
   "source": [
    "# Print the sages of the pipeline\n",
    "data_model.stages"
   ]
  },
  {
   "cell_type": "code",
   "execution_count": 69,
   "metadata": {},
   "outputs": [
    {
     "data": {
      "text/plain": [
       "['',\n",
       " 'movie',\n",
       " 'film',\n",
       " 'nt',\n",
       " 'one',\n",
       " 'like',\n",
       " 'good',\n",
       " 'even',\n",
       " 'time',\n",
       " 'really',\n",
       " 'see',\n",
       " 'story',\n",
       " 'much',\n",
       " 'well',\n",
       " 'get',\n",
       " 'bad',\n",
       " 'great',\n",
       " 'also',\n",
       " 'people',\n",
       " 'first']"
      ]
     },
     "execution_count": 69,
     "metadata": {},
     "output_type": "execute_result"
    }
   ],
   "source": [
    "# Get the vocabulary of the CountVectroizer\n",
    "data_model.stages[2].vocabulary[:20]"
   ]
  },
  {
   "cell_type": "markdown",
   "metadata": {},
   "source": [
    "# Metics for the model"
   ]
  },
  {
   "cell_type": "code",
   "execution_count": 92,
   "metadata": {},
   "outputs": [],
   "source": [
    "from pyspark.mllib.evaluation import BinaryClassificationMetrics\n",
    "from pyspark.mllib.evaluation import MultilabelMetrics\n",
    "from pyspark.mllib.evaluation import MulticlassMetrics\n",
    "\n",
    "def m_metrics(ml_model,test_data):\n",
    "    predictions = ml_model.transform(test_data).cache()\n",
    "    predictionAndLabels = predictions.select(\"label\",\"prediction\").rdd.map(lambda x: (float(x[0]), float(x[1]))).cache()\n",
    "    \n",
    "    # Print some predictions vs labels\n",
    "    print(predictionAndLabels.take(10))\n",
    "\n",
    "    metrics = MulticlassMetrics(predictionAndLabels)\n",
    "    \n",
    "    # Overall statistics\n",
    "    precision = metrics.precision(1.0)\n",
    "    recall = metrics.recall(1.0)\n",
    "    f1Score = metrics.fMeasure(1.0)\n",
    "    print(f\"Precision = {precision:.3f} Recall = {recall:.3f} F1 Score = {f1Score:.3f}\")\n",
    "\n",
    "    # Statistics by class\n",
    "    labels = [0.0, 1.0]\n",
    "    for label in sorted(labels):\n",
    "        print(\"Class %s precision = %s\" % (label, metrics.precision(label)))\n",
    "        print(\"Class %s recall = %s\" % (label, metrics.recall(label)))\n",
    "        print(\"Class %s F1 Measure = %s\" % (label, metrics.fMeasure(label, beta=1.0)))\n",
    "\n",
    "    # Weighted stats\n",
    "    print(\"Weighted recall = %s\" % metrics.weightedRecall)\n",
    "    print(\"Weighted precision = %s\" % metrics.weightedPrecision)\n",
    "    print(\"Weighted F(1) Score = %s\" % metrics.weightedFMeasure())\n",
    "    print(\"Weighted F(0.5) Score = %s\" % metrics.weightedFMeasure(beta=0.5))\n",
    "    print(\"Weighted false positive rate = %s\" % metrics.weightedFalsePositiveRate)\n",
    "    print(\"Confusion matrix \\n\", metrics.confusionMatrix().toArray().astype(int))\n",
    "\n",
    "def m_metrics_l(ml_model,test_data):\n",
    "    predictions = ml_model.transform(test_data).cache()\n",
    "    predictionAndLabels = predictions.select(\"label\",\"prediction\").rdd.map(lambda x: (float(x[0]), float(x[1]))).cache()\n",
    "    \n",
    "    # Print some predictions vs labels\n",
    "    # print(predictionAndLabels.take(10))\n",
    "    metrics = MulticlassMetrics(predictionAndLabels)\n",
    "    \n",
    "    # Overall statistics\n",
    "    precision = metrics.precision(1.0)\n",
    "    recall = metrics.recall(1.0)\n",
    "    f1Score = metrics.fMeasure(1.0)\n",
    "    print(f\"Precision = {precision:.4f} Recall = {recall:.4f} F1 Score = {f1Score:.4f}\")\n",
    "    print(\"Confusion matrix \\n\", metrics.confusionMatrix().toArray().astype(int))"
   ]
  },
  {
   "cell_type": "markdown",
   "metadata": {},
   "source": [
    "# ML Model"
   ]
  },
  {
   "cell_type": "code",
   "execution_count": 107,
   "metadata": {},
   "outputs": [
    {
     "name": "stdout",
     "output_type": "stream",
     "text": [
      "Training started.\n",
      "Model created in 0.92s.\n",
      "Precision = 0.8800 Recall = 0.8299 F1 Score = 0.8542\n",
      "Confusion matrix \n",
      " [[ 989  153]\n",
      " [ 230 1122]]\n",
      "Total time 6.50s.\n"
     ]
    }
   ],
   "source": [
    "import time\n",
    "cassifier = LogisticRegression(maxIter=10, regParam=0.1, featuresCol = \"featuresIDF\", weightCol=\"weight\")\n",
    "start = time.time()\n",
    "pipeline = Pipeline(stages=[cassifier])\n",
    "print(f\"Training started.\")\n",
    "model = pipeline.fit(transformed_data)\n",
    "print(f\"Model created in {time.time()-start:.2f}s.\")\n",
    "m_metrics_l(model,transformed_test)\n",
    "print(f\"Total time {time.time()-start:.2f}s.\")"
   ]
  },
  {
   "attachments": {},
   "cell_type": "markdown",
   "metadata": {},
   "source": [
    "### GBTClassifier"
   ]
  },
  {
   "cell_type": "code",
   "execution_count": 119,
   "metadata": {},
   "outputs": [
    {
     "name": "stdout",
     "output_type": "stream",
     "text": [
      "Training started.\n",
      "Model created in 3.65s.\n",
      "Precision = 0.8729 Recall = 0.6837 F1 Score = 0.7668\n",
      "Confusion matrix \n",
      " [[ 704  162]\n",
      " [ 515 1113]]\n",
      "Total time 9.24s.\n"
     ]
    }
   ],
   "source": [
    "cassifier = GBTClassifier(maxIter=10, featuresCol = \"featuresIDF\", weightCol=\"weight\", maxDepth=5)\n",
    "pipeline = Pipeline(stages=[cassifier])\n",
    "start = time.time()\n",
    "print(f\"Training started.\")\n",
    "model = pipeline.fit(transformed_data)\n",
    "print(f\"Model created in {time.time()-start:.2f}s.\")\n",
    "m_metrics_l(model,transformed_test)\n",
    "print(f\"Total time {time.time()-start:.2f}s.\")"
   ]
  },
  {
   "attachments": {},
   "cell_type": "markdown",
   "metadata": {},
   "source": [
    "### LinearSVC"
   ]
  },
  {
   "cell_type": "code",
   "execution_count": 122,
   "metadata": {},
   "outputs": [
    {
     "name": "stdout",
     "output_type": "stream",
     "text": [
      "Training started.\n",
      "Model created in 1.22s.\n",
      "Precision = 0.8745 Recall = 0.8284 F1 Score = 0.8508\n",
      "Confusion matrix \n",
      " [[ 988  160]\n",
      " [ 231 1115]]\n",
      "Total time 7.24s.\n"
     ]
    }
   ],
   "source": [
    "cassifier = LinearSVC(maxIter=10, regParam=0.1, featuresCol = \"featuresIDF\", weightCol=\"weight\")\n",
    "pipeline = Pipeline(stages=[cassifier])\n",
    "start = time.time()\n",
    "print(f\"Training started.\")\n",
    "model = pipeline.fit(transformed_data)\n",
    "print(f\"Model created in {time.time()-start:.2f}s.\")\n",
    "m_metrics_l(model,transformed_test)\n",
    "print(f\"Total time {time.time()-start:.2f}s.\")"
   ]
  },
  {
   "attachments": {},
   "cell_type": "markdown",
   "metadata": {},
   "source": [
    "### MultilayerPerceptronClassifier"
   ]
  },
  {
   "cell_type": "code",
   "execution_count": 125,
   "metadata": {},
   "outputs": [
    {
     "name": "stdout",
     "output_type": "stream",
     "text": [
      "Training started.\n",
      "Model created in 1.52s.\n",
      "Precision = 0.8722 Recall = 0.8305 F1 Score = 0.8508\n",
      "Confusion matrix \n",
      " [[ 992  163]\n",
      " [ 227 1112]]\n",
      "Total time 7.29s.\n"
     ]
    }
   ],
   "source": [
    "from pyspark.ml.classification import MultilayerPerceptronClassifier\n",
    "# The input layer must mathc the dimensionality of the input data currently = 1000\n",
    "layers = [1000, 30, 2]\n",
    "\n",
    "# create the trainer and set its parameters\n",
    "cassifier = MultilayerPerceptronClassifier(maxIter=10, layers=layers,featuresCol = \"featuresIDF\", blockSize=128, seed=1234)\n",
    "pipeline = Pipeline(stages=[cassifier])\n",
    "start = time.time()\n",
    "print(f\"Training started.\")\n",
    "model = pipeline.fit(transformed_data)\n",
    "print(f\"Model created in {time.time()-start:.2f}s.\")\n",
    "m_metrics_l(model,transformed_test)\n",
    "print(f\"Total time {time.time()-start:.2f}s.\")"
   ]
  },
  {
   "attachments": {},
   "cell_type": "markdown",
   "metadata": {},
   "source": [
    "# Features Selections\n",
    "In Spark the following Feature Selectors are available\n",
    "- VectorSlicer\n",
    "- RFormula\n",
    "- ChiSqSelector\n",
    "- UnivariateFeatureSelector\n",
    "- VarianceThresholdSelector"
   ]
  },
  {
   "cell_type": "code",
   "execution_count": 93,
   "metadata": {},
   "outputs": [],
   "source": [
    "tokenizer = Tokenizer(inputCol=\"text_c\", outputCol=\"words\",)\n",
    "remover = StopWordsRemover(inputCol=tokenizer.getOutputCol(), outputCol=\"filtered\")\n",
    "countVectorizer = CountVectorizer(inputCol=remover.getOutputCol(), outputCol=\"rawFeatures\", vocabSize=1000)\n",
    "idf = IDF(inputCol=countVectorizer.getOutputCol(), outputCol=\"featuresIDF\")\n",
    "selector = ChiSqSelector(numTopFeatures=200, featuresCol=idf.getOutputCol(), outputCol=\"features\", labelCol=\"label\")\n",
    "# Crate a preprocessing pipeline wiht 5 stages\n",
    "pipeline_p = Pipeline(stages=[tokenizer,remover, countVectorizer, idf,selector])\n",
    "# Learn the data preprocessing model\n",
    "data_model = pipeline_p.fit(df)"
   ]
  },
  {
   "cell_type": "code",
   "execution_count": 94,
   "metadata": {},
   "outputs": [
    {
     "data": {
      "text/html": [
       "<div>\n",
       "<style scoped>\n",
       "    .dataframe tbody tr th:only-of-type {\n",
       "        vertical-align: middle;\n",
       "    }\n",
       "\n",
       "    .dataframe tbody tr th {\n",
       "        vertical-align: top;\n",
       "    }\n",
       "\n",
       "    .dataframe thead th {\n",
       "        text-align: right;\n",
       "    }\n",
       "</style>\n",
       "<table border=\"1\" class=\"dataframe\">\n",
       "  <thead>\n",
       "    <tr style=\"text-align: right;\">\n",
       "      <th></th>\n",
       "      <th>text</th>\n",
       "      <th>sentiment</th>\n",
       "      <th>label</th>\n",
       "      <th>text_c</th>\n",
       "      <th>weight</th>\n",
       "      <th>words</th>\n",
       "      <th>filtered</th>\n",
       "      <th>rawFeatures</th>\n",
       "      <th>featuresIDF</th>\n",
       "      <th>features</th>\n",
       "    </tr>\n",
       "  </thead>\n",
       "  <tbody>\n",
       "    <tr>\n",
       "      <th>0</th>\n",
       "      <td>Så som i himmelen  .. as above so below.. tha...</td>\n",
       "      <td>positive</td>\n",
       "      <td>1</td>\n",
       "      <td>som   himmelen     above   below that very ...</td>\n",
       "      <td>0.506007</td>\n",
       "      <td>[, , , som, , , himmelen, , , , , above, , , b...</td>\n",
       "      <td>[, , , som, , , himmelen, , , , , , , special,...</td>\n",
       "      <td>(77.0, 0.0, 4.0, 1.0, 0.0, 0.0, 0.0, 0.0, 0.0,...</td>\n",
       "      <td>(0.015166436921203202, 0.0, 2.4572384294370635...</td>\n",
       "      <td>(0.0, 0.513948828408791, 0.0, 0.0, 3.741203234...</td>\n",
       "    </tr>\n",
       "    <tr>\n",
       "      <th>1</th>\n",
       "      <td>While sporadically engrossing (including a fe...</td>\n",
       "      <td>negative</td>\n",
       "      <td>0</td>\n",
       "      <td>while sporadically engrossing including   fe...</td>\n",
       "      <td>0.493993</td>\n",
       "      <td>[, , while, sporadically, engrossing, includin...</td>\n",
       "      <td>[, , sporadically, engrossing, including, , , ...</td>\n",
       "      <td>(72.0, 0.0, 3.0, 3.0, 0.0, 3.0, 0.0, 0.0, 0.0,...</td>\n",
       "      <td>(0.014181603354891307, 0.0, 1.8429288220777975...</td>\n",
       "      <td>(0.0, 1.541846485226373, 2.3927342982952755, 0...</td>\n",
       "    </tr>\n",
       "  </tbody>\n",
       "</table>\n",
       "</div>"
      ],
      "text/plain": [
       "                                                text sentiment  label  \\\n",
       "0   Så som i himmelen  .. as above so below.. tha...  positive      1   \n",
       "1   While sporadically engrossing (including a fe...  negative      0   \n",
       "\n",
       "                                              text_c    weight  \\\n",
       "0     som   himmelen     above   below that very ...  0.506007   \n",
       "1    while sporadically engrossing including   fe...  0.493993   \n",
       "\n",
       "                                               words  \\\n",
       "0  [, , , som, , , himmelen, , , , , above, , , b...   \n",
       "1  [, , while, sporadically, engrossing, includin...   \n",
       "\n",
       "                                            filtered  \\\n",
       "0  [, , , som, , , himmelen, , , , , , , special,...   \n",
       "1  [, , sporadically, engrossing, including, , , ...   \n",
       "\n",
       "                                         rawFeatures  \\\n",
       "0  (77.0, 0.0, 4.0, 1.0, 0.0, 0.0, 0.0, 0.0, 0.0,...   \n",
       "1  (72.0, 0.0, 3.0, 3.0, 0.0, 3.0, 0.0, 0.0, 0.0,...   \n",
       "\n",
       "                                         featuresIDF  \\\n",
       "0  (0.015166436921203202, 0.0, 2.4572384294370635...   \n",
       "1  (0.014181603354891307, 0.0, 1.8429288220777975...   \n",
       "\n",
       "                                            features  \n",
       "0  (0.0, 0.513948828408791, 0.0, 0.0, 3.741203234...  \n",
       "1  (0.0, 1.541846485226373, 2.3927342982952755, 0...  "
      ]
     },
     "execution_count": 94,
     "metadata": {},
     "output_type": "execute_result"
    }
   ],
   "source": [
    "# Transform\n",
    "transformed_data = data_model.transform(df)\n",
    "transformed_data.toPandas().head(2)"
   ]
  },
  {
   "cell_type": "code",
   "execution_count": 96,
   "metadata": {},
   "outputs": [
    {
     "data": {
      "text/html": [
       "<div>\n",
       "<style scoped>\n",
       "    .dataframe tbody tr th:only-of-type {\n",
       "        vertical-align: middle;\n",
       "    }\n",
       "\n",
       "    .dataframe tbody tr th {\n",
       "        vertical-align: top;\n",
       "    }\n",
       "\n",
       "    .dataframe thead th {\n",
       "        text-align: right;\n",
       "    }\n",
       "</style>\n",
       "<table border=\"1\" class=\"dataframe\">\n",
       "  <thead>\n",
       "    <tr style=\"text-align: right;\">\n",
       "      <th></th>\n",
       "      <th>text</th>\n",
       "      <th>sentiment</th>\n",
       "      <th>label</th>\n",
       "      <th>text_c</th>\n",
       "      <th>words</th>\n",
       "      <th>filtered</th>\n",
       "      <th>rawFeatures</th>\n",
       "      <th>featuresIDF</th>\n",
       "      <th>features</th>\n",
       "    </tr>\n",
       "  </thead>\n",
       "  <tbody>\n",
       "    <tr>\n",
       "      <th>0</th>\n",
       "      <td>'Don't Look In the Basement' is so easy to kno...</td>\n",
       "      <td>positive</td>\n",
       "      <td>1</td>\n",
       "      <td>do nt look   the basement    easy   knock but ...</td>\n",
       "      <td>[do, nt, look, , , the, basement, , , , easy, ...</td>\n",
       "      <td>[nt, look, , , basement, , , , easy, , , knock...</td>\n",
       "      <td>(63.0, 0.0, 0.0, 4.0, 1.0, 1.0, 0.0, 0.0, 0.0,...</td>\n",
       "      <td>(0.012408902935529893, 0.0, 0.0, 2.05579531363...</td>\n",
       "      <td>(0.0, 2.055795313635164, 0.7975780994317585, 0...</td>\n",
       "    </tr>\n",
       "    <tr>\n",
       "      <th>1</th>\n",
       "      <td>*Flat SPOILERS* &lt;br /&gt;&lt;br /&gt;Five med students,...</td>\n",
       "      <td>positive</td>\n",
       "      <td>1</td>\n",
       "      <td>flat spoilers five med students nelson kiefer ...</td>\n",
       "      <td>[flat, spoilers, five, med, students, nelson, ...</td>\n",
       "      <td>[flat, spoilers, five, med, students, nelson, ...</td>\n",
       "      <td>(67.0, 1.0, 0.0, 0.0, 1.0, 1.0, 0.0, 2.0, 1.0,...</td>\n",
       "      <td>(0.01319676978857941, 0.5042821683885013, 0.0,...</td>\n",
       "      <td>(0.5042821683885013, 0.0, 0.7975780994317585, ...</td>\n",
       "    </tr>\n",
       "  </tbody>\n",
       "</table>\n",
       "</div>"
      ],
      "text/plain": [
       "                                                text sentiment  label  \\\n",
       "0  'Don't Look In the Basement' is so easy to kno...  positive      1   \n",
       "1  *Flat SPOILERS* <br /><br />Five med students,...  positive      1   \n",
       "\n",
       "                                              text_c  \\\n",
       "0  do nt look   the basement    easy   knock but ...   \n",
       "1  flat spoilers five med students nelson kiefer ...   \n",
       "\n",
       "                                               words  \\\n",
       "0  [do, nt, look, , , the, basement, , , , easy, ...   \n",
       "1  [flat, spoilers, five, med, students, nelson, ...   \n",
       "\n",
       "                                            filtered  \\\n",
       "0  [nt, look, , , basement, , , , easy, , , knock...   \n",
       "1  [flat, spoilers, five, med, students, nelson, ...   \n",
       "\n",
       "                                         rawFeatures  \\\n",
       "0  (63.0, 0.0, 0.0, 4.0, 1.0, 1.0, 0.0, 0.0, 0.0,...   \n",
       "1  (67.0, 1.0, 0.0, 0.0, 1.0, 1.0, 0.0, 2.0, 1.0,...   \n",
       "\n",
       "                                         featuresIDF  \\\n",
       "0  (0.012408902935529893, 0.0, 0.0, 2.05579531363...   \n",
       "1  (0.01319676978857941, 0.5042821683885013, 0.0,...   \n",
       "\n",
       "                                            features  \n",
       "0  (0.0, 2.055795313635164, 0.7975780994317585, 0...  \n",
       "1  (0.5042821683885013, 0.0, 0.7975780994317585, ...  "
      ]
     },
     "execution_count": 96,
     "metadata": {},
     "output_type": "execute_result"
    }
   ],
   "source": [
    "# Transfomr the test data\n",
    "transformed_test = data_model.transform(test)\n",
    "transformed_test.toPandas().head(2)"
   ]
  },
  {
   "cell_type": "code",
   "execution_count": 98,
   "metadata": {},
   "outputs": [
    {
     "name": "stdout",
     "output_type": "stream",
     "text": [
      "Training started.\n",
      "Model created in 0.85s.\n",
      "Precision = 0.8620 Recall = 0.8105 F1 Score = 0.8354\n",
      "Confusion matrix \n",
      " [[ 962  176]\n",
      " [ 257 1099]]\n",
      "Total time 6.41s.\n"
     ]
    }
   ],
   "source": [
    "cassifier = LogisticRegression(maxIter=5, featuresCol = \"features\")\n",
    "start = time.time()\n",
    "pipeline = Pipeline(stages=[cassifier])\n",
    "print(f\"Training started.\")\n",
    "model = pipeline.fit(transformed_data)\n",
    "print(f\"Model created in {time.time()-start:.2f}s.\")\n",
    "m_metrics_l(model,transformed_test)\n",
    "print(f\"Total time {time.time()-start:.2f}s.\")"
   ]
  }
 ],
 "metadata": {
  "kernelspec": {
   "display_name": "spark",
   "language": "python",
   "name": "python3"
  },
  "language_info": {
   "codemirror_mode": {
    "name": "ipython",
    "version": 3
   },
   "file_extension": ".py",
   "mimetype": "text/x-python",
   "name": "python",
   "nbconvert_exporter": "python",
   "pygments_lexer": "ipython3",
   "version": "3.10.4"
  },
  "orig_nbformat": 4,
  "vscode": {
   "interpreter": {
    "hash": "9db6cbf0fd79f8e79653fe7b0c50b956ca6e525ee712295da3c66f75e4fe96ce"
   }
  }
 },
 "nbformat": 4,
 "nbformat_minor": 2
}
